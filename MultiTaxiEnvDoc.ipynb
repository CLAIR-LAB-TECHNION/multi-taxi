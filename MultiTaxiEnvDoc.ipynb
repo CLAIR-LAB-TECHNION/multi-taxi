{
 "cells": [
  {
   "cell_type": "markdown",
   "id": "5d6396a7",
   "metadata": {
    "slideshow": {
     "slide_type": "slide"
    },
    "tags": []
   },
   "source": [
    "# Multi-Taxi Environment Demonstration\n",
    "\n",
    "[![Open In Colab](https://colab.research.google.com/assets/colab-badge.svg)](https://colab.research.google.com/github/sarah-keren/multi_taxi/blob/main/MultiTaxiEnvDoc.ipynb)\n",
    "\n",
    "## In the followin example we will demonstrate:\n",
    "1. Setting up the environment, and general view of the map.\n",
    "2. Doc the adjustable parameters.\n",
    "3. The different formats of observations.\n",
    "4. Show how to change the reward table."
   ]
  },
  {
   "cell_type": "code",
   "execution_count": 1,
   "id": "f2003c0f",
   "metadata": {
    "slideshow": {
     "slide_type": "slide"
    },
    "tags": []
   },
   "outputs": [],
   "source": [
    "# installing easily via pip\n",
    "# !pip install -q 'git+https://github.com/sarah-keren/multi-taxi'"
   ]
  },
  {
   "cell_type": "markdown",
   "id": "ff5dfbc1",
   "metadata": {
    "tags": []
   },
   "source": [
    "### Environment's Parameters\n",
    "1. <code>num_taxis</code> - the number of taxis operating in the envorinment. _default=1_.\n",
    "2. <code>num_passengers</code> - the number of passengers to drive in the envorinment. _default=1_.\n",
    "3. <code>max_fuel</code> - if <code>None</code> - each taxi has unlimited fuel to spent, else, this is the amount of fuel in a full-tank, and this amount decreases by 1 in each timestep unless taxis fill their tank at the station with a special action._default=<code>None</code>_.\n",
    "4. <code>domain_map</code> - array of chars, representing the environment map with special characters for taxis initilized spots and fuel stations. _default=pre-defined map_.\n",
    "5. <code>taxis_capacity</code> - a list of integers, where the i'th element represents the i'th taxi's passengers limit, where <code>None</code> represents unlimitted capacity. _default=None_.\n",
    "6. <code>collision_sensitive_domain</code> - if <code>True</code> - taxis that move to the same grid point in the map - collide and stop their operation, otherwise, there can be multiple taxis at the same grid point. _default=False_.\n",
    "7. <code>fuel_type_list</code> - a list of either 'F' or 'G', where each element represents the fuel type of each taxi (F for *F*uel and G for *G*as), if <code>None</code> - all are fuel. _default=None_.\n",
    "8. <code>option_to_stand_by</code> - if <code>True</code> - taxis have the option to take *no_action*. _default=False_.\n",
    "9. <code>view_len</code> - relevant for image observations, defines the size of the window of sight of the taxis' observations, _default=2_.\n",
    "10. <code>rewards_table</code> - a dictionary that defines changes in the original reward table, see description below, _default=default_reward_table_.\n",
    "11. <code>observation_type</code> - either 'symbolic' or 'image', indicating the type of observations to the taxis, _default='symbolic'.\n",
    "12. <code>can_see_others</code> - If <code>True</code> and in symbolic observations mode, taxis will have other taxis' locations in their observations. _default=<code>False</code>,_. Note that in image oservations taxis can always see each other.\n",
    "13. `stochastic_action_function` - A function that defines stochastic actions for all taxis. the inputis the desired action name and the output is any valid action name. see `actions_utils.StochasticActionFunction` for an example. Can be a dictionary of stochastic action functions in the format taxi_name --> stochastic_action_function_for_taxi. This will cause different taxis to have different action stochasticity. Taxis that do not appear in the dictionary will have deterministic actions. Invalid taxi names will be ignored. Default value is `None`, meaning all actions are deterministic for all taxis.\n",
    "14. `pickup_only` - Simplifies the problem to only pick up all passengers, without needing dropping them off. _default=False_"
   ]
  },
  {
   "cell_type": "code",
   "execution_count": 2,
   "id": "1dafd282",
   "metadata": {},
   "outputs": [
    {
     "name": "stderr",
     "output_type": "stream",
     "text": [
      "\n"
     ]
    },
    {
     "name": "stdout",
     "output_type": "stream",
     "text": [
      "+-----------------------+\n",
      "| : |F: | : | : | : |F: |\n",
      "|\u001b[32m \u001b[0m:\u001b[47m_\u001b[0m| : : : | : | : | : |\n",
      "| : : : : : :\u001b[41m_\u001b[0m: : : : :\u001b[43m_\u001b[0m|\n",
      "| : : : : :\u001b[32;1m \u001b[0m| : : : : : |\n",
      "| : : : :\u001b[32;1m \u001b[0m: |\u001b[32m \u001b[0m: : : : : |\n",
      "| : : : : : : : : : : : |\n",
      "| | :G| | | :G| | | : | |\n",
      "+-----------------------+\n",
      "Taxi0-YELLOW: Fuel: 30, Location: (2,11), Collided: False\n",
      "Taxi1-RED: Fuel: 50, Location: (2,6), Collided: False\n",
      "Taxi2-WHITE: Fuel: 25, Location: (1,1), Collided: False\n",
      "Passenger1: Location: (4, 4), Destination: (4, 6)\n",
      "Passenger2: Location: (3, 5), Destination: (1, 0)\n",
      "Done: False, {'taxi_0': False, 'taxi_1': False, 'taxi_2': False, '__all__': False}\n",
      "Passengers Status's: [2, 2]\n",
      "\n",
      "taxi observation space: MultiDiscrete([ 7 12 51  7 12  7 12  7 12  7 12  6  6])\n",
      "taxi action space: Discrete(11)\n",
      "taxi possible actions: {0: 'south', 1: 'north', 2: 'east', 3: 'west', 4: 'pickup', 5: 'dropoff0', 6: 'dropoff1', 7: 'turn_engine_on', 8: 'turn_engine_off', 9: 'standby', 10: 'refuel'}\n"
     ]
    }
   ],
   "source": [
    "from MultiTaxiLib.taxi_environment import TaxiEnv\n",
    "\n",
    "env_instance = TaxiEnv(num_taxis=3,                  # 3 taxi agents in the environment\n",
    "                       num_passengers=2,             # 2 passengers in the environment\n",
    "                       max_fuel = [30, 50, 25],      # taxi1 has a capacity of 30 fuel units, tax2 has 50, and taxi3 has 25\n",
    "                       taxis_capacity=None,          # unlimited passenger capacity for all taxis\n",
    "                       option_to_stand_by=True,      # taxis can turn the engin on/off and perform a standby action\n",
    "                       observation_type='symbolic',  # accepting symbolic (vector) observations\n",
    "                       can_see_others=False)         # cannot see other taxis (but also not collision sensitive)\n",
    "env_instance.render()\n",
    "\n",
    "print()\n",
    "print(f'taxi observation space: {env_instance.observation_space}')\n",
    "print(f'taxi action space: {env_instance.action_space}')\n",
    "print(f'taxi possible actions: {env_instance.index_action_dictionary}')"
   ]
  },
  {
   "cell_type": "markdown",
   "id": "2786ed22",
   "metadata": {},
   "source": [
    "### Observations\n",
    "The observations returned as a dictionary with the keys being \"taxi_{i}\", such that each item is the observation of agent \"i\", starting with i=1.\n",
    "\n",
    "An observation could be either an image, which is a window of sight for the agent, or a sybolic vector consists of:\n",
    "<code>[\n",
    "    taxi_row, taxi_col,\n",
    "    \\<other_taxi_row\\>, \\<other_taxi_col\\>...,\n",
    "    taxi_fuel, \n",
    "    passenger1_row, passenger1_col... passenger_n_row, passenger_n_col,\n",
    "    passenger1_dest_row, passenger1_dest_col... passenger_n_dest_row, passenger_n_dest_col,\n",
    "    passenger1_status... passenger_n_status,\n",
    "]</code>\n",
    "    \n",
    "* `taxi_row, taxi_col` - the row and column location of the observing taxi in the map, zero indexed.\n",
    "* `other_taxi_row, other_taxi_col` **OPTIONAL** - the row and column location of other taxis in the map. the locations are ordered by taxi ID. the observing taxi location is excluded here (which appears in the beginning of the vector). these features appear only if `can_see_others` is set to `True`.\n",
    "* `taxi_fuel` - a non-negative integer indicating the amount of fuel left for the observing taxi. 1 unit of fuel is depleted in every time-step. If `max_fuel` is not specified, this value is 0.\n",
    "* `passenger{i}_row, passenger{i}_col` - the row and column location of the passenger with ID `i` in the map, zero indexed.\n",
    "* `passenger{i}_dest_row, passenger{i}_dest_col` - the desired row and column location of the passenger with ID `i` in the map, zero indexed.\n",
    "* `passenger{i}_status` - a number between `1` and `num_taxis + 3` representing the current status of the passenger with ID `i`. if `1`, the passenger has arrived at the desired destination. if `2`, the passenger is not aboard any taxi and has not yet arrived at its destination. otherwise, the passenger is in taxi `passenger{i}_status - 2`"
   ]
  },
  {
   "cell_type": "code",
   "execution_count": 3,
   "id": "57efb548",
   "metadata": {},
   "outputs": [
    {
     "name": "stdout",
     "output_type": "stream",
     "text": [
      "Symbolic Vector Observation no others:\n",
      "[4 5 3 5 0 7 2]\n",
      "+-----------------------+\n",
      "| :\u001b[43m_\u001b[0m|F: | : | :\u001b[32m \u001b[0m| : |F: |\n",
      "| : | : : : | : | : | : |\n",
      "| : : : : : : : : : : : |\n",
      "| : : : : :\u001b[32;1m \u001b[0m| : : : : : |\n",
      "| : : : : :\u001b[41m_\u001b[0m| : : : : : |\n",
      "| : : : : : : : : : : : |\n",
      "| | :G| | | :G| | | : | |\n",
      "+-----------------------+\n",
      "Taxi0-YELLOW: Fuel: inf, Location: (0,1), Collided: False\n",
      "Taxi1-RED: Fuel: inf, Location: (4,5), Collided: False\n",
      "Passenger1: Location: (3, 5), Destination: (0, 7)\n",
      "Done: False, {'taxi_0': False, 'taxi_1': False, '__all__': False}\n",
      "Passengers Status's: [2]\n",
      "\n",
      "Symbolic Vector Observation with others:\n",
      "[6 3 6 8 1 2 2 8 2]\n",
      "+-----------------------+\n",
      "| : |F: | : | : | : |F: |\n",
      "| : |\u001b[32;1m \u001b[0m: : : | : | : | : |\n",
      "| : : : : : : : :\u001b[32m \u001b[0m: : : |\n",
      "| : : : : : | : : : : : |\n",
      "| : : : : : | : : : : : |\n",
      "| : : : : : : : : : : : |\n",
      "| | :G|\u001b[41m_\u001b[0m| | :G| |\u001b[43m_\u001b[0m| : | |\n",
      "+-----------------------+\n",
      "Taxi0-YELLOW: Fuel: inf, Location: (6,8), Collided: False\n",
      "Taxi1-RED: Fuel: inf, Location: (6,3), Collided: False\n",
      "Passenger1: Location: (1, 2), Destination: (2, 8)\n",
      "Done: False, {'taxi_0': False, 'taxi_1': False, '__all__': False}\n",
      "Passengers Status's: [2]\n",
      "\n",
      "Image Observation:\n",
      "+-----------------------+\n",
      "| :\u001b[43m_\u001b[0m|F: | : | : | : |F: |\n",
      "| : | : : : | : | : | : |\n",
      "| : : : : : : : : : : : |\n",
      "|\u001b[32m \u001b[0m: : : : : | : : : : : |\n",
      "|\u001b[32;1m \u001b[0m: : : : : | : : :\u001b[41m_\u001b[0m: : |\n",
      "| : : : : : : : : : : : |\n",
      "| | :G| | | :G| | | : | |\n",
      "+-----------------------+\n",
      "Taxi0-YELLOW: Fuel: inf, Location: (0,1), Collided: False\n",
      "Taxi1-RED: Fuel: inf, Location: (4,9), Collided: False\n",
      "Passenger1: Location: (4, 0), Destination: (3, 0)\n",
      "Done: False, {'taxi_0': False, 'taxi_1': False, '__all__': False}\n",
      "Passengers Status's: [2]\n"
     ]
    },
    {
     "data": {
      "image/png": "[encoded data removed]",
      "text/plain": [
       "<Figure size 432x288 with 1 Axes>"
      ]
     },
     "metadata": {
      "needs_background": "light"
     },
     "output_type": "display_data"
    },
    {
     "data": {
      "image/png": "[encoded data removed]",
      "text/plain": [
       "<Figure size 432x288 with 1 Axes>"
      ]
     },
     "metadata": {
      "needs_background": "light"
     },
     "output_type": "display_data"
    }
   ],
   "source": [
    "import matplotlib.pyplot as plt\n",
    "\n",
    "# symbolic observations WITHOUT awareness of other taxis in the environment\n",
    "env_instance_symbolic_obs_no_others = TaxiEnv(num_taxis=2, observation_type='symbolic', can_see_others=False)\n",
    "print(f\"Symbolic Vector Observation no others:\\n{env_instance_symbolic_obs_no_others.reset()['taxi_1']}\")\n",
    "env_instance_symbolic_obs_no_others.render()\n",
    "\n",
    "# symbolic observations WITH awareness of other taxis in the environment\n",
    "env_instance_symbolic_obs_with_others = TaxiEnv(num_taxis=2, observation_type='symbolic', can_see_others=True)\n",
    "print()\n",
    "print(f\"Symbolic Vector Observation with others:\\n{env_instance_symbolic_obs_with_others.reset()['taxi_1']}\")\n",
    "env_instance_symbolic_obs_with_others.render()\n",
    "\n",
    "# image observations\n",
    "print()\n",
    "print(\"Image Observation:\")\n",
    "env_instance_image_obs = TaxiEnv(num_taxis=2, observation_type='image')\n",
    "obs = env_instance_image_obs.reset()\n",
    "env_instance_image_obs.render()\n",
    "\n",
    "plt.figure()\n",
    "plt.title('taxi 0 observation')\n",
    "plt.imshow(obs['taxi_0'])\n",
    "\n",
    "plt.figure()\n",
    "plt.title('taxi 1 observation')\n",
    "plt.imshow(obs['taxi_1'])\n",
    "plt.show()"
   ]
  },
  {
   "cell_type": "markdown",
   "id": "d0d75bd9",
   "metadata": {},
   "source": [
    "__Note:__ In image observations, fuel and gas station will have distinct colors (pink and purple), and passengers current locations and destinations will have close colors by values.\n",
    "\n",
    "__Also, note:__ In symbolic observations, we can choose wether taxis are aware of each other via the hyper parameter <code>can_see_others</code>."
   ]
  },
  {
   "cell_type": "markdown",
   "id": "0091029f",
   "metadata": {},
   "source": [
    "### Changing the Reward Table"
   ]
  },
  {
   "cell_type": "markdown",
   "id": "d5a8fee8",
   "metadata": {},
   "source": [
    "The default reward table is:\n",
    "<code>\n",
    "    dict(\n",
    "    step=-1,  # default reward for each timestep.\n",
    "    no_fuel=-1,  # for reaching \"no fuel\" state.\n",
    "    bad_pickup=-1,  # for pickup an empty cell or tries to pickup passenger when reached its capacity.\n",
    "    bad_dropoff=-1,  # for dropping off passenger in farther point than it was before.\n",
    "    bad_refuel=-1,  # for trying to fuel outside the fuel station.\n",
    "    pickup=-1,  # for picking up.\n",
    "    standby_engine_off=-1,  # for standing by with an off engine.\n",
    "    turn_engine_on=-1,  # for turning engine on.\n",
    "    turn_engine_off=-1,  # for turning engine off.\n",
    "    standby_engine_on=-1,  # for standing by with engine on.\n",
    "    intermediate_dropoff=2,  # for getting passenger closer to its destination.\n",
    "    final_dropoff=100,  # for dropping passenger in its destination.\n",
    "    hit_wall=-1,  # for hitting a wall.\n",
    "    collision=-1, # for performing a collision, this is given in the collision timestep.\n",
    "    collided=-1,  # for being in a collided status, this is given in the timesteps after the collision.\n",
    ")</code>\n",
    "\n",
    "Note that it is intended to be very elaborate. In the default version, the taxis get <code>-1</code> for default actions and \"time that goes by\", and this apply for many scenarios, s.t bad_pickup, standby, step...\n",
    "\n",
    "We can use this elaboration in our advantage for customizing this dictionary (or only the parts of it that we would like to change, and then initialize an environment with our reward table of interest.\n",
    "\n",
    "#### In the next example we'll initialize an environment where we speciall penalize taxis for making <code>bad_pickup</code> tries, all other rewards are the same."
   ]
  },
  {
   "cell_type": "code",
   "execution_count": 4,
   "id": "84f2679a",
   "metadata": {},
   "outputs": [
    {
     "name": "stdout",
     "output_type": "stream",
     "text": [
      "+-----------------------+\n",
      "| : |F: | : | : | : |F: |\n",
      "| : | : : : | : | : | : |\n",
      "| : :\u001b[32;1m \u001b[0m: : : : : : : : : |\n",
      "| : : : : : | : : : : : |\n",
      "| : : : :\u001b[32m \u001b[0m: |\u001b[43m_\u001b[0m: : : : : |\n",
      "| : : : : : : : : : : : |\n",
      "| | :G| | | :G| | | : | |\n",
      "+-----------------------+\n",
      "Taxi0-YELLOW: Fuel: inf, Location: (4,6), Collided: False\n",
      "Passenger1: Location: (2, 2), Destination: (4, 4)\n",
      "Done: False, {'taxi_0': False, '__all__': False}\n",
      "Passengers Status's: [2]\n",
      "\n",
      "reward for bad pickup: -50\n"
     ]
    }
   ],
   "source": [
    "# set custom reward for \"bad_pickup\"\n",
    "customized_reward = dict(bad_pickup=-50)\n",
    "env_instance = TaxiEnv(rewards_table=customized_reward)\n",
    "env_instance.reset()\n",
    "\n",
    "# do pickup action immediately after reset\n",
    "obs, rewards, dones, _ = env_instance.step({'taxi_0': 4})\n",
    "env_instance.render()\n",
    "\n",
    "# see custom reward\n",
    "print(f'\\nreward for bad pickup: {rewards[\"taxi_0\"]}')"
   ]
  },
  {
   "cell_type": "markdown",
   "id": "d91e3f68-82b9-46dd-81b6-2f094bf98209",
   "metadata": {},
   "source": [
    "### Stochastic Transitions\n",
    "\n",
    "Setting the `stochastic_action_function` parameter adds a chance to fail performing the desired action. A stochastic function is any function that takes an action name and returns a new action name. To define a stochastic action function with a discrete action distribution, we can use `taxi_utils.StochasticActionFunction`, which accepts a dictionary probability distribution as initialization input is a callable function that will sample the actions according to the distribution.\n",
    "\n",
    "In the below example, we define a probability distribution for the taxi's acitons. for taxi 1, there is a 50% chance of moving horizontally when performing a vertical advance action. taxi 2 has a 50% chance of moving vertically when trying to move horizontally. All other actions are deterministic, including taxi 3's actions.\n",
    "\n",
    "NOTE: we can also provide a single callable as `stochastic_aciton_function` which would affect all taxis."
   ]
  },
  {
   "cell_type": "code",
   "execution_count": 5,
   "id": "c842060e-3dac-4b28-8b19-1ecc38bb7b8e",
   "metadata": {},
   "outputs": [
    {
     "name": "stdout",
     "output_type": "stream",
     "text": [
      "+-----------------------+\n",
      "| : |F: | :\u001b[32m \u001b[0m| : | : |F: |\n",
      "| : | :\u001b[47m_\u001b[0m: : | : | : | : |\n",
      "| : : : :\u001b[32;1m \u001b[0m: : : :\u001b[43m_\u001b[0m:\u001b[41m_\u001b[0m: : |\n",
      "| : : : : : | : : : : : |\n",
      "| : : : : : | : : : : : |\n",
      "| : : : : : : : : : : : |\n",
      "| | :G| | | :G| | | : | |\n",
      "+-----------------------+\n",
      "Taxi0-YELLOW: Fuel: inf, Location: (2,8), Collided: False\n",
      "Taxi1-RED: Fuel: inf, Location: (2,9), Collided: False\n",
      "Taxi2-WHITE: Fuel: inf, Location: (1,3), Collided: False\n",
      "Passenger1: Location: (2, 4), Destination: (0, 5)\n",
      "Done: False, {'taxi_0': False, 'taxi_1': False, 'taxi_2': False, '__all__': False}\n",
      "Passengers Status's: [2]\n"
     ]
    }
   ],
   "source": [
    "from MultiTaxiLib.taxi_utils import StochasticActionFunction\n",
    "\n",
    "# define a conditional action distributions for each taxi\n",
    "taxi0_action_dist = {\n",
    "    'north': {'north': 0.5, 'east': 0.25, 'west': 0.25},\n",
    "    'south': {'south': 0.5, 'east': 0.25, 'west': 0.25}\n",
    "}\n",
    "taxi1_action_dist = {\n",
    "    'east': {'east': 0.5, 'north': 0.25, 'south': 0.25},\n",
    "    'west': {'west': 0.5, 'north': 0.25, 'south': 0.25}\n",
    "}\n",
    "\n",
    "# create a different stochast\n",
    "f0 = StochasticActionFunction(taxi0_action_dist)\n",
    "f1 = StochasticActionFunction(taxi1_action_dist)\n",
    "\n",
    "# create an environment with stochastic functions f1,f2 for taxis 1 and 2 respectively. \n",
    "stochastic_env = TaxiEnv(num_taxis=3, stochastic_action_function={'taxi_0': f0, 'taxi_1': f1})\n",
    "stochastic_env.reset()\n",
    "stochastic_env.render()"
   ]
  },
  {
   "cell_type": "code",
   "execution_count": 6,
   "id": "5b23a225-79f0-4e60-9f3c-6bf67160e595",
   "metadata": {},
   "outputs": [
    {
     "name": "stdout",
     "output_type": "stream",
     "text": [
      "+-----------------------+\n",
      "| : |F: | :\u001b[32m \u001b[0m| : | : |F: |\n",
      "| : | : : : | : | :\u001b[41m_\u001b[0m| : |\n",
      "| : : :\u001b[47m_\u001b[0m:\u001b[32;1m \u001b[0m: : :\u001b[43m_\u001b[0m: : : : |\n",
      "| : : : : : | : : : : : |\n",
      "| : : : : : | : : : : : |\n",
      "| : : : : : : : : : : : |\n",
      "| | :G| | | :G| | | : | |\n",
      "+-----------------------+\n",
      "Taxi0-YELLOW: Fuel: inf, Location: (2,7), Collided: False\n",
      "Taxi1-RED: Fuel: inf, Location: (1,9), Collided: False\n",
      "Taxi2-WHITE: Fuel: inf, Location: (2,3), Collided: False\n",
      "Passenger1: Location: (2, 4), Destination: (0, 5)\n",
      "Done: False, {'taxi_0': False, 'taxi_1': False, 'taxi_2': False, '__all__': False}\n",
      "Passengers Status's: [2]\n",
      "taxi_0 info: {'last_chosen_actions': ['south'], 'last_performed_transitions': ['west']}\n",
      "taxi_1 info: {'last_chosen_actions': ['west'], 'last_performed_transitions': ['north']}\n",
      "taxi_2 info: {'last_chosen_actions': ['south'], 'last_performed_transitions': ['south']}\n",
      "+-----------------------+\n",
      "| : |F: | :\u001b[32m \u001b[0m| : | :\u001b[41m_\u001b[0m|F: |\n",
      "| : | : : : | : | : | : |\n",
      "| : : : :\u001b[32;1m \u001b[0m: : : : : : : |\n",
      "| : : :\u001b[47m_\u001b[0m: : | :\u001b[43m_\u001b[0m: : : : |\n",
      "| : : : : : | : : : : : |\n",
      "| : : : : : : : : : : : |\n",
      "| | :G| | | :G| | | : | |\n",
      "+-----------------------+\n",
      "Taxi0-YELLOW: Fuel: inf, Location: (3,7), Collided: False\n",
      "Taxi1-RED: Fuel: inf, Location: (0,9), Collided: False\n",
      "Taxi2-WHITE: Fuel: inf, Location: (3,3), Collided: False\n",
      "Passenger1: Location: (2, 4), Destination: (0, 5)\n",
      "Done: False, {'taxi_0': False, 'taxi_1': False, 'taxi_2': False, '__all__': False}\n",
      "Passengers Status's: [2]\n",
      "taxi_0 info: {'last_chosen_actions': ['south'], 'last_performed_transitions': ['south']}\n",
      "taxi_1 info: {'last_chosen_actions': ['west'], 'last_performed_transitions': ['north']}\n",
      "taxi_2 info: {'last_chosen_actions': ['south'], 'last_performed_transitions': ['south']}\n",
      "+-----------------------+\n",
      "| : |F: | :\u001b[32m \u001b[0m| : |\u001b[41m_\u001b[0m: |F: |\n",
      "| : | : : : | : | : | : |\n",
      "| : : : :\u001b[32;1m \u001b[0m: : : : : : : |\n",
      "| : : : : : | : :\u001b[43m_\u001b[0m: : : |\n",
      "| : : :\u001b[47m_\u001b[0m: : | : : : : : |\n",
      "| : : : : : : : : : : : |\n",
      "| | :G| | | :G| | | : | |\n",
      "+-----------------------+\n",
      "Taxi0-YELLOW: Fuel: inf, Location: (3,8), Collided: False\n",
      "Taxi1-RED: Fuel: inf, Location: (0,8), Collided: False\n",
      "Taxi2-WHITE: Fuel: inf, Location: (4,3), Collided: False\n",
      "Passenger1: Location: (2, 4), Destination: (0, 5)\n",
      "Done: False, {'taxi_0': False, 'taxi_1': False, 'taxi_2': False, '__all__': False}\n",
      "Passengers Status's: [2]\n",
      "taxi_0 info: {'last_chosen_actions': ['south'], 'last_performed_transitions': ['east']}\n",
      "taxi_1 info: {'last_chosen_actions': ['west'], 'last_performed_transitions': ['west']}\n",
      "taxi_2 info: {'last_chosen_actions': ['south'], 'last_performed_transitions': ['south']}\n",
      "+-----------------------+\n",
      "| : |F: | :\u001b[32m \u001b[0m| : |\u001b[41m_\u001b[0m: |F: |\n",
      "| : | : : : | : | : | : |\n",
      "| : : : :\u001b[32;1m \u001b[0m: : : : : : : |\n",
      "| : : : : : | : : :\u001b[43m_\u001b[0m: : |\n",
      "| : : : : : | : : : : : |\n",
      "| : : :\u001b[47m_\u001b[0m: : : : : : : : |\n",
      "| | :G| | | :G| | | : | |\n",
      "+-----------------------+\n",
      "Taxi0-YELLOW: Fuel: inf, Location: (3,9), Collided: False\n",
      "Taxi1-RED: Fuel: inf, Location: (0,8), Collided: False\n",
      "Taxi2-WHITE: Fuel: inf, Location: (5,3), Collided: False\n",
      "Passenger1: Location: (2, 4), Destination: (0, 5)\n",
      "Done: False, {'taxi_0': False, 'taxi_1': False, 'taxi_2': False, '__all__': False}\n",
      "Passengers Status's: [2]\n",
      "taxi_0 info: {'last_chosen_actions': ['south'], 'last_performed_transitions': ['east']}\n",
      "taxi_1 info: {'last_chosen_actions': ['west'], 'last_performed_transitions': ['north']}\n",
      "taxi_2 info: {'last_chosen_actions': ['south'], 'last_performed_transitions': ['south']}\n",
      "+-----------------------+\n",
      "| : |F: | :\u001b[32m \u001b[0m| : |\u001b[41m_\u001b[0m: |F: |\n",
      "| : | : : : | : | : | : |\n",
      "| : : : :\u001b[32;1m \u001b[0m: : : : : : : |\n",
      "| : : : : : | : : : : : |\n",
      "| : : : : : | : : :\u001b[43m_\u001b[0m: : |\n",
      "| : : : : : : : : : : : |\n",
      "| | :G|\u001b[47m_\u001b[0m| | :G| | | : | |\n",
      "+-----------------------+\n",
      "Taxi0-YELLOW: Fuel: inf, Location: (4,9), Collided: False\n",
      "Taxi1-RED: Fuel: inf, Location: (0,8), Collided: False\n",
      "Taxi2-WHITE: Fuel: inf, Location: (6,3), Collided: False\n",
      "Passenger1: Location: (2, 4), Destination: (0, 5)\n",
      "Done: False, {'taxi_0': False, 'taxi_1': False, 'taxi_2': False, '__all__': False}\n",
      "Passengers Status's: [2]\n",
      "taxi_0 info: {'last_chosen_actions': ['south'], 'last_performed_transitions': ['south']}\n",
      "taxi_1 info: {'last_chosen_actions': ['west'], 'last_performed_transitions': ['west']}\n",
      "taxi_2 info: {'last_chosen_actions': ['south'], 'last_performed_transitions': ['south']}\n"
     ]
    }
   ],
   "source": [
    "# choose an action for each taxi to best demonstrate the stochasticity.\n",
    "joint_action = {\n",
    "    'taxi_0': stochastic_env.action_index_dictionary['south'],\n",
    "    'taxi_1': stochastic_env.action_index_dictionary['west'],\n",
    "    'taxi_2': stochastic_env.action_index_dictionary['south'],\n",
    "}\n",
    "\n",
    "# perform 5 constant actions and see the result\n",
    "for _ in range(5):\n",
    "    _, _, _, info = stochastic_env.step(joint_action)\n",
    "    stochastic_env.render()\n",
    "    \n",
    "    # the info will show us the chosen action and the actual action that was performed\n",
    "    print('taxi_0 info:', info['taxi_0'])\n",
    "    print('taxi_1 info:', info['taxi_1'])\n",
    "    print('taxi_2 info:', info['taxi_2'])  # should always perform the chosen action"
   ]
  },
  {
   "cell_type": "markdown",
   "id": "2016a8c2",
   "metadata": {},
   "source": [
    "### For your convenience, we are also adding a simple example on training RLLib agents (PPO in this case) in our environment"
   ]
  },
  {
   "cell_type": "code",
   "execution_count": 7,
   "id": "29e08fb9",
   "metadata": {},
   "outputs": [
    {
     "name": "stderr",
     "output_type": "stream",
     "text": [
      "2022-03-21 17:20:45,011\tWARNING worker.py:512 -- `ray.get_gpu_ids()` will always return the empty list when called from the driver. This is because Ray does not manage GPU allocations to the driver process.\n",
      ":task_name:bundle_reservation_check_func\n",
      ":actor_name:PPOTrainer\n",
      "2022-03-21 17:20:45,084\tINFO ppo.py:249 -- In multi-agent mode, policies will be optimized sequentially by the multi-GPU optimizer. Consider setting simple_optimizer=True if this doesn't work for you.\n",
      "2022-03-21 17:20:45,085\tINFO trainer.py:790 -- Current log_level is WARN. For more information, set 'log_level': 'INFO' / 'DEBUG' or use the -v and -vv flags.\n",
      ":actor_name:RolloutWorker\n",
      "2022-03-21 17:20:45,169\tWARNING deprecation.py:45 -- DeprecationWarning: `rllib.env.remote_vector_env.RemoteVectorEnv` has been deprecated. Use `ray.rllib.env.remote_base_env.RemoteBaseEnv` instead. This will raise an error in the future!\n",
      ":actor_name:RolloutWorker\n",
      "2022-03-21 17:20:45,211\tWARNING util.py:55 -- Install gputil for GPU system monitoring.\n"
     ]
    },
    {
     "name": "stdout",
     "output_type": "stream",
     "text": [
      ":task_name:bundle_reservation_check_func\n",
      ":actor_name:PPOTrainer\n",
      ":actor_name:RolloutWorker\n",
      ":actor_name:RolloutWorker\n"
     ]
    },
    {
     "name": "stderr",
     "output_type": "stream",
     "text": [
      "2022-03-21 17:20:51,831\tWARNING ppo.py:127 -- No data for taxi_1, not updating kl\n"
     ]
    }
   ],
   "source": [
    "# need torch for this cell, simply run:\n",
    "# !pip install torch\n",
    "import random\n",
    "\n",
    "import ray\n",
    "from ray import tune\n",
    "from ray.rllib.examples.models.shared_weights_model import TorchSharedWeightsModel\n",
    "\n",
    "from ray.rllib.models import ModelCatalog\n",
    "from ray.rllib.policy.policy import PolicySpec\n",
    "from ray.rllib.utils.test_utils import check_learning_achieved\n",
    "\n",
    "ray.init(ignore_reinit_error=True, local_mode=True)\n",
    "\n",
    "# Register the models to use.\n",
    "mod1 = mod2 = TorchSharedWeightsModel\n",
    "ModelCatalog.register_custom_model(\"model1\", mod1)\n",
    "ModelCatalog.register_custom_model(\"model2\", mod2)\n",
    "\n",
    "num_policies = 2\n",
    "num_agents = 2\n",
    "\n",
    "# Each policy can have a different configuration (including custom model).\n",
    "def gen_policy(i):\n",
    "    config = {\n",
    "        \"model\": {\n",
    "            \"custom_model\": [\"model1\", \"model2\"][i % 2],\n",
    "        },\n",
    "        \"gamma\": random.choice([0.95, 0.99]),\n",
    "    }\n",
    "    return PolicySpec(config=config)\n",
    "\n",
    "# Setup PPO with an ensemble of `num_policies` different policies.\n",
    "policies = {\"taxi_{}\".format(i): gen_policy(i) for i in range(num_policies)}\n",
    "policy_ids = list(policies.keys())\n",
    "\n",
    "def policy_mapping_fn(agent_id, episode, worker, **kwargs):\n",
    "    return agent_id\n",
    "\n",
    "config = {\n",
    "    \"env\": TaxiEnv,\n",
    "    \"env_config\": {\n",
    "        \"taxis_number\": num_agents,\n",
    "        \"can_see_others\": True\n",
    "    },\n",
    "    \"num_gpus\": 0,\n",
    "    \"horizon\": 200,  # This is relevant because our env is episodic.\n",
    "    \"multiagent\": {\n",
    "        \"policies\": policies,\n",
    "        \"policy_mapping_fn\": policy_mapping_fn,\n",
    "    },\n",
    "    \"framework\": \"torch\",\n",
    "}\n",
    "stop = {\n",
    "#     \"episode_reward_mean\": 10,\n",
    "    \"timesteps_total\": 1000,\n",
    "}\n",
    "\n",
    "results = tune.run(\"PPO\", stop=stop, config=config, verbose=0)\n",
    "# check_learning_achieved(results, 10)\n",
    "ray.shutdown()"
   ]
  },
  {
   "cell_type": "markdown",
   "id": "ade16ea0",
   "metadata": {},
   "source": [
    "### And just like that! We are good to go!"
   ]
  },
  {
   "cell_type": "markdown",
   "id": "146a0455",
   "metadata": {},
   "source": [
    "### After initializing the environemnt you can deploy to it any planner/ RL/ MARL algorithms that you like and works with gym.\n",
    "\n",
    "# Enjoy!"
   ]
  }
 ],
 "metadata": {
  "kernelspec": {
   "display_name": "Python 3 (ipykernel)",
   "language": "python",
   "name": "python3"
  },
  "language_info": {
   "codemirror_mode": {
    "name": "ipython",
    "version": 3
   },
   "file_extension": ".py",
   "mimetype": "text/x-python",
   "name": "python",
   "nbconvert_exporter": "python",
   "pygments_lexer": "ipython3",
   "version": "3.8.12"
  }
 },
 "nbformat": 4,
 "nbformat_minor": 5
}
