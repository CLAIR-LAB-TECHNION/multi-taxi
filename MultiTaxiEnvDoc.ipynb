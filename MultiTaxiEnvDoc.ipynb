{
 "cells": [
  {
   "cell_type": "markdown",
   "id": "5d6396a7",
   "metadata": {
    "slideshow": {
     "slide_type": "slide"
    },
    "tags": []
   },
   "source": [
    "# Multi-Taxi Environment Demonstration\n",
    "## In the followin example we will demonstrate:\n",
    "1. Setting up the environment, and general view of the map.\n",
    "2. The different formats of observations.\n",
    "3. Doc the adjustable parameters.\n",
    "4. Show how to change the reward table."
   ]
  },
  {
   "cell_type": "code",
   "execution_count": 1,
   "id": "f2003c0f",
   "metadata": {
    "slideshow": {
     "slide_type": "slide"
    },
    "tags": []
   },
   "outputs": [
    {
     "name": "stdout",
     "output_type": "stream",
     "text": [
      "Collecting git+https://github.com/sarah-keren/multi-taxi\n",
      "  Cloning https://github.com/sarah-keren/multi-taxi to /private/var/folders/lv/gvpq1_xx73l0j5v3dd0kpqf80000gn/T/pip-req-build-qgyti0qq\n",
      "  Running command git clone --filter=blob:none --quiet https://github.com/sarah-keren/multi-taxi /private/var/folders/lv/gvpq1_xx73l0j5v3dd0kpqf80000gn/T/pip-req-build-qgyti0qq\n",
      "  Resolved https://github.com/sarah-keren/multi-taxi to commit fa8f91225ca0d00bab2c998d04b2579320af9ac2\n",
      "  Preparing metadata (setup.py) ... \u001b[?25ldone\n",
      "\u001b[?25hCollecting numpy>=1.10.4\n",
      "  Using cached numpy-1.21.5-cp37-cp37m-macosx_10_9_x86_64.whl (16.9 MB)\n",
      "Collecting gym\n",
      "  Using cached gym-0.22.0-py3-none-any.whl\n",
      "Collecting ray\n",
      "  Using cached ray-1.10.0-cp37-cp37m-macosx_10_15_intel.whl (61.0 MB)\n",
      "Collecting cloudpickle>=1.2.0\n",
      "  Using cached cloudpickle-2.0.0-py3-none-any.whl (25 kB)\n",
      "Requirement already satisfied: importlib-metadata>=4.10.0 in /usr/local/Caskroom/miniconda/base/envs/taxi/lib/python3.7/site-packages (from gym->MultiTaxiLib==0.1.0) (4.11.2)\n",
      "Collecting gym-notices>=0.0.4\n",
      "  Using cached gym_notices-0.0.4-py3-none-any.whl (2.7 kB)\n",
      "Collecting msgpack<2.0.0,>=1.0.0\n",
      "  Using cached msgpack-1.0.3-cp37-cp37m-macosx_10_9_x86_64.whl (72 kB)\n",
      "Collecting pyyaml\n",
      "  Using cached PyYAML-6.0-cp37-cp37m-macosx_10_9_x86_64.whl (189 kB)\n",
      "Collecting protobuf>=3.15.3\n",
      "  Using cached protobuf-3.19.4-cp37-cp37m-macosx_10_9_x86_64.whl (960 kB)\n",
      "Collecting grpcio>=1.28.1\n",
      "  Using cached grpcio-1.44.0-cp37-cp37m-macosx_10_10_x86_64.whl (4.2 MB)\n",
      "Requirement already satisfied: jsonschema in /usr/local/Caskroom/miniconda/base/envs/taxi/lib/python3.7/site-packages (from ray->MultiTaxiLib==0.1.0) (4.4.0)\n",
      "Collecting filelock\n",
      "  Using cached filelock-3.6.0-py3-none-any.whl (10.0 kB)\n",
      "Requirement already satisfied: attrs in /usr/local/Caskroom/miniconda/base/envs/taxi/lib/python3.7/site-packages (from ray->MultiTaxiLib==0.1.0) (21.4.0)\n",
      "Collecting click>=7.0\n",
      "  Using cached click-8.0.4-py3-none-any.whl (97 kB)\n",
      "Collecting redis>=3.5.0\n",
      "  Using cached redis-4.1.4-py3-none-any.whl (175 kB)\n",
      "Collecting pandas\n",
      "  Using cached pandas-1.3.5-cp37-cp37m-macosx_10_9_x86_64.whl (11.0 MB)\n",
      "Collecting tabulate\n",
      "  Using cached tabulate-0.8.9-py3-none-any.whl (25 kB)\n",
      "Collecting scipy\n",
      "  Using cached scipy-1.7.3-cp37-cp37m-macosx_10_9_x86_64.whl (33.0 MB)\n",
      "Collecting matplotlib!=3.4.3\n",
      "  Using cached matplotlib-3.5.1-cp37-cp37m-macosx_10_9_x86_64.whl (7.3 MB)\n",
      "Collecting lz4\n",
      "  Using cached lz4-4.0.0-cp37-cp37m-macosx_10_9_x86_64.whl (90 kB)\n",
      "Collecting dm-tree\n",
      "  Using cached dm_tree-0.1.6-cp37-cp37m-macosx_10_14_x86_64.whl (94 kB)\n",
      "Requirement already satisfied: requests in /usr/local/Caskroom/miniconda/base/envs/taxi/lib/python3.7/site-packages (from ray->MultiTaxiLib==0.1.0) (2.27.1)\n",
      "Collecting scikit-image\n",
      "  Using cached scikit_image-0.19.2-cp37-cp37m-macosx_10_13_x86_64.whl (13.1 MB)\n",
      "Collecting tensorboardX>=1.9\n",
      "  Using cached tensorboardX-2.5-py2.py3-none-any.whl (125 kB)\n",
      "Requirement already satisfied: six>=1.5.2 in /usr/local/Caskroom/miniconda/base/envs/taxi/lib/python3.7/site-packages (from grpcio>=1.28.1->ray->MultiTaxiLib==0.1.0) (1.16.0)\n",
      "Requirement already satisfied: typing-extensions>=3.6.4 in /usr/local/Caskroom/miniconda/base/envs/taxi/lib/python3.7/site-packages (from importlib-metadata>=4.10.0->gym->MultiTaxiLib==0.1.0) (4.1.1)\n",
      "Requirement already satisfied: zipp>=0.5 in /usr/local/Caskroom/miniconda/base/envs/taxi/lib/python3.7/site-packages (from importlib-metadata>=4.10.0->gym->MultiTaxiLib==0.1.0) (3.7.0)\n",
      "Collecting pillow>=6.2.0\n",
      "  Using cached Pillow-9.0.1-cp37-cp37m-macosx_10_10_x86_64.whl (3.0 MB)\n",
      "Requirement already satisfied: pyparsing>=2.2.1 in /usr/local/Caskroom/miniconda/base/envs/taxi/lib/python3.7/site-packages (from matplotlib!=3.4.3->ray->MultiTaxiLib==0.1.0) (3.0.7)\n",
      "Collecting kiwisolver>=1.0.1\n",
      "  Using cached kiwisolver-1.3.2-cp37-cp37m-macosx_10_9_x86_64.whl (61 kB)\n",
      "Requirement already satisfied: python-dateutil>=2.7 in /usr/local/Caskroom/miniconda/base/envs/taxi/lib/python3.7/site-packages (from matplotlib!=3.4.3->ray->MultiTaxiLib==0.1.0) (2.8.2)\n",
      "Collecting fonttools>=4.22.0\n",
      "  Using cached fonttools-4.29.1-py3-none-any.whl (895 kB)\n",
      "Collecting cycler>=0.10\n",
      "  Using cached cycler-0.11.0-py3-none-any.whl (6.4 kB)\n",
      "Requirement already satisfied: packaging>=20.0 in /usr/local/Caskroom/miniconda/base/envs/taxi/lib/python3.7/site-packages (from matplotlib!=3.4.3->ray->MultiTaxiLib==0.1.0) (21.3)\n",
      "Collecting deprecated>=1.2.3\n",
      "  Using cached Deprecated-1.2.13-py2.py3-none-any.whl (9.6 kB)\n",
      "Requirement already satisfied: pyrsistent!=0.17.0,!=0.17.1,!=0.17.2,>=0.14.0 in /usr/local/Caskroom/miniconda/base/envs/taxi/lib/python3.7/site-packages (from jsonschema->ray->MultiTaxiLib==0.1.0) (0.18.1)\n",
      "Requirement already satisfied: importlib-resources>=1.4.0 in /usr/local/Caskroom/miniconda/base/envs/taxi/lib/python3.7/site-packages (from jsonschema->ray->MultiTaxiLib==0.1.0) (5.4.0)\n",
      "Requirement already satisfied: pytz>=2017.3 in /usr/local/Caskroom/miniconda/base/envs/taxi/lib/python3.7/site-packages (from pandas->ray->MultiTaxiLib==0.1.0) (2021.3)\n",
      "Requirement already satisfied: charset-normalizer~=2.0.0 in /usr/local/Caskroom/miniconda/base/envs/taxi/lib/python3.7/site-packages (from requests->ray->MultiTaxiLib==0.1.0) (2.0.12)\n",
      "Requirement already satisfied: certifi>=2017.4.17 in /usr/local/Caskroom/miniconda/base/envs/taxi/lib/python3.7/site-packages (from requests->ray->MultiTaxiLib==0.1.0) (2021.10.8)\n",
      "Requirement already satisfied: idna<4,>=2.5 in /usr/local/Caskroom/miniconda/base/envs/taxi/lib/python3.7/site-packages (from requests->ray->MultiTaxiLib==0.1.0) (3.3)\n",
      "Requirement already satisfied: urllib3<1.27,>=1.21.1 in /usr/local/Caskroom/miniconda/base/envs/taxi/lib/python3.7/site-packages (from requests->ray->MultiTaxiLib==0.1.0) (1.26.8)\n",
      "Collecting tifffile>=2019.7.26\n",
      "  Using cached tifffile-2021.11.2-py3-none-any.whl (178 kB)\n",
      "Collecting imageio>=2.4.1\n",
      "  Using cached imageio-2.16.1-py3-none-any.whl (3.3 MB)\n",
      "Collecting PyWavelets>=1.1.1\n",
      "  Using cached PyWavelets-1.2.0-cp37-cp37m-macosx_10_13_x86_64.whl (4.3 MB)\n",
      "Collecting networkx>=2.2\n",
      "  Using cached networkx-2.6.3-py3-none-any.whl (1.9 MB)\n",
      "Collecting wrapt<2,>=1.10\n",
      "  Using cached wrapt-1.13.3-cp37-cp37m-macosx_10_9_x86_64.whl (33 kB)\n",
      "Building wheels for collected packages: MultiTaxiLib\n",
      "  Building wheel for MultiTaxiLib (setup.py) ... \u001b[?25ldone\n",
      "\u001b[?25h  Created wheel for MultiTaxiLib: filename=MultiTaxiLib-0.1.0-py3-none-any.whl size=21925 sha256=357bca2f7890609d8faa58c58771b5e3a277d1b94184eca16cd5b2ce1f9b1fa5\n",
      "  Stored in directory: /private/var/folders/lv/gvpq1_xx73l0j5v3dd0kpqf80000gn/T/pip-ephem-wheel-cache-qoa6466q/wheels/35/c0/f9/84bb8a9bcf78e22593aec3f6ab0b38d15bd686382e472445a1\n",
      "Successfully built MultiTaxiLib\n",
      "Installing collected packages: tabulate, msgpack, gym-notices, wrapt, pyyaml, protobuf, pillow, numpy, networkx, lz4, kiwisolver, grpcio, fonttools, filelock, dm-tree, cycler, cloudpickle, tifffile, tensorboardX, scipy, PyWavelets, pandas, matplotlib, imageio, gym, deprecated, click, scikit-image, redis, ray, MultiTaxiLib\n",
      "Successfully installed MultiTaxiLib-0.1.0 PyWavelets-1.2.0 click-8.0.4 cloudpickle-2.0.0 cycler-0.11.0 deprecated-1.2.13 dm-tree-0.1.6 filelock-3.6.0 fonttools-4.29.1 grpcio-1.44.0 gym-0.22.0 gym-notices-0.0.4 imageio-2.16.1 kiwisolver-1.3.2 lz4-4.0.0 matplotlib-3.5.1 msgpack-1.0.3 networkx-2.6.3 numpy-1.21.5 pandas-1.3.5 pillow-9.0.1 protobuf-3.19.4 pyyaml-6.0 ray-1.10.0 redis-4.1.4 scikit-image-0.19.2 scipy-1.7.3 tabulate-0.8.9 tensorboardX-2.5 tifffile-2021.11.2 wrapt-1.13.3\n"
     ]
    }
   ],
   "source": [
    "# installing easily via pip\n",
    "!pip install 'git+https://github.com/sarah-keren/multi-taxi'"
   ]
  },
  {
   "cell_type": "code",
   "execution_count": 2,
   "id": "8a1c70a6",
   "metadata": {
    "slideshow": {
     "slide_type": "fragment"
    },
    "tags": []
   },
   "outputs": [
    {
     "name": "stderr",
     "output_type": "stream",
     "text": [
      "\n"
     ]
    }
   ],
   "source": [
    "from MultiTaxiLib.taxi_environment import TaxiEnv\n",
    "import matplotlib.pyplot as plt"
   ]
  },
  {
   "cell_type": "code",
   "execution_count": 3,
   "id": "1dafd282",
   "metadata": {},
   "outputs": [
    {
     "name": "stdout",
     "output_type": "stream",
     "text": [
      "+-----------------------+\n",
      "|X: |F: | : | : | : |F:X|\n",
      "| : | : : : | : | : |\u001b[32;1m \u001b[0m: |\n",
      "| : : : : : : : :\u001b[32m \u001b[0m: : : |\n",
      "| : : : : :\u001b[32m \u001b[0m| : : : : : |\n",
      "| : : : : : | : : : : : |\n",
      "|\u001b[43m_\u001b[0m: :\u001b[41m\u001b[32;1m \u001b[0m\u001b[0m: : : : : : : : : |\n",
      "|X| :G|\u001b[47m_\u001b[0m| | :G| | | : |X|\n",
      "+-----------------------+\n",
      "Taxi1-YELLOW: Fuel: 0, Location: (5,0), Collided: False\n",
      "Taxi2-RED: Fuel: 0, Location: (5,2), Collided: False\n",
      "Taxi3-WHITE: Fuel: 0, Location: (6,3), Collided: False\n",
      "Passenger1: Location: (5, 2), Destination: (3, 5)\n",
      "Passenger2: Location: (1, 10), Destination: (2, 8)\n",
      "Done: False, {'taxi_1': False, 'taxi_2': False, 'taxi_3': False, '__all__': False}\n",
      "Passengers Status's: [2, 2]\n"
     ]
    }
   ],
   "source": [
    "env_instance = TaxiEnv(num_taxis=3, num_passengers=2)\n",
    "env_instance.render()"
   ]
  },
  {
   "cell_type": "markdown",
   "id": "2786ed22",
   "metadata": {},
   "source": [
    "### Observations\n",
    "The observations returned as a dictionary with the keys being \"taxi_{i}\", such that each item is the observation of agent \"i\", starting with i=1.\n",
    "\n",
    "An observation could be either an image, which is a window of sight for the agent, or a sybolic vector consists of: <code>[\n",
    "            taxi_row, taxi_col, taxi_fuel, \n",
    "            passenger1_row, passenger1_col... passenger_n_row, passenger_n_col,\n",
    "            passenger1_dest_row, passenger1_dest_col... passenger_n_dest_row, passenger_n_dest_col,\n",
    "            passenger1_status... passenger_n_status\n",
    "        ]</code>"
   ]
  },
  {
   "cell_type": "code",
   "execution_count": 4,
   "id": "57efb548",
   "metadata": {},
   "outputs": [
    {
     "name": "stdout",
     "output_type": "stream",
     "text": [
      "Symbolic Vector Observation no others:\n",
      "[2 3 0 6 5 1 1 2]\n",
      "Symbolic Vector Observation with others:\n",
      "[4 4 4 0 0 1 2 5 5 2]\n",
      "Image Observation:\n"
     ]
    },
    {
     "data": {
      "image/png": "[encoded data removed]",
      "text/plain": [
       "<Figure size 432x288 with 1 Axes>"
      ]
     },
     "metadata": {
      "needs_background": "light"
     },
     "output_type": "display_data"
    },
    {
     "data": {
      "image/png": "[encoded data removed]",
      "text/plain": [
       "<Figure size 432x288 with 1 Axes>"
      ]
     },
     "metadata": {
      "needs_background": "light"
     },
     "output_type": "display_data"
    }
   ],
   "source": [
    "env_instance_image_obs = TaxiEnv(num_taxis=2, observation_type='image')\n",
    "env_instance_symbolic_obs_no_others = TaxiEnv(num_taxis=2, observation_type='symbolic', can_see_others=False)\n",
    "env_instance_symbolic_obs_with_others = TaxiEnv(num_taxis=2, observation_type='symbolic', can_see_others=True)\n",
    "\n",
    "print(f\"Symbolic Vector Observation no others:\\n{env_instance_symbolic_obs_no_others.reset()['taxi_1']}\")\n",
    "print(f\"Symbolic Vector Observation with others:\\n{env_instance_symbolic_obs_with_others.reset()['taxi_1']}\")\n",
    "print(\"Image Observation:\")\n",
    "plt.imshow(env_instance_image_obs.reset()['taxi_1'])\n",
    "plt.show()\n",
    "plt.imshow(env_instance_image_obs.reset()['taxi_2'])\n",
    "plt.show()"
   ]
  },
  {
   "cell_type": "markdown",
   "id": "d0d75bd9",
   "metadata": {},
   "source": [
    "__Note:__ In image observations, fuel and gas station will have distinct colors (pink and purple), and passengers current locations and destinations will have close colors by values.\n",
    "\n",
    "__Also, note:__ In symbolic observations, we can choose wether taxis are aware of each other via the hyper parameter <code>can_see_others</code>."
   ]
  },
  {
   "cell_type": "markdown",
   "id": "ff5dfbc1",
   "metadata": {},
   "source": [
    "### Environment's Parameters\n",
    "1. <code>num_taxis</code> - the number of taxis operating in the envorinment. _default=1_.\n",
    "2. <code>num_passengers</code> - the number of passengers to drive in the envorinment. _default=1_.\n",
    "3. <code>max_fuel</code> - if <code>None</code> - each taxi has unlimited fuel to spent, else, this is the amount of fuel in a full-tank, and this amount decreases by 1 in each timestep unless taxis fill their tank at the station with a special action._default=<code>None</code>_.\n",
    "4. <code>domain_map</code> - array of chars, representing the environment map with special characters for taxis initilized spots and fuel stations. _default=pre-defined map_.\n",
    "5. <code>taxis_capacity</code> - a list of integers, where the i'th element represents the i'th taxi's passengers limit, where <code>None</code> represents unlimitted capacity. _default=None_.\n",
    "6. <code>collision_sensitive_domain</code> - if <code>True</code> - taxis that move to the same grid point in the map - collide and stop their operation, otherwise, there can be multiple taxis at the same grid point. _default=False_.\n",
    "7. <code>fuel_type_list</code> - a list of either 'F' or 'G', where each element represents the fuel type of each taxi (F for *F*uel and G for *G*as), if <code>None</code> - all are fuel. _default=None_.\n",
    "8. <code>option_to_stand_by</code> - if <code>True</code> - taxis have the option to take *no_action*. _default=False_.\n",
    "9. <code>view_len</code> - relevant for image observations, defines the size of the window of sight of the taxis' observations, _default=2_.\n",
    "10. <code>rewards_table</code> - a dictionary that defines changes in the original reward table, see description below, _default=default_reward_table_.\n",
    "11. <code>observation_type</code> - either 'symbolic' or 'image', indicating the type of observations to the taxis, _default='symbolic'.\n",
    "12. <code>can_see_others</code> - If <code>True</code> and in symbolic observations mode, taxis will have other taxis' locations in their observations. _default=<code>False</code>,_. Note that in image oservations taxis can always see each other."
   ]
  },
  {
   "cell_type": "markdown",
   "id": "0091029f",
   "metadata": {},
   "source": [
    "### Changing the Reward Table"
   ]
  },
  {
   "cell_type": "markdown",
   "id": "d5a8fee8",
   "metadata": {},
   "source": [
    "The default reward table is:\n",
    "<code>\n",
    "    dict(\n",
    "    step=-1,  # default reward for each timestep.\n",
    "    no_fuel=-1,  # for reaching \"no fuel\" state.\n",
    "    bad_pickup=-1,  # for pickup an empty cell or tries to pickup passenger when reached its capacity.\n",
    "    bad_dropoff=-1,  # for dropping off passenger in farther point than it was before.\n",
    "    bad_refuel=-1,  # for trying to fuel outside the fuel station.\n",
    "    pickup=-1,  # for picking up.\n",
    "    standby_engine_off=-1,  # for standing by with an off engine.\n",
    "    turn_engine_on=-1,  # for turning engine on.\n",
    "    turn_engine_off=-1,  # for turning engine off.\n",
    "    standby_engine_on=-1,  # for standing by with engine on.\n",
    "    intermediate_dropoff=2,  # for getting passenger closer to its destination.\n",
    "    final_dropoff=100,  # for dropping passenger in its destination.\n",
    "    hit_wall=-1,  # for hitting a wall.\n",
    "    collision=-1, # for performing a collision, this is given in the collision timestep.\n",
    "    collided=-1,  # for being in a collided status, this is given in the timesteps after the collision.\n",
    ")</code>\n",
    "\n",
    "Note that it is intended to be very elaborate. In the default version, the taxis get <code>-1</code> for default actions and \"time that goes by\", and this apply for many scenarios, s.t bad_pickup, standby, step...\n",
    "\n",
    "We can use this elaboration in our advantage for customizing this dictionary (or only the parts of it that we would like to change, and then initialize an environment with our reward table of interest.\n",
    "\n",
    "#### In the next example we'll initialize an environment where we speciall penalize taxis for making <code>bad_pickup</code> tries, all other rewards are the same."
   ]
  },
  {
   "cell_type": "code",
   "execution_count": 5,
   "id": "84f2679a",
   "metadata": {},
   "outputs": [],
   "source": [
    "customized_reward = dict(bad_pickup=-50)\n",
    "env_instance_image_obs = TaxiEnv(rewards_table=customized_reward)"
   ]
  },
  {
   "cell_type": "markdown",
   "id": "2016a8c2",
   "metadata": {},
   "source": [
    "### For your convenience, we are also adding a simple example on training RLLib agents (PPO in this case) in our environment"
   ]
  },
  {
   "cell_type": "code",
   "execution_count": 6,
   "id": "29e08fb9",
   "metadata": {},
   "outputs": [
    {
     "name": "stderr",
     "output_type": "stream",
     "text": [
      "2022-03-04 17:29:22,878\tWARNING worker.py:513 -- `ray.get_gpu_ids()` will always return the empty list when called from the driver. This is because Ray does not manage GPU allocations to the driver process.\n",
      ":task_name:bundle_reservation_check_func\n",
      ":actor_name:PPOTrainer\n",
      "2022-03-04 17:29:22,962\tINFO ppo.py:250 -- In multi-agent mode, policies will be optimized sequentially by the multi-GPU optimizer. Consider setting simple_optimizer=True if this doesn't work for you.\n",
      "2022-03-04 17:29:22,963\tINFO trainer.py:792 -- Current log_level is WARN. For more information, set 'log_level': 'INFO' / 'DEBUG' or use the -v and -vv flags.\n",
      ":actor_name:RolloutWorker\n",
      "2022-03-04 17:29:23,082\tWARNING deprecation.py:46 -- DeprecationWarning: `rllib.env.remote_vector_env.RemoteVectorEnv` has been deprecated. Use `ray.rllib.env.remote_base_env.RemoteBaseEnv` instead. This will raise an error in the future!\n"
     ]
    },
    {
     "name": "stdout",
     "output_type": "stream",
     "text": [
      ":task_name:bundle_reservation_check_func\n",
      ":actor_name:PPOTrainer\n",
      ":actor_name:RolloutWorker\n"
     ]
    },
    {
     "name": "stderr",
     "output_type": "stream",
     "text": [
      ":actor_name:RolloutWorker\n",
      "2022-03-04 17:29:23,143\tWARNING util.py:55 -- Install gputil for GPU system monitoring.\n"
     ]
    },
    {
     "name": "stdout",
     "output_type": "stream",
     "text": [
      ":actor_name:RolloutWorker\n"
     ]
    },
    {
     "name": "stderr",
     "output_type": "stream",
     "text": [
      "2022-03-04 17:29:31,698\tWARNING ppo.py:127 -- No data for taxi_2, not updating kl\n"
     ]
    }
   ],
   "source": [
    "# need torch for this cell, simply run:\n",
    "# !pip install torch\n",
    "import random\n",
    "\n",
    "import ray\n",
    "from ray import tune\n",
    "from ray.rllib.examples.models.shared_weights_model import TorchSharedWeightsModel\n",
    "\n",
    "from ray.rllib.models import ModelCatalog\n",
    "from ray.rllib.policy.policy import PolicySpec\n",
    "from ray.rllib.utils.test_utils import check_learning_achieved\n",
    "\n",
    "ray.init(ignore_reinit_error=True, local_mode=True)\n",
    "\n",
    "# Register the models to use.\n",
    "mod1 = mod2 = TorchSharedWeightsModel\n",
    "ModelCatalog.register_custom_model(\"model1\", mod1)\n",
    "ModelCatalog.register_custom_model(\"model2\", mod2)\n",
    "\n",
    "num_policies = 2\n",
    "num_agents = 2\n",
    "\n",
    "# Each policy can have a different configuration (including custom model).\n",
    "def gen_policy(i):\n",
    "    config = {\n",
    "        \"model\": {\n",
    "            \"custom_model\": [\"model1\", \"model2\"][i % 2],\n",
    "        },\n",
    "        \"gamma\": random.choice([0.95, 0.99]),\n",
    "    }\n",
    "    return PolicySpec(config=config)\n",
    "\n",
    "# Setup PPO with an ensemble of `num_policies` different policies.\n",
    "policies = {\"taxi_{}\".format(i + 1): gen_policy(i) for i in range(num_policies)}\n",
    "policy_ids = list(policies.keys())\n",
    "\n",
    "def policy_mapping_fn(agent_id, episode, worker, **kwargs):\n",
    "    return agent_id\n",
    "\n",
    "config = {\n",
    "    \"env\": TaxiEnv,\n",
    "    \"env_config\": {\n",
    "        \"taxis_number\": num_agents,\n",
    "        \"can_see_others\": True\n",
    "    },\n",
    "    \"num_gpus\": 0,\n",
    "    \"horizon\": 200,  # This is relevant because our env is episodic.\n",
    "    \"multiagent\": {\n",
    "        \"policies\": policies,\n",
    "        \"policy_mapping_fn\": policy_mapping_fn,\n",
    "    },\n",
    "    \"framework\": \"torch\",\n",
    "}\n",
    "stop = {\n",
    "#     \"episode_reward_mean\": 10,\n",
    "    \"timesteps_total\": 1000,\n",
    "}\n",
    "\n",
    "results = tune.run(\"PPO\", stop=stop, config=config, verbose=0)\n",
    "# check_learning_achieved(results, 10)\n",
    "ray.shutdown()"
   ]
  },
  {
   "cell_type": "markdown",
   "id": "ade16ea0",
   "metadata": {},
   "source": [
    "### And just like that! We are good to go!"
   ]
  },
  {
   "cell_type": "markdown",
   "id": "146a0455",
   "metadata": {},
   "source": [
    "### After initializing the environemnt you can deploy to it any planner/ RL/ MARL algorithms that you like and works with gym.\n",
    "\n",
    "# Enjoy!"
   ]
  }
 ],
 "metadata": {
  "kernelspec": {
   "display_name": "Python 3 (ipykernel)",
   "language": "python",
   "name": "python3"
  },
  "language_info": {
   "codemirror_mode": {
    "name": "ipython",
    "version": 3
   },
   "file_extension": ".py",
   "mimetype": "text/x-python",
   "name": "python",
   "nbconvert_exporter": "python",
   "pygments_lexer": "ipython3",
   "version": "3.7.12"
  }
 },
 "nbformat": 4,
 "nbformat_minor": 5
}
