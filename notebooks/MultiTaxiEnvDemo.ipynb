{
 "cells": [
  {
   "cell_type": "markdown",
   "id": "5d6396a7",
   "metadata": {
    "slideshow": {
     "slide_type": "slide"
    },
    "tags": []
   },
   "source": [
    "# Multi-Taxi Environment\n",
    "\n",
    "[![Open In Colab](https://colab.research.google.com/assets/colab-badge.svg)](https://colab.research.google.com/github/sarah-keren/multi_taxi/blob/main/notebooks/MultiTaxiEnvDemo.ipynb)\n",
    "\n",
    "Welcome to `multi_taxi`, a highly versitile and configurable multi-agent environment for testing AI algorithms. It allows the user to customize the problem with granular control on a per-agent basis, including:\n",
    "1. the number of taxis and passengers in the environment (limited to the size of the map)\n",
    "2. the domain map itself\n",
    "3. the environment objective\n",
    "4. individual taxi configurations:\n",
    "   1. reward function\n",
    "   2. action and observation space\n",
    "   3. passenger and fuel capacity\n",
    "5. and so much more!\n",
    "\n",
    "This notebook demonstrates the capabilities of this environment, including its many options, configurations, and addons.\n",
    "\n",
    "## Quickstart\n",
    "First thing's first... Let's install the latest stable version of the environment."
   ]
  },
  {
   "cell_type": "code",
   "execution_count": 1,
   "id": "f2003c0f",
   "metadata": {
    "slideshow": {
     "slide_type": "slide"
    },
    "tags": []
   },
   "outputs": [],
   "source": [
    "!pip install \"git+https://github.com/sarah-keren/multi_taxi@0.4.0\""
   ]
  },
  {
   "cell_type": "markdown",
   "id": "264b6b95-e4d1-48e0-98a2-a413bdeddce2",
   "metadata": {},
   "source": [
    "Now, let us begin with a quick example. Below, we instantiate a `multi_taxi` environment with 2 taxis and 3 passengers, where taxi_0 can carry up to 1 passenger at a time and has 30 steps-worth of fuel, and taxi_1 can carry up to 2 passengers at a time and has an infinite amount of fuel. Both taxis can use the \"standby\" action, but only taxi_0 can control the engine status (on/off). The environment map is a pre-defined hourglass-shaped map."
   ]
  },
  {
   "cell_type": "code",
   "execution_count": 2,
   "id": "57bd47dc-7b67-48c6-a514-7ccb4d05d563",
   "metadata": {
    "tags": []
   },
   "outputs": [
    {
     "name": "stdout",
     "output_type": "stream",
     "text": [
      "+-----------------------+\n",
      "| : |F: | :\u001B[43m\u001B[31mD\u001B[0m\u001B[0m| : | : |G:\u001B[33mD\u001B[0m|\n",
      "| : : : : : | : : : : : |\n",
      "|X:X:X:X: :\u001B[37mP\u001B[0m: : :X:X:X:X|\n",
      "|X:X:X:X: : | :\u001B[37mD\u001B[0m:X:X:X:X|\n",
      "|X:X:X:X: : | : :X:X:X:X|\n",
      "| : : : : : : : : : :\u001B[41m \u001B[0m: |\n",
      "| | :G|\u001B[33mP\u001B[0m| | :F| | | :\u001B[31mP\u001B[0m| |\n",
      "+-----------------------+\n",
      "Taxi0-YELLOW: Fuel: 30/30, Location: (0, 5), Engine: ON, Collided: False, Step: 0, ALIVE\n",
      "Taxi1-RED: Fuel: inf, Location: (5, 10), Engine: ON, Collided: False, Step: 0, ALIVE\n",
      "Passenger0-YELLOW: Location: (6, 3), Destination: (0, 11)\n",
      "Passenger1-RED: Location: (6, 10), Destination: (0, 5)\n",
      "Passenger2-WHITE: Location: (2, 5), Destination: (3, 7)\n",
      "Env done: False\n",
      "\n"
     ]
    }
   ],
   "source": [
    "from multi_taxi import multi_taxi_v0, maps, FuelType\n",
    "\n",
    "# using the default PettingZoo API here\n",
    "env = multi_taxi_v0.env(\n",
    "    num_taxis=2,                       # there are 2 active taxis (agents) in the environment\n",
    "    num_passengers=3,                  # there are 3 passengers in the environment\n",
    "    max_capacity=[1, 2],               # taxi_0 can carry 1 passenger, taxi_1 can carry 2\n",
    "    max_fuel=[30, None],               # taxi_0 has a 30 step fuel limit, taxi1 has infinite fuel\n",
    "    fuel_type=FuelType.GAS,            # taxis can only refuel at gas stations, marked \"G\" (only affects taxi_0)\n",
    "    has_standby_action=True,           # all taxis can perform the standby action\n",
    "    has_engine_control=[True, False],  # taxi_0 has engine control actions, taxi_1 does not\n",
    "    domain_map=maps.HOURGLASS,         # the environment map is the pre-defined HOURGLASS map\n",
    "    render_mode='human'  # MUST SPECIFY RENDER MODE TO ENABLE RENDERING\n",
    ")\n",
    "env.reset(seed=42)\n",
    "env.render()"
   ]
  },
  {
   "cell_type": "markdown",
   "id": "d82d9ce9-319b-49ae-a639-750663602670",
   "metadata": {},
   "source": [
    "Above we can see a rendering of the environment. The rectangles are taxis and the colorful P's and D's are the passengers and their respective desired destinations. Taxis can navigate within the map, but cannot occupy blocked cells (\"X\" character), and cannot cross horizontally between cells separated by a wall (\"|\" character). The map also consists of two types of fuel stations, marked \"F\" (for \"Fuel\") and \"G\" (for \"Gas\") at which the taxis can refuel, but only if they require the correct type of fuel. The objective is to pick up all passengers and drop them off at their desired destinations. We do this using the [PettingZoo](https://www.pettingzoo.ml/) API to perform actions for each taxi."
   ]
  },
  {
   "cell_type": "code",
   "execution_count": 3,
   "id": "7ae3597e-cd7a-4152-9c67-dd10712cc280",
   "metadata": {
    "tags": []
   },
   "outputs": [
    {
     "name": "stdout",
     "output_type": "stream",
     "text": [
      "+-----------------------+\n",
      "| : |F: | : | : | : |G:\u001B[41m \u001B[0m|\n",
      "| : : : : : | : : : : : |\n",
      "|X:X:X:X: : : : :X:X:X:X|\n",
      "|X:X:X:X: : | :\u001B[43m \u001B[0m:X:X:X:X|\n",
      "|X:X:X:X: : | : :X:X:X:X|\n",
      "| : : : : : : : : : : : |\n",
      "| | :G| | | :F| | | : | |\n",
      "+-----------------------+\n",
      "Taxi0-YELLOW: Fuel: 18/30, Location: (3, 7), Engine: OFF, Collided: False, Step: 32, ALIVE\n",
      "Taxi1-RED: Fuel: inf, Location: (0, 11), Engine: ON, Collided: False, Step: 32, ALIVE\n",
      "Passenger0-YELLOW: Location: (0, 11), Destination: Arrived! (0, 11)\n",
      "Passenger1-RED: Location: (0, 5), Destination: Arrived! (0, 5)\n",
      "Passenger2-WHITE: Location: (3, 7), Destination: Arrived! (3, 7)\n",
      "Env done: True\n",
      "\n",
      "success!\n"
     ]
    }
   ],
   "source": [
    "import time\n",
    "from IPython.display import clear_output\n",
    "\n",
    "# a solution based on the current action spaces of both taxis.\n",
    "# see \"Actions\" section to understand action index meanings.\n",
    "solution = {'taxi_0': [0, 0, 4, 2, 2, 0, 5, 8, 6, 6, 6, 6, 6, 6, 6, 6, 6, 6, 6, 6, 6, 6, 6,\n",
    "                       6, 6, 6, 6, 6, 6, 6, 6, 6],\n",
    "            'taxi_1': [0, 4, 1, 3, 3, 3, 3, 3, 3, 3, 0, 4, 1, 2, 2, 1, 1, 1, 1, 1, 5, 0, 0,\n",
    "                       2, 1, 2, 2, 2, 2, 2, 1, 5]}\n",
    "\n",
    "env.reset(seed=42)\n",
    "env.render()\n",
    "for agent in env.agent_iter():\n",
    "\n",
    "    # observation, reward, done, and info given one by one via the `last` method\n",
    "    observation, reward, term, trunc, info = env.last()\n",
    "\n",
    "    if term:  # check done status\n",
    "        print('success!')\n",
    "        break\n",
    "    if trunc:\n",
    "        print('truncated')\n",
    "        break\n",
    "\n",
    "    if not solution[env.agent_selection]:  # check solution complete without done\n",
    "        print('failure')\n",
    "        break\n",
    "\n",
    "    # get next action from predefined solution\n",
    "    action = solution[env.agent_selection].pop(0)\n",
    "    env.step(action)\n",
    "\n",
    "    # re-render after step\n",
    "    if  agent == env.possible_agents[-1]:\n",
    "        # state only changes after both taxis have stepped\n",
    "        time.sleep(0.15)  # sleep for animation speed control\n",
    "        clear_output(wait=True)  # clear previous render for animation effect\n",
    "        env.render()"
   ]
  },
  {
   "cell_type": "markdown",
   "id": "2a9b1a0e-b1ad-414d-a662-4e8d31e7b25f",
   "metadata": {},
   "source": [
    "In the above example, taxi_0 (yellow) takes passenger 2 to its destination and then has nothing left to contribute, so it turns off its engine and does nothing until the end of the episode. taxi_1 (red) takes advantage of its size 2 capacity to carry both passengers 0 and 1 simultaneously, thus conserving cumulative time in their journeys to their destinations.\n",
    "\n",
    "`multi_taxi` also naturally supports PettingZoo's parallel API. Let us run the same example below using this API."
   ]
  },
  {
   "cell_type": "code",
   "execution_count": 4,
   "id": "09541940-26f9-448a-a05f-41eb518c4083",
   "metadata": {
    "tags": []
   },
   "outputs": [
    {
     "name": "stdout",
     "output_type": "stream",
     "text": [
      "+-----------------------+\n",
      "| : |F: | : | : | : |G:\u001B[41m \u001B[0m|\n",
      "| : : : : : | : : : : : |\n",
      "|X:X:X:X: : : : :X:X:X:X|\n",
      "|X:X:X:X: : | :\u001B[43m \u001B[0m:X:X:X:X|\n",
      "|X:X:X:X: : | : :X:X:X:X|\n",
      "| : : : : : : : : : : : |\n",
      "| | :G| | | :F| | | : | |\n",
      "+-----------------------+\n",
      "Taxi0-YELLOW: Fuel: 18/30, Location: (3, 7), Engine: OFF, Collided: False, Step: 32, ALIVE\n",
      "Taxi1-RED: Fuel: inf, Location: (0, 11), Engine: ON, Collided: False, Step: 32, ALIVE\n",
      "Passenger0-YELLOW: Location: (0, 11), Destination: Arrived! (0, 11)\n",
      "Passenger1-RED: Location: (0, 5), Destination: Arrived! (0, 5)\n",
      "Passenger2-WHITE: Location: (3, 7), Destination: Arrived! (3, 7)\n",
      "Env done: True\n",
      "\n",
      "success!\n"
     ]
    }
   ],
   "source": [
    "# using the PettingZoo parallel API here\n",
    "par_env = multi_taxi_v0.parallel_env(\n",
    "    num_taxis=2,\n",
    "    num_passengers=3,\n",
    "    max_capacity=[1, 2],\n",
    "    max_fuel=[30, None],\n",
    "    fuel_type=FuelType.GAS,\n",
    "    has_standby_action=True,\n",
    "    has_engine_control=[True, False],\n",
    "    domain_map=maps.HOURGLASS,\n",
    "    render_mode='human'\n",
    ")\n",
    "\n",
    "# exact same solution from the previous example\n",
    "solution = {'taxi_0': [0, 0, 4, 2, 2, 0, 5, 8, 6, 6, 6, 6, 6, 6, 6, 6, 6, 6, 6, 6, 6, 6, 6,\n",
    "                       6, 6, 6, 6, 6, 6, 6, 6, 6],\n",
    "            'taxi_1': [0, 4, 1, 3, 3, 3, 3, 3, 3, 3, 0, 4, 1, 2, 2, 1, 1, 1, 1, 1, 5, 0, 0,\n",
    "                       2, 1, 2, 2, 2, 2, 2, 1, 5]}\n",
    "\n",
    "\n",
    "# parallel API initial observation given on reset\n",
    "# this is a dictionary of observations, with agent names as keys\n",
    "observations = par_env.reset(seed=42)\n",
    "par_env.render()\n",
    "while True:\n",
    "    if any(not sol for sol in solution.values()):  # check solution complete without done\n",
    "        print('failure')\n",
    "        break\n",
    "\n",
    "    # arange next action as a joint action to be executed in parallel for all agents\n",
    "    joint_action = {agent: solution[agent].pop(0) for agent in par_env.agents}\n",
    "\n",
    "    # parallel API gets next observations, rewards, dones, and infos upon `step`\n",
    "    # all values are dictionaries\n",
    "    observations, rewards, terms, truncs, infos = par_env.step(joint_action)\n",
    "\n",
    "    # re-render after step\n",
    "    time.sleep(0.15)  # sleep for animation speed control\n",
    "    clear_output(wait=True)\n",
    "    par_env.render()  # clear previous render for animation effect\n",
    "\n",
    "    if any(terms.values()):  # check dones\n",
    "        print('success!')\n",
    "        break\n",
    "    if all(truncs.values()):\n",
    "        print('truncated')\n",
    "        break\n"
   ]
  },
  {
   "cell_type": "markdown",
   "id": "8b1277f2-15ba-408c-bfa2-4ba7dabccac3",
   "metadata": {},
   "source": [
    "The environment objective can be simplified by setting the parameter `pickup_only` to `True`. When this is the case, passenger destinations and taxi capacities are ignored, and once all passengers have been picked up, the environment task is complete and the agents are done."
   ]
  },
  {
   "cell_type": "code",
   "execution_count": 5,
   "id": "f3d5c5d6-669e-4434-98aa-cf16b4f89514",
   "metadata": {
    "tags": []
   },
   "outputs": [
    {
     "name": "stdout",
     "output_type": "stream",
     "text": [
      "+-----------------------+\n",
      "| : |F: | : | : | : |G: |\n",
      "| : : : : : | : : : : : |\n",
      "|X:X:X:X: : : : :X:X:X:X|\n",
      "|X:X:X:X: : | : :X:X:X:X|\n",
      "|X:X:X:X: : | : :X:X:X:X|\n",
      "| : : : : : : : : : : : |\n",
      "| | :G|\u001B[43m \u001B[0m| | :F| | | :\u001B[41m \u001B[0m| |\n",
      "+-----------------------+\n",
      "Taxi0-YELLOW: Fuel: 12/30, Location: (6, 3), Engine: ON, Collided: False, Step: 10, ALIVE\n",
      "Taxi1-RED: Fuel: inf, Location: (6, 10), Engine: ON, Collided: False, Step: 10, ALIVE\n",
      "Passenger0-YELLOW: Location: Taxi0 (6, 3), Destination: (-1, -1)\n",
      "Passenger1-RED: Location: Taxi1 (6, 10), Destination: (-1, -1)\n",
      "Passenger2-WHITE: Location: Taxi0 (6, 3), Destination: (-1, -1)\n",
      "Env done: True\n",
      "\n",
      "success!\n"
     ]
    }
   ],
   "source": [
    "pickup_only_env = multi_taxi_v0.env(\n",
    "    num_taxis=2,\n",
    "    num_passengers=3,\n",
    "    max_capacity=[1, 2],\n",
    "    max_fuel=[30, None],\n",
    "    has_standby_action=True,\n",
    "    has_engine_control=[True, False],\n",
    "    domain_map=maps.HOURGLASS,\n",
    "    pickup_only=True, # SET PICKUP ONLY FOR EASIER OBJECTIVE\n",
    "    render_mode='human'\n",
    ")\n",
    "\n",
    "# new solution tailored for the pickup only objective\n",
    "solution = {'taxi_0': [0, 0, 4, 0, 0, 0, 3, 3, 0, 4],\n",
    "            'taxi_1': [0, 4, 5, 5, 5, 5, 5, 5, 5, 5]}\n",
    "\n",
    "\n",
    "pickup_only_env.reset(seed=42)\n",
    "pickup_only_env.render()\n",
    "for agent in pickup_only_env.agent_iter():\n",
    "\n",
    "    # observation, reward, done, and info given one by one via the `last` method\n",
    "    observation, reward, term, trunc, info = pickup_only_env.last()\n",
    "\n",
    "    if term:  # check done status\n",
    "        print('success!')\n",
    "        break\n",
    "    if trunc:\n",
    "        print('truncated')\n",
    "        break\n",
    "\n",
    "    if not solution[pickup_only_env.agent_selection]:  # check solution complete without done\n",
    "        print('failure')\n",
    "        break\n",
    "\n",
    "    # get next action from predefined solution\n",
    "    action = solution[pickup_only_env.agent_selection].pop(0)\n",
    "    pickup_only_env.step(action)\n",
    "\n",
    "    # re-render after step\n",
    "    if  agent == pickup_only_env.possible_agents[-1]:\n",
    "        # state only changes after both taxis have stepped\n",
    "        time.sleep(0.15)  # sleep for animation speed control\n",
    "        clear_output(wait=True)  # clear previous render for animation effect\n",
    "        pickup_only_env.render()"
   ]
  },
  {
   "cell_type": "markdown",
   "id": "ff5dfbc1",
   "metadata": {
    "tags": []
   },
   "source": [
    "## Environment Parameters\n",
    "As was previously mentioned, this environment is highly configurable. There are two types of environment parameters: Environment configurations and Taxi configurations. Below is a list of these parameters:\n",
    "\n",
    "Environment configurations:\n",
    "* `num_taxis`: the number of taxis operating in the environment.\n",
    "* `num_passengers`: the number of passengers to drive in the environment.\n",
    "* `domain_map`: array of strings representing the environment map with special characters for taxis initialized spots and fuel stations(see `multi_taxi.world.maps.DEFAULT_MAP`).\n",
    "* `pickup_only`: simplifies the problem to only pick up all passengers, without needing dropping them off.\n",
    "* `pickup_order`: a list of passenger IDs (zero-indexed) that enforces the order in which these passengers can be picked up. Passengers not included in the list may be picked up at any time. For example, if we have 3 passengers and a pickup order of \\[1, 0\\], then passenger 0 can only be picked up after passenger 1 has been picked up, and passenger 2 can be picked up regardless of any other passenger's status.\n",
    "* `dropoff_order`: a list of passenger IDs (zero-indexed) that enforces the order in which these passengers can be dropped off at their destination. Passengers not included in the list may be dropped off at their destination at any time. For example, if we have 3 passengers and a dropoff order of \\[1, 0\\], then passenger 0 can only be delivered at its destination after passenger 1 has been delivered, and passenger 3 can be delivered regardless of any other passenger's status.\n",
    "* `intermediate_dropoff_reward_by_distance`: changes the reward function for dropping off passengers at a location that is not their final destination. if `True`, the given reward for intermediate dropoffs is the negative Manhattan distance from the dropoff location and the passenger's true destination. otherwise, the given reward is that of the taxi's reward table.\n",
    "* `distinct_taxi_initial_locations`: asserts distinct start locations for taxis on reset.\n",
    "* `distinct_passenger_initial_pickups`: asserts distinct start locations for passengers on reset.\n",
    "* `distinct_passenger_dropoffs`: asserts distinct passenger destinations on reset.\n",
    "* `allow_collided_taxis_on_reset`: if `True`, taxis may start at the same location and are considered to be collided.\n",
    "* `allow_arrived_passengers_on_reset`: if `True`, passengers may start at the same location as their destination and are considered to have arrived.\n",
    "* `clear_dead_taxis`: if `True`, taxis that can no longer act (i.e. dead) are completely removed from the environment. otherwise, dead taxis remain in the environment, continue receiving rewards, and can be collided into.\n",
    "* `initial_seed`: sets deterministic randomness in the environment. can be overriden at any time using the `seed` method, or by providing a `seed` parameter to the `reset` method.\n",
    "* `render_mode`: set this parameter to control the type of environment rendering. can be 'human', 'ansi', or 'rgb_arry'. if not provided, no rendering is available (calling `render` will emmit a warning).\n",
    "\n",
    "Taxi Configurations:\n",
    "* `max_steps`: determines the maximum number of actions a taxi can take at each reset.\n",
    "* `max_capacity`: determines a taxi's maximum passenger capacity.\n",
    "* `max_fuel`: determines a taxi's maximum fuel capacity\n",
    "* `fuel_type`: determines a taxi's required fuel station for refueling\n",
    "* `has_standby_action`: if `True`, the taxi has the ability to perform the \"standby\" action, i.e., do nothing.\n",
    "* `has_engine_control`: if `True`, the taxi can turn the engine on and off.\n",
    "* `engine_off_on_empty_tank`: if `True`, if the taxi runs out of fuel and does not refuel at that step, the taxi's engine will turn off. This parameter is ignored if the taxi does not have engine control.\n",
    "* `can_refuel_on_empty`: if `False`, a taxi is considered dead when its fuel capacity reaches 0. if `True`, a taxi with 0 fuel may still act if it is on a valid fuel station.\n",
    "* `can_collide`: if `True`, the taxi becomes a collidable and may collide with other collidable taxis.\n",
    "* `passenger_fumble`: if `True`, all carried passengers are dropped off when the taxi dies at the location of the taxi's death.\n",
    "* `specify_passenger_pickup`: if `True`, the taxi's \"pickup\" actions must indicate the exact passenger they intend to pick up. otherwise, a generic pickup action is used.\n",
    "* `specify_passenger_dropoff`: if `True`, the taxi's \"dropoff\" actions must indicate the exact passenger they intend to drop off. otherwise, a generic dropoff action is used.\n",
    "* `reward_table`: a dictionary that describes the taxi's reward function upon the occurrence of certain events (see `multi_taxi.utils.types.Event`).\n",
    "* `stochastic_actions`: a dictionary that describes a taxi's probabilities to perform different actions than the intended one.\n",
    "* `observation_type`: determines the type of observations received for the taxi.\n",
    "* `can_see_other_taxi_info`: adds information for other taxis into symbolic observations. ignored when image observations are used.\n",
    "* `field_of_view`: defines the dimension of the square window around the taxi within the domain map for image observations. if not specified, the image observation is the entire map.\n",
    "\n",
    "Environment configurations must be a single value of a specific type, while taxi configurations are either a specific type or a list values of that type which is the same length as the number of taxis in the environment. Taxi configurations that are a single value will be used for all taxis. Any configuration, including specific taxi configurations (i.e., values within a given list of configurations) may be replaced with `None` to use the default configuration. Configuration defaults can be found in `multi_taxi.env.config`.\n",
    "\n",
    "Throughout this notebook, we will explore what these configurations mean, and what combinations are possible (hit: most combinations are possible)."
   ]
  },
  {
   "cell_type": "markdown",
   "id": "2786ed22",
   "metadata": {},
   "source": [
    "## Observations\n",
    "\n",
    "Observations can be divided into 2 categories: \"symbolic vectors\" and \"images\". By default, taxis receive symbolic observations tailored to their given or default configurations. The PettingZoo API provides us to view the agents' observation spaces individually. Let us try this on our previously created environment."
   ]
  },
  {
   "cell_type": "code",
   "execution_count": 6,
   "id": "51bc4fa7-deba-4fd9-a63d-27a810927818",
   "metadata": {
    "tags": []
   },
   "outputs": [
    {
     "data": {
      "text/plain": [
       "MultiDiscrete([ 7 12 31  2  2  7 12  7 12  2  2  2  7 12  7 12  2  2  2  7 12  7 12  2\n",
       "  2  2])"
      ]
     },
     "execution_count": 6,
     "metadata": {},
     "output_type": "execute_result"
    }
   ],
   "source": [
    "env.observation_space('taxi_0')"
   ]
  },
  {
   "cell_type": "code",
   "execution_count": 7,
   "id": "f33c7e94-705c-474e-89db-c49bd8523f72",
   "metadata": {
    "tags": []
   },
   "outputs": [
    {
     "data": {
      "text/plain": [
       "MultiDiscrete([ 7 12  7 12  7 12  2  2  2  7 12  7 12  2  2  2  7 12  7 12  2  2  2])"
      ]
     },
     "execution_count": 7,
     "metadata": {},
     "output_type": "execute_result"
    }
   ],
   "source": [
    "env.observation_space('taxi_1')"
   ]
  },
  {
   "cell_type": "markdown",
   "id": "99e39929-e587-4152-9345-63b996891ead",
   "metadata": {},
   "source": [
    "As we can see, since both taxis are configured differently, they receive unique observations of different dimensions and overall meanings. For example, taxi_0 has a fuel limit, and thus receives this information at index 2 (third from the left) of the observation vector."
   ]
  },
  {
   "cell_type": "markdown",
   "id": "544f282b-9f48-45ed-8194-c69804a8301b",
   "metadata": {},
   "source": [
    "### Symbolic Observations\n",
    "\n",
    "Symbolic observations are simply vectors with discrete values that describe the environment. There are 17 different kinds of values, some of which may be repeating (e.g., multiple taxi locations), and they can appear in various combinations. Like we saw for our previously created environment, this is a very messy vector, and it can take a long time to understand what each value represents. For user convenience, we have added an additional API function `get_observation_meanings` that shows us exactly that. Let us see how we can use it (this time with the parallel environment, just to show that it doesn't matter)."
   ]
  },
  {
   "cell_type": "code",
   "execution_count": 8,
   "id": "bde69fc5-a56a-4c58-b46a-45493b4c8c7d",
   "metadata": {
    "tags": []
   },
   "outputs": [
    {
     "data": {
      "text/plain": [
       "['location_row',\n",
       " 'location_col',\n",
       " 'remaining_fuel',\n",
       " 'engine_on',\n",
       " 'is_dead',\n",
       " 'passenger_0_location_row',\n",
       " 'passenger_0_location_col',\n",
       " 'passenger_0_destination_row',\n",
       " 'passenger_0_destination_col',\n",
       " 'passenger_0_arrived',\n",
       " 'passenger_0_in_taxi_0',\n",
       " 'passenger_0_in_taxi_1',\n",
       " 'passenger_1_location_row',\n",
       " 'passenger_1_location_col',\n",
       " 'passenger_1_destination_row',\n",
       " 'passenger_1_destination_col',\n",
       " 'passenger_1_arrived',\n",
       " 'passenger_1_in_taxi_0',\n",
       " 'passenger_1_in_taxi_1',\n",
       " 'passenger_2_location_row',\n",
       " 'passenger_2_location_col',\n",
       " 'passenger_2_destination_row',\n",
       " 'passenger_2_destination_col',\n",
       " 'passenger_2_arrived',\n",
       " 'passenger_2_in_taxi_0',\n",
       " 'passenger_2_in_taxi_1']"
      ]
     },
     "execution_count": 8,
     "metadata": {},
     "output_type": "execute_result"
    }
   ],
   "source": [
    "# This is multi_taxi specific API and can only be accessed by unwrapping all wrappers.\n",
    "par_env.unwrapped.get_observation_meanings('taxi_0')"
   ]
  },
  {
   "cell_type": "code",
   "execution_count": 9,
   "id": "39478f4c-0616-485e-bb83-e8abfa3ceea9",
   "metadata": {
    "tags": []
   },
   "outputs": [
    {
     "data": {
      "text/plain": [
       "['location_row',\n",
       " 'location_col',\n",
       " 'passenger_0_location_row',\n",
       " 'passenger_0_location_col',\n",
       " 'passenger_0_destination_row',\n",
       " 'passenger_0_destination_col',\n",
       " 'passenger_0_arrived',\n",
       " 'passenger_0_in_taxi_0',\n",
       " 'passenger_0_in_taxi_1',\n",
       " 'passenger_1_location_row',\n",
       " 'passenger_1_location_col',\n",
       " 'passenger_1_destination_row',\n",
       " 'passenger_1_destination_col',\n",
       " 'passenger_1_arrived',\n",
       " 'passenger_1_in_taxi_0',\n",
       " 'passenger_1_in_taxi_1',\n",
       " 'passenger_2_location_row',\n",
       " 'passenger_2_location_col',\n",
       " 'passenger_2_destination_row',\n",
       " 'passenger_2_destination_col',\n",
       " 'passenger_2_arrived',\n",
       " 'passenger_2_in_taxi_0',\n",
       " 'passenger_2_in_taxi_1']"
      ]
     },
     "execution_count": 9,
     "metadata": {},
     "output_type": "execute_result"
    }
   ],
   "source": [
    "par_env.unwrapped.get_observation_meanings('taxi_1')"
   ]
  },
  {
   "cell_type": "code",
   "execution_count": 10,
   "id": "e4e617a9-254e-47e6-8784-b112e044b728",
   "metadata": {
    "tags": []
   },
   "outputs": [
    {
     "name": "stdout",
     "output_type": "stream",
     "text": [
      "observation space difference {'is_dead', 'remaining_fuel', 'engine_on'}\n"
     ]
    }
   ],
   "source": [
    "obs_space_diff = (set(par_env.unwrapped.get_observation_meanings('taxi_0')) -\n",
    "                  set(par_env.unwrapped.get_observation_meanings('taxi_1')))\n",
    "print('observation space difference', obs_space_diff)"
   ]
  },
  {
   "cell_type": "markdown",
   "id": "6ccbfe36-79d7-46e7-8c5e-c0d9dc2b705d",
   "metadata": {},
   "source": [
    "We can see in the above outputs that taxi_0 receives 3 additional inputs over taxi_1:\n",
    "1. remaining_fuel - because it has a fuel limit, which taxi_1 does not\n",
    "2. engine_on - because it has engine control, and taxi_1 does not (engine will remain on at all times)\n",
    "3. is_dead - since the taxi can die if it runs out of fuel and is not at a valid fuel station\n",
    "\n",
    "Therea are many more configurations that directly affect the structure of the taxi's symbolic input. For example, `can_see_other_taxi_info` will reveal all other taxi's locations and any other important taxi information if relevant (fuel, engine status, etc.). This can get very complicated very fast. However, whenever users want to understand the meaning behind the values in the observations, `get_observation_meanings` is at their disposal. For a full list of possible symbolic observation types, see the enum `multi_taxi.utils.types.SymbolicObservation`.\n",
    "\n",
    "Finally, below is an example of an actual observation."
   ]
  },
  {
   "cell_type": "code",
   "execution_count": 11,
   "id": "9724acda-0d8a-4afa-8393-f76fd08b4c7c",
   "metadata": {
    "tags": []
   },
   "outputs": [
    {
     "data": {
      "text/plain": [
       "array([ 1,  4, 30,  1,  0,  0,  2,  6,  2,  0,  0,  0,  6,  2,  0,  3,  0,\n",
       "        0,  0,  6,  9,  1,  4,  0,  0,  0])"
      ]
     },
     "execution_count": 11,
     "metadata": {},
     "output_type": "execute_result"
    }
   ],
   "source": [
    "obs = par_env.reset()\n",
    "obs['taxi_0']"
   ]
  },
  {
   "cell_type": "markdown",
   "id": "30d180dd-4802-4445-81e3-fa4cd1af4fbf",
   "metadata": {},
   "source": [
    "### Image Observations\n",
    "\n",
    "If highly versitile and configurable vector input is not enough, this domain also supports RGB image observations. As we have already seen, the environment is rendered as ANSI text, but with the look of an old-school viedo game. We can provide this input as an image by rendering the text in real-time and providing these renderings as observations from the environment. Let's start by creating an environment where taxis receive image input."
   ]
  },
  {
   "cell_type": "code",
   "execution_count": 12,
   "id": "ba848829-4c6f-48dc-a747-4c71c39c5c8a",
   "metadata": {
    "tags": []
   },
   "outputs": [
    {
     "name": "stdout",
     "output_type": "stream",
     "text": [
      "+-----------------------------------+\n",
      "|X:F: | : : : : : | : | : : : : : : |\n",
      "|X:X: | : :\u001B[47m \u001B[0m| : : | : | : : :X:X: : |\n",
      "| :\u001B[32mD\u001B[0m: | : : | : :\u001B[37mD\u001B[0m| : | : : :X:X:G: |\n",
      "| : : : : : | : : | :X| : : : : : :\u001B[33mD\u001B[0m|\n",
      "|\u001B[43m \u001B[0m: : : : : : : :G:F: : : :\u001B[36mP\u001B[0m: : | : |\n",
      "| : |X:X:X: :\u001B[37mP\u001B[0m: : : :\u001B[36mD\u001B[0m: : :\u001B[41m \u001B[0m: : : : |\n",
      "| : | : : : : : :X:X: : : : : : |F: |\n",
      "|\u001B[32mP\u001B[0m: | : : : : :X:X:X:X: : |\u001B[31mD\u001B[0m: : : : |\n",
      "| : :F: : | : : : : : : : | : :G| : |\n",
      "| : | : :G| :\u001B[33mP\u001B[0m:X:X:X:X:\u001B[31mP\u001B[0m: : : : : : |\n",
      "+-----------------------------------+\n",
      "Taxi0-YELLOW: Fuel: inf, Location: (4, 0), Engine: ON, Collided: False, Step: 0, ALIVE\n",
      "Taxi1-RED: Fuel: inf, Location: (5, 13), Engine: ON, Collided: False, Step: 0, ALIVE\n",
      "Taxi2-WHITE: Fuel: inf, Location: (1, 5), Engine: ON, Collided: False, Step: 0, ALIVE\n",
      "Passenger0-YELLOW: Location: (9, 6), Destination: (3, 17)\n",
      "Passenger1-RED: Location: (9, 11), Destination: (7, 13)\n",
      "Passenger2-WHITE: Location: (5, 6), Destination: (2, 8)\n",
      "Passenger3-GREEN: Location: (7, 0), Destination: (2, 1)\n",
      "Passenger4-CYAN: Location: (4, 13), Destination: (5, 10)\n",
      "Env done: False\n",
      "\n"
     ]
    }
   ],
   "source": [
    "from multi_taxi import ObservationType\n",
    "\n",
    "# use parallel API for simultaneous access to all observations\n",
    "img_par_env = multi_taxi_v0.parallel_env(\n",
    "    num_taxis=3,\n",
    "    num_passengers=5,\n",
    "    domain_map=maps.BIG_MAP,\n",
    "    observation_type=ObservationType.IMAGE,\n",
    "    field_of_view=[None, 3, 10],\n",
    "    render_mode='human'\n",
    ")\n",
    "obs = img_par_env.reset()\n",
    "img_par_env.render()"
   ]
  },
  {
   "cell_type": "markdown",
   "id": "af9b4bf6-2bf4-4297-ae21-a6d53a635e92",
   "metadata": {},
   "source": [
    "We can view the observations in the notebook by using the below helper function to convert the observation numpy array into a PIL.Image object."
   ]
  },
  {
   "cell_type": "code",
   "execution_count": 13,
   "id": "ebb00c9f-dd8e-42fc-93e6-361a9c93f327",
   "metadata": {
    "tags": []
   },
   "outputs": [
    {
     "data": {
      "image/png": "[encoded data removed]",
      "text/plain": [
       "<PIL.Image.Image image mode=RGB size=330x185>"
      ]
     },
     "execution_count": 13,
     "metadata": {},
     "output_type": "execute_result"
    }
   ],
   "source": [
    "from PIL import Image\n",
    "def np_to_pil(img_arr):\n",
    "    return Image.fromarray(img_arr)\n",
    "\n",
    "np_to_pil(obs['taxi_0'])"
   ]
  },
  {
   "cell_type": "markdown",
   "id": "a801a13c-d420-4ab7-ac6c-c0a358f0c77d",
   "metadata": {},
   "source": [
    "#### Field of View\n",
    "\n",
    "The `field_of_view` parameter controls the size of the image. In the above example observation of taxi_0, we can see that the taxi receives the entire map status as input. We can use this parameter to trim a square window around the observing taxi, so as to mimic some sort of limmited view. Let's take a look at the observation of taxi_1 with `field_of_view=3` and taxi_2 with `field_of_view=10`."
   ]
  },
  {
   "cell_type": "code",
   "execution_count": 14,
   "id": "04a695e9-3dd0-4ce9-ad98-8fbf9cadb4fb",
   "metadata": {
    "tags": []
   },
   "outputs": [
    {
     "data": {
      "image/png": "[encoded data removed]",
      "text/plain": [
       "<PIL.Image.Image image mode=RGB size=130x104>"
      ]
     },
     "execution_count": 14,
     "metadata": {},
     "output_type": "execute_result"
    }
   ],
   "source": [
    "np_to_pil(obs['taxi_1'])"
   ]
  },
  {
   "cell_type": "code",
   "execution_count": 15,
   "id": "03896a5e-b541-4dbc-81db-f02bae7e1557",
   "metadata": {
    "tags": []
   },
   "outputs": [
    {
     "data": {
      "image/png": "[encoded data removed]",
      "text/plain": [
       "<PIL.Image.Image image mode=RGB size=373x314>"
      ]
     },
     "execution_count": 15,
     "metadata": {},
     "output_type": "execute_result"
    }
   ],
   "source": [
    "np_to_pil(obs['taxi_2'])"
   ]
  },
  {
   "cell_type": "markdown",
   "id": "7082167d-3b90-49d1-97c9-52fd9e885b43",
   "metadata": {},
   "source": [
    "A couple of notes on image observations:\n",
    "1. Image observations are limitted due to the limmitations of ANSI text. That is, while the number of taxis is limmited only by the size of the map (unless `distinct_taxi_initial_locations=True`... there are just way too many configurations), the number of colors that ANSI text can show is very little. The maximum number of uniquely colored taxis and passengers/destinations is 7, and so multiple taxis in the rendering may have the same color if this number is surpassed, which may lead to ambiguity when using image input, especially with full map view.\n",
    "2. The current implementation of ANSI to image rendering is quite inneficient. We are open to any and all suggestions from those who have a more efficient implementation and would like to share it. Please contact us via the github repository.\n",
    "\n",
    "### Mixed Observations\n",
    "\n",
    "There is still more! You don't have to choose between symbolic and image input... You can use BOTH! By choosing the MIXED observation type, a taxi will receive a dictionary of observations. Let us see an example below where all 3 taxis have different types of observations spaces, all for which we can get their meanings using `get_observation_meanings`."
   ]
  },
  {
   "cell_type": "code",
   "execution_count": 16,
   "id": "5ec2c518-70d4-4cb9-835a-dd5a4223e8df",
   "metadata": {
    "tags": []
   },
   "outputs": [],
   "source": [
    "multi_obs_env = multi_taxi_v0.parallel_env(\n",
    "    # NO MAP PROVIDED THIS TIME. use the default map\n",
    "    num_taxis=3,\n",
    "    num_passengers=5,\n",
    "    max_fuel=[30, 50, None],\n",
    "    observation_type=[\"symbolic\", \"image\", \"mixed\"],  # can use the enum's string values instead of the enum value!!!\n",
    "    can_see_other_taxi_info=True,\n",
    "    field_of_view=[0, 10, None]  # FOV ignored for symbolic input\n",
    ")\n",
    "\n",
    "obs = multi_obs_env.reset()"
   ]
  },
  {
   "cell_type": "code",
   "execution_count": 17,
   "id": "fdbfba45-1c52-4e25-9270-c1d7bd77444e",
   "metadata": {
    "tags": []
   },
   "outputs": [
    {
     "data": {
      "text/plain": [
       "(MultiDiscrete([ 7 12 31  2  7 12 51  2  7 12  7 12  7 12  2  2  2  2  7 12  7 12  2  2\n",
       "   2  2  7 12  7 12  2  2  2  2  7 12  7 12  2  2  2  2  7 12  7 12  2  2\n",
       "   2  2]),\n",
       " ['location_row',\n",
       "  'location_col',\n",
       "  'remaining_fuel',\n",
       "  'is_dead',\n",
       "  'taxi_1_location_row',\n",
       "  'taxi_1_location_col',\n",
       "  'taxi_1_remaining_fuel',\n",
       "  'taxi_1_is_dead',\n",
       "  'taxi_2_location_row',\n",
       "  'taxi_2_location_col',\n",
       "  'passenger_0_location_row',\n",
       "  'passenger_0_location_col',\n",
       "  'passenger_0_destination_row',\n",
       "  'passenger_0_destination_col',\n",
       "  'passenger_0_arrived',\n",
       "  'passenger_0_in_taxi_0',\n",
       "  'passenger_0_in_taxi_1',\n",
       "  'passenger_0_in_taxi_2',\n",
       "  'passenger_1_location_row',\n",
       "  'passenger_1_location_col',\n",
       "  'passenger_1_destination_row',\n",
       "  'passenger_1_destination_col',\n",
       "  'passenger_1_arrived',\n",
       "  'passenger_1_in_taxi_0',\n",
       "  'passenger_1_in_taxi_1',\n",
       "  'passenger_1_in_taxi_2',\n",
       "  'passenger_2_location_row',\n",
       "  'passenger_2_location_col',\n",
       "  'passenger_2_destination_row',\n",
       "  'passenger_2_destination_col',\n",
       "  'passenger_2_arrived',\n",
       "  'passenger_2_in_taxi_0',\n",
       "  'passenger_2_in_taxi_1',\n",
       "  'passenger_2_in_taxi_2',\n",
       "  'passenger_3_location_row',\n",
       "  'passenger_3_location_col',\n",
       "  'passenger_3_destination_row',\n",
       "  'passenger_3_destination_col',\n",
       "  'passenger_3_arrived',\n",
       "  'passenger_3_in_taxi_0',\n",
       "  'passenger_3_in_taxi_1',\n",
       "  'passenger_3_in_taxi_2',\n",
       "  'passenger_4_location_row',\n",
       "  'passenger_4_location_col',\n",
       "  'passenger_4_destination_row',\n",
       "  'passenger_4_destination_col',\n",
       "  'passenger_4_arrived',\n",
       "  'passenger_4_in_taxi_0',\n",
       "  'passenger_4_in_taxi_1',\n",
       "  'passenger_4_in_taxi_2'])"
      ]
     },
     "execution_count": 17,
     "metadata": {},
     "output_type": "execute_result"
    }
   ],
   "source": [
    "multi_obs_env.observation_space('taxi_0'), multi_obs_env.unwrapped.get_observation_meanings('taxi_0')"
   ]
  },
  {
   "cell_type": "code",
   "execution_count": 18,
   "id": "9db53f9b-b81f-4416-b9c7-8d354c3b796a",
   "metadata": {
    "tags": []
   },
   "outputs": [
    {
     "data": {
      "text/plain": [
       "(Box(0, 255, (314, 373, 3), uint8), '314x373 RGB image')"
      ]
     },
     "execution_count": 18,
     "metadata": {},
     "output_type": "execute_result"
    }
   ],
   "source": [
    "multi_obs_env.observation_space('taxi_1'), multi_obs_env.unwrapped.get_observation_meanings('taxi_1')"
   ]
  },
  {
   "cell_type": "code",
   "execution_count": 19,
   "id": "b52ae313-b955-4e9b-b816-54daabacd9fa",
   "metadata": {
    "tags": []
   },
   "outputs": [
    {
     "data": {
      "text/plain": [
       "(Dict('image': Box(0, 255, (140, 226, 3), uint8), 'symbolic': MultiDiscrete([ 7 12  7 12 31  2  7 12 51  2  7 12  7 12  2  2  2  2  7 12  7 12  2  2\n",
       "   2  2  7 12  7 12  2  2  2  2  7 12  7 12  2  2  2  2  7 12  7 12  2  2\n",
       "   2  2])),\n",
       " {'symbolic': ['location_row',\n",
       "   'location_col',\n",
       "   'taxi_0_location_row',\n",
       "   'taxi_0_location_col',\n",
       "   'taxi_0_remaining_fuel',\n",
       "   'taxi_0_is_dead',\n",
       "   'taxi_1_location_row',\n",
       "   'taxi_1_location_col',\n",
       "   'taxi_1_remaining_fuel',\n",
       "   'taxi_1_is_dead',\n",
       "   'passenger_0_location_row',\n",
       "   'passenger_0_location_col',\n",
       "   'passenger_0_destination_row',\n",
       "   'passenger_0_destination_col',\n",
       "   'passenger_0_arrived',\n",
       "   'passenger_0_in_taxi_0',\n",
       "   'passenger_0_in_taxi_1',\n",
       "   'passenger_0_in_taxi_2',\n",
       "   'passenger_1_location_row',\n",
       "   'passenger_1_location_col',\n",
       "   'passenger_1_destination_row',\n",
       "   'passenger_1_destination_col',\n",
       "   'passenger_1_arrived',\n",
       "   'passenger_1_in_taxi_0',\n",
       "   'passenger_1_in_taxi_1',\n",
       "   'passenger_1_in_taxi_2',\n",
       "   'passenger_2_location_row',\n",
       "   'passenger_2_location_col',\n",
       "   'passenger_2_destination_row',\n",
       "   'passenger_2_destination_col',\n",
       "   'passenger_2_arrived',\n",
       "   'passenger_2_in_taxi_0',\n",
       "   'passenger_2_in_taxi_1',\n",
       "   'passenger_2_in_taxi_2',\n",
       "   'passenger_3_location_row',\n",
       "   'passenger_3_location_col',\n",
       "   'passenger_3_destination_row',\n",
       "   'passenger_3_destination_col',\n",
       "   'passenger_3_arrived',\n",
       "   'passenger_3_in_taxi_0',\n",
       "   'passenger_3_in_taxi_1',\n",
       "   'passenger_3_in_taxi_2',\n",
       "   'passenger_4_location_row',\n",
       "   'passenger_4_location_col',\n",
       "   'passenger_4_destination_row',\n",
       "   'passenger_4_destination_col',\n",
       "   'passenger_4_arrived',\n",
       "   'passenger_4_in_taxi_0',\n",
       "   'passenger_4_in_taxi_1',\n",
       "   'passenger_4_in_taxi_2'],\n",
       "  'image': '140x226 RGB image'})"
      ]
     },
     "execution_count": 19,
     "metadata": {},
     "output_type": "execute_result"
    }
   ],
   "source": [
    "multi_obs_env.observation_space('taxi_2'), multi_obs_env.unwrapped.get_observation_meanings('taxi_2')"
   ]
  },
  {
   "cell_type": "code",
   "execution_count": 20,
   "id": "caf60a40-2ac3-42c3-8c8c-9f36d23dfbeb",
   "metadata": {
    "tags": []
   },
   "outputs": [
    {
     "data": {
      "text/plain": [
       "array([ 4,  0,  2,  7, 30,  0,  2,  5, 50,  0,  3, 11,  1,  0,  0,  0,  0,\n",
       "        0,  3,  8,  0,  9,  0,  0,  0,  0,  5,  8,  2,  3,  0,  0,  0,  0,\n",
       "        0,  6,  1,  6,  0,  0,  0,  0,  1,  6,  4, 10,  0,  0,  0,  0])"
      ]
     },
     "execution_count": 20,
     "metadata": {},
     "output_type": "execute_result"
    }
   ],
   "source": [
    "obs['taxi_2'][ObservationType.SYMBOLIC.value]"
   ]
  },
  {
   "cell_type": "code",
   "execution_count": 21,
   "id": "a108b968-c774-49c0-9b94-b18ea3c0d0f7",
   "metadata": {
    "tags": []
   },
   "outputs": [
    {
     "data": {
      "image/png": "[encoded data removed]",
      "text/plain": [
       "<PIL.Image.Image image mode=RGB size=226x140>"
      ]
     },
     "execution_count": 21,
     "metadata": {},
     "output_type": "execute_result"
    }
   ],
   "source": [
    "np_to_pil(obs['taxi_2'][ObservationType.IMAGE.value])"
   ]
  },
  {
   "cell_type": "markdown",
   "id": "27d3ee0e-ca3b-476b-8ae5-3ba08982e3e1",
   "metadata": {},
   "source": [
    "## Actions\n",
    "\n",
    "All action spaces are a finite set of discrete values. However, just like observations, action spaces may still differ in size between taxis. In our quickstart example, we already saw that one taxi can have additional engine control and standby actions. This too can get quite complex, and so we provide the `get_aciton_meanings` method, similar to the observations."
   ]
  },
  {
   "cell_type": "code",
   "execution_count": 22,
   "id": "64e3b603-fd71-4c6e-adff-469f177a8c1e",
   "metadata": {
    "tags": []
   },
   "outputs": [
    {
     "data": {
      "text/plain": [
       "(Discrete(10),\n",
       " {0: 'south',\n",
       "  1: 'north',\n",
       "  2: 'east',\n",
       "  3: 'west',\n",
       "  4: 'pickup',\n",
       "  5: 'dropoff',\n",
       "  6: 'standby',\n",
       "  7: 'engine_on',\n",
       "  8: 'engine_off',\n",
       "  9: 'refuel'})"
      ]
     },
     "execution_count": 22,
     "metadata": {},
     "output_type": "execute_result"
    }
   ],
   "source": [
    "env.action_space('taxi_0'), env.unwrapped.get_action_meanings('taxi_0')"
   ]
  },
  {
   "cell_type": "code",
   "execution_count": 23,
   "id": "d373c8e9-fd1a-47ff-9010-98c14d6131f5",
   "metadata": {
    "tags": []
   },
   "outputs": [
    {
     "data": {
      "text/plain": [
       "(Discrete(7),\n",
       " {0: 'south',\n",
       "  1: 'north',\n",
       "  2: 'east',\n",
       "  3: 'west',\n",
       "  4: 'pickup',\n",
       "  5: 'dropoff',\n",
       "  6: 'standby'})"
      ]
     },
     "execution_count": 23,
     "metadata": {},
     "output_type": "execute_result"
    }
   ],
   "source": [
    "env.action_space('taxi_1'), env.unwrapped.get_action_meanings('taxi_1')"
   ]
  },
  {
   "cell_type": "markdown",
   "id": "6730d42a-f8c8-4c4f-8c8d-31044101d28e",
   "metadata": {},
   "source": [
    "The environment also provides an inverse of this mapping to allow easy action choosing. For example, if we wanted to choose the `dropoff` action for taxi_1, we could easily consult this mapping."
   ]
  },
  {
   "cell_type": "code",
   "execution_count": 24,
   "id": "6b3a61d8-9aa3-4410-abb4-8e62937960fd",
   "metadata": {
    "tags": []
   },
   "outputs": [
    {
     "data": {
      "text/plain": [
       "5"
      ]
     },
     "execution_count": 24,
     "metadata": {},
     "output_type": "execute_result"
    }
   ],
   "source": [
    "from multi_taxi import Action\n",
    "\n",
    "env.unwrapped.get_action_map('taxi_1')[Action.DROPOFF.value]"
   ]
  },
  {
   "cell_type": "markdown",
   "id": "b977c119-eafc-430b-937b-4553c5f384dd",
   "metadata": {},
   "source": [
    "A full list of action types is available in the `multi_taxi.utils.types.Action` enum.\n",
    "\n",
    "### Generic Pickup and Dropoff\n",
    "A noteworthy set of actions is our versitile \"pickup\" and \"dropoff\" actions. As can be seen above, our quickstart environment has a single \"pickup\" action, and a single \"dropoff\" action. But what happens if two passengers occupy the same space when being picked up? Who does the taxi drop off if it is carrying multiple passengers? The generic \"pickup\" and \"dropoff\" rules are very simple and intuitive:\n",
    "* pickup - generic pickup will pick up any passenger at the taxi's current location. if multiple passengers meet this criterion, the passenger with the lowest ID is picked up.\n",
    "* dropoff - generic dropoff will drop off the passenger whose destination is at the taxi's current location. if multiple passengers meet this criterion, the passenger with the lowest ID is dropped off. if no passenger meets this criterion, the passenger in the taxi with the lowest ID is dropped off.\n",
    "\n",
    "### Specific Pickup and Dropoff\n",
    "The reason the above example is using the generic versions of pickup and dropoff is because, by default, the `specify_passenger_pickup` and `specify_passenger_dropoff` parameters are set to `False`. Setting them to `True` will change the observation space to provide a pickup and/or dropoff action for each passenger by index."
   ]
  },
  {
   "cell_type": "code",
   "execution_count": 25,
   "id": "1d0b28a4-767d-4eb4-ae47-5382d7c0a6e7",
   "metadata": {
    "tags": []
   },
   "outputs": [],
   "source": [
    "# taxi_0 must specify pickup\n",
    "# taxi_1 must specify dropoff\n",
    "# taxi_2 must specify both pickup and dropoff\n",
    "specific_pickup_and_dropoff_env = multi_taxi_v0.env(\n",
    "    num_taxis=3,\n",
    "    num_passengers=6,\n",
    "    specify_passenger_pickup=[True, False, True],\n",
    "    specify_passenger_dropoff=[False, True, True]\n",
    ")"
   ]
  },
  {
   "cell_type": "code",
   "execution_count": 26,
   "id": "b3cedab3-ec6a-49eb-8133-e0069b8a119e",
   "metadata": {
    "tags": []
   },
   "outputs": [
    {
     "data": {
      "text/plain": [
       "{0: 'south',\n",
       " 1: 'north',\n",
       " 2: 'east',\n",
       " 3: 'west',\n",
       " 4: 'pickup0',\n",
       " 5: 'pickup1',\n",
       " 6: 'pickup2',\n",
       " 7: 'pickup3',\n",
       " 8: 'pickup4',\n",
       " 9: 'pickup5',\n",
       " 10: 'dropoff'}"
      ]
     },
     "execution_count": 26,
     "metadata": {},
     "output_type": "execute_result"
    }
   ],
   "source": [
    "specific_pickup_and_dropoff_env.unwrapped.get_action_meanings('taxi_0')"
   ]
  },
  {
   "cell_type": "code",
   "execution_count": 27,
   "id": "fd145aa1-fb3d-47f7-9e64-8102b73576db",
   "metadata": {
    "tags": []
   },
   "outputs": [
    {
     "data": {
      "text/plain": [
       "{0: 'south',\n",
       " 1: 'north',\n",
       " 2: 'east',\n",
       " 3: 'west',\n",
       " 4: 'pickup',\n",
       " 5: 'dropoff0',\n",
       " 6: 'dropoff1',\n",
       " 7: 'dropoff2',\n",
       " 8: 'dropoff3',\n",
       " 9: 'dropoff4',\n",
       " 10: 'dropoff5'}"
      ]
     },
     "execution_count": 27,
     "metadata": {},
     "output_type": "execute_result"
    }
   ],
   "source": [
    "specific_pickup_and_dropoff_env.unwrapped.get_action_meanings('taxi_1')"
   ]
  },
  {
   "cell_type": "code",
   "execution_count": 28,
   "id": "d8c4b943-326e-4dce-bd4b-35abd16e420f",
   "metadata": {
    "tags": []
   },
   "outputs": [
    {
     "data": {
      "text/plain": [
       "{0: 'south',\n",
       " 1: 'north',\n",
       " 2: 'east',\n",
       " 3: 'west',\n",
       " 4: 'pickup0',\n",
       " 5: 'pickup1',\n",
       " 6: 'pickup2',\n",
       " 7: 'pickup3',\n",
       " 8: 'pickup4',\n",
       " 9: 'pickup5',\n",
       " 10: 'dropoff0',\n",
       " 11: 'dropoff1',\n",
       " 12: 'dropoff2',\n",
       " 13: 'dropoff3',\n",
       " 14: 'dropoff4',\n",
       " 15: 'dropoff5'}"
      ]
     },
     "execution_count": 28,
     "metadata": {},
     "output_type": "execute_result"
    }
   ],
   "source": [
    "specific_pickup_and_dropoff_env.unwrapped.get_action_meanings('taxi_2')"
   ]
  },
  {
   "cell_type": "markdown",
   "id": "b512f15a-0750-4f9f-95d1-3e3b3ab1d116",
   "metadata": {},
   "source": [
    "## Agent Death\n",
    "\n",
    "Agents can can become \"dead\" if one of the following occurs:\n",
    "1. The agent's fuel capacity has dropped to 0 and is not currently at a location with a fuel station of the matching type.\n",
    "2. The agent is collidable and has collided with another collidable agent.\n",
    "3. The environment has been running longer than the taxi's configured `max_steps`\n",
    "\n",
    "### Stuck Without Fuel\n",
    "An agent is considered to be \"stuck without fuel\" if its fuel capacity dropped to 0 at the current step. However, if the `can_refuel_on_empty` parameter is set to `True`, then the taxi will only be considered stuck if it is not currently located at the same place as fuel station, or the fuel station at the taxi's location is not of the  same fuel type, e.g., the taxi requires GAS (mathcing station is \"G\") but is at a FUEL station (\"F\"). In this case, if the taxi is actually located at a matching fuel station, it is not considered stuck and can act normally, but it cannot move or turn its engine on until it refuels.\n",
    "\n",
    "To demonstrate this we will have to engineer a scenario where this happens. Thankfully, we have implemented a `set_state` method that allows the user to set the exact state of the environment at any time. Using the `state` API method (required by PettingZoo), the user can get a copy of the current state, manipulate it, and set it as the actual environment state. The state object is a wrapper for the lists of taxis and passengers in the environemnt. See `multi_taxi.env.state` to learn more about the state, and `multi_taxi.world.entities` to learn more about Taxi and Passenger objects.\n",
    "\n",
    "In the below examples, both taxis will run out of fuel in the next step. Luckily, both are adjacent to an appropriate station. taxi_0 (yellow) can refuel at stations of type `F`, but not when its tank is empty. taxi_1 (red) refuels at `G` stations and may refuel with an empty tank."
   ]
  },
  {
   "cell_type": "code",
   "execution_count": 29,
   "id": "eefc32ad-d5cd-4c43-b809-eb81c3841b0b",
   "metadata": {
    "tags": []
   },
   "outputs": [
    {
     "name": "stdout",
     "output_type": "stream",
     "text": [
      "+-----------------------+\n",
      "| : |F: | : | : | : |F: |\n",
      "| : |\u001B[43m \u001B[0m: : : | : | : | : |\n",
      "| : : : : : : : : : : : |\n",
      "| : : : : : | : : : : : |\n",
      "| : : : : : |\u001B[33mP\u001B[0m: : : : : |\n",
      "| : : : : : :\u001B[41m \u001B[0m: : : : : |\n",
      "| | :G| | | :G| | | : | |\n",
      "+-----------------------+\n",
      "Taxi0-YELLOW: Fuel: 1/100, Location: (1, 2), Engine: ON, Collided: False, Step: 0, ALIVE\n",
      "Taxi1-RED: Fuel: 1/50, Location: (5, 6), Engine: ON, Collided: False, Step: 0, ALIVE\n",
      "Passenger0-YELLOW: Location: (4, 6), Destination: (-1, -1)\n",
      "Env done: False\n",
      "\n"
     ]
    }
   ],
   "source": [
    "stuck_env = multi_taxi_v0.env(\n",
    "    num_taxis=2,\n",
    "    max_fuel=[100, 50],\n",
    "    fuel_type=['F', 'G'],\n",
    "    can_refuel_on_empty=[False, True],\n",
    "    pickup_only=True,\n",
    "    render_mode='human'\n",
    ")\n",
    "\n",
    "stuck_env.reset()\n",
    "\n",
    "# get state with the `state` method\n",
    "s = stuck_env.state()  # returns a copy, and not the state itself\n",
    "\n",
    "# set taxi_0's location to be adjacent to an `F` station\n",
    "s.taxis[0].location = (1, 2)\n",
    "\n",
    "# set taxi_1's location to be adjacent to a `G` station\n",
    "s.taxis[1].location = (5, 6)\n",
    "\n",
    "# set all taxi's fuel to 1\n",
    "for taxi in s.taxis: taxi.fuel = 1\n",
    "\n",
    "# set easy pickup location\n",
    "s.passengers[0].location = (4, 6)\n",
    "\n",
    "# set the updated state\n",
    "stuck_env.unwrapped.set_state(s)\n",
    "\n",
    "stuck_env.render()"
   ]
  },
  {
   "cell_type": "markdown",
   "id": "1d9780df-5291-4de6-8726-8e852f448dd8",
   "metadata": {},
   "source": [
    "Each taxi will now step toward its corresponding station, thus depleting their fuel supply."
   ]
  },
  {
   "cell_type": "code",
   "execution_count": 30,
   "id": "232e3038-9129-4021-a774-55f3b2f0b8cc",
   "metadata": {
    "tags": []
   },
   "outputs": [
    {
     "name": "stdout",
     "output_type": "stream",
     "text": [
      "+-----------------------+\n",
      "| : |\u001B[43mF\u001B[0m: | : | : | : |F: |\n",
      "| : | : : : | : | : | : |\n",
      "| : : : : : : : : : : : |\n",
      "| : : : : : | : : : : : |\n",
      "| : : : : : |\u001B[33mP\u001B[0m: : : : : |\n",
      "| : : : : : : : : : : : |\n",
      "| | :G| | | :\u001B[41mG\u001B[0m| | | : | |\n",
      "+-----------------------+\n",
      "Taxi0-YELLOW: Fuel: 0/100, Location: (0, 2), Engine: ON, Collided: False, Step: 1, DEAD\n",
      "Taxi1-RED: Fuel: 0/50, Location: (6, 6), Engine: ON, Collided: False, Step: 1, ALIVE\n",
      "Passenger0-YELLOW: Location: (4, 6), Destination: (-1, -1)\n",
      "Env done: False\n",
      "\n",
      "taxi_0 events: [<Event.STEP: 1>, <Event.MOVE: 2>, <Event.STUCK_WITHOUT_FUEL: 18>]\n",
      "taxi_1 events: [<Event.STEP: 1>, <Event.MOVE: 2>]\n"
     ]
    }
   ],
   "source": [
    "# get south action discrete value\n",
    "north_action = stuck_env.unwrapped.get_action_map('taxi_0')[Action.NORTH.value]\n",
    "south_action = stuck_env.unwrapped.get_action_map('taxi_1')[Action.SOUTH.value]\n",
    "\n",
    "# act for both taxis\n",
    "stuck_env.step(north_action)\n",
    "stuck_env.step(south_action)\n",
    "\n",
    "stuck_env.render()\n",
    "\n",
    "print('taxi_0 events:', stuck_env.infos['taxi_0']['events'])\n",
    "print('taxi_1 events:', stuck_env.infos['taxi_1']['events'])"
   ]
  },
  {
   "cell_type": "markdown",
   "id": "877d18e7-ed60-4700-984d-73edc6247bea",
   "metadata": {},
   "source": [
    "Now both taxi's have 0 fuel. Notice that taxi_0 is now considered DEAD in the rendering, while taxi_1 remains ALIVE (we print the events in the info dict to see why). Also note that the environment is not yet done because the objective is not yet complete and there is still a remaining agent who is alive. taxi_1 is now stuck until it performs the refuel action."
   ]
  },
  {
   "cell_type": "code",
   "execution_count": 31,
   "id": "07092936-6ec1-43b7-9c9b-e66388c40c92",
   "metadata": {
    "tags": []
   },
   "outputs": [
    {
     "name": "stdout",
     "output_type": "stream",
     "text": [
      "+-----------------------+\n",
      "| : |\u001B[43mF\u001B[0m: | : | : | : |F: |\n",
      "| : | : : : | : | : | : |\n",
      "| : : : : : : : : : : : |\n",
      "| : : : : : | : : : : : |\n",
      "| : : : : : |\u001B[33mP\u001B[0m: : : : : |\n",
      "| : : : : : : : : : : : |\n",
      "| | :G| | | :\u001B[41mG\u001B[0m| | | : | |\n",
      "+-----------------------+\n",
      "Taxi0-YELLOW: Fuel: 0/100, Location: (0, 2), Engine: ON, Collided: False, Step: 1, DEAD\n",
      "Taxi1-RED: Fuel: 0/50, Location: (6, 6), Engine: ON, Collided: False, Step: 2, ALIVE\n",
      "Passenger0-YELLOW: Location: (4, 6), Destination: (-1, -1)\n",
      "Env done: False\n",
      "\n",
      "taxi_0 events: [<Event.DEAD: 22>, <Event.STUCK_WITHOUT_FUEL: 18>]\n",
      "taxi_1 events: [<Event.STEP: 1>, <Event.MOVE: 2>, <Event.USE_ENGINE_WHILE_NO_FUEL: 17>]\n"
     ]
    }
   ],
   "source": [
    "# act for both taxis\n",
    "stuck_env.step(north_action)\n",
    "stuck_env.step(north_action)\n",
    "\n",
    "stuck_env.render()\n",
    "\n",
    "print('taxi_0 events:', stuck_env.infos['taxi_0']['events'])\n",
    "print('taxi_1 events:', stuck_env.infos['taxi_1']['events'])"
   ]
  },
  {
   "cell_type": "markdown",
   "id": "67863aab-8f8f-4dfb-9407-8e0208a33d92",
   "metadata": {},
   "source": [
    "As we cvan see, taxi_1 cannot move. However, refueling will allow us to complete the objective"
   ]
  },
  {
   "cell_type": "code",
   "execution_count": 32,
   "id": "495ae1ce-0085-4669-8d70-6536a8b28e61",
   "metadata": {
    "tags": []
   },
   "outputs": [
    {
     "name": "stdout",
     "output_type": "stream",
     "text": [
      "events on refuel\n",
      "taxi_0 events: [<Event.DEAD: 22>, <Event.STUCK_WITHOUT_FUEL: 18>]\n",
      "taxi_1 events: [<Event.STEP: 1>, <Event.REFUEL: 6>]\n",
      "+-----------------------+\n",
      "| : |\u001B[43mF\u001B[0m: | : | : | : |F: |\n",
      "| : | : : : | : | : | : |\n",
      "| : : : : : : : : : : : |\n",
      "| : : : : : | : : : : : |\n",
      "| : : : : : |\u001B[41m \u001B[0m: : : : : |\n",
      "| : : : : : : : : : : : |\n",
      "| | :G| | | :G| | | : | |\n",
      "+-----------------------+\n",
      "Taxi0-YELLOW: Fuel: 0/100, Location: (0, 2), Engine: ON, Collided: False, Step: 1, DEAD\n",
      "Taxi1-RED: Fuel: 45/50, Location: (4, 6), Engine: ON, Collided: False, Step: 6, ALIVE\n",
      "Passenger0-YELLOW: Location: Taxi1 (4, 6), Destination: (-1, -1)\n",
      "Env done: True\n",
      "\n",
      "events on objective complete\n",
      "taxi_0 events: [<Event.DEAD: 22>, <Event.OBJECTIVE: 23>]\n",
      "taxi_1 events: [<Event.STEP: 1>, <Event.PICKUP: 3>, <Event.OBJECTIVE: 23>]\n"
     ]
    }
   ],
   "source": [
    "refuel_action = stuck_env.unwrapped.get_action_map('taxi_1')[Action.REFUEL.value]\n",
    "pickup_action = stuck_env.unwrapped.get_action_map('taxi_1')[Action.PICKUP.value]\n",
    "\n",
    "# act for both taxis\n",
    "stuck_env.step(refuel_action)\n",
    "stuck_env.step(refuel_action)\n",
    "\n",
    "print('events on refuel')\n",
    "print('taxi_0 events:', stuck_env.infos['taxi_0']['events'])\n",
    "print('taxi_1 events:', stuck_env.infos['taxi_1']['events'])\n",
    "\n",
    "for action in [north_action, north_action, pickup_action]:\n",
    "    stuck_env.step(action)\n",
    "    stuck_env.step(action)\n",
    "    \n",
    "stuck_env.render()\n",
    "print('events on objective complete')\n",
    "print('taxi_0 events:', stuck_env.infos['taxi_0']['events'])\n",
    "print('taxi_1 events:', stuck_env.infos['taxi_1']['events'])"
   ]
  },
  {
   "cell_type": "markdown",
   "id": "a59a44ba-782e-4ce1-a589-81d9a25c0a97",
   "metadata": {},
   "source": [
    "### Collision\n",
    "\n",
    "Agent collision is defined as either two agents entering the same cell or two agents swapping positions at the current step. We demonstrate below both kinds of collisions.\n",
    "\n",
    "#### Same Cell Collision"
   ]
  },
  {
   "cell_type": "code",
   "execution_count": 33,
   "id": "c07f5d5e-eb1b-4b45-803e-42a4928cbadf",
   "metadata": {
    "tags": []
   },
   "outputs": [
    {
     "name": "stdout",
     "output_type": "stream",
     "text": [
      "+-----------------------+\n",
      "|\u001B[43m \u001B[0m: |F: | : | : | : |F: |\n",
      "| : | : : : |\u001B[33mD\u001B[0m: | : | : |\n",
      "|\u001B[41m \u001B[0m: : : : : : : : : : : |\n",
      "| : : : : : | :\u001B[33mP\u001B[0m: : : : |\n",
      "| : : : : : | : : : : : |\n",
      "| : : : : : : : : : : : |\n",
      "| | :G| | | :G| | | : | |\n",
      "+-----------------------+\n",
      "Taxi0-YELLOW: Fuel: inf, Location: (0, 0), Engine: ON, Collided: False, Step: 0, ALIVE\n",
      "Taxi1-RED: Fuel: inf, Location: (2, 0), Engine: ON, Collided: False, Step: 0, ALIVE\n",
      "Passenger0-YELLOW: Location: (3, 7), Destination: (1, 6)\n",
      "Env done: False\n",
      "\n"
     ]
    }
   ],
   "source": [
    "collision_env = multi_taxi_v0.env(\n",
    "    num_taxis=2,\n",
    "    can_collide=True,  # both taxis are collidable\n",
    "    render_mode='human'\n",
    ")\n",
    "\n",
    "collision_env.reset()\n",
    "\n",
    "# get state with the `state` method\n",
    "s = collision_env.state()  # returns a copy, and not the state itself\n",
    "\n",
    "s.taxis[0].location = (0, 0)\n",
    "s.taxis[1].location = (2, 0)\n",
    "\n",
    "# set the updated state\n",
    "collision_env.unwrapped.set_state(s)\n",
    "\n",
    "collision_env.render()"
   ]
  },
  {
   "cell_type": "code",
   "execution_count": 34,
   "id": "10eb7bcf-1700-458d-9cc4-b28e0dddf24c",
   "metadata": {
    "tags": []
   },
   "outputs": [
    {
     "name": "stdout",
     "output_type": "stream",
     "text": [
      "+-----------------------+\n",
      "| : |F: | : | : | : |F: |\n",
      "|\u001B[41m\u001B[43m \u001B[0m\u001B[0m: | : : : |\u001B[33mD\u001B[0m: | : | : |\n",
      "| : : : : : : : : : : : |\n",
      "| : : : : : | :\u001B[33mP\u001B[0m: : : : |\n",
      "| : : : : : | : : : : : |\n",
      "| : : : : : : : : : : : |\n",
      "| | :G| | | :G| | | : | |\n",
      "+-----------------------+\n",
      "Taxi0-YELLOW: Fuel: inf, Location: (1, 0), Engine: ON, Collided: True, Step: 1, DEAD\n",
      "Taxi1-RED: Fuel: inf, Location: (1, 0), Engine: ON, Collided: True, Step: 1, DEAD\n",
      "Passenger0-YELLOW: Location: (3, 7), Destination: (1, 6)\n",
      "Env done: True\n",
      "\n"
     ]
    }
   ],
   "source": [
    "south_taxi_0 = collision_env.unwrapped.get_action_map('taxi_0')[Action.SOUTH.value]\n",
    "collision_env.step(south_taxi_0)\n",
    "\n",
    "north_taxi_1 = collision_env.unwrapped.get_action_map('taxi_1')[Action.NORTH.value]\n",
    "collision_env.step(north_taxi_1)\n",
    "\n",
    "collision_env.render()"
   ]
  },
  {
   "cell_type": "markdown",
   "id": "9e6faf58-40dd-403b-9bfa-49d0d8f32553",
   "metadata": {},
   "source": [
    "#### Swap Collosion"
   ]
  },
  {
   "cell_type": "code",
   "execution_count": 35,
   "id": "ed5eaac1-780d-4146-b20f-b9ae908724e3",
   "metadata": {
    "tags": []
   },
   "outputs": [
    {
     "name": "stdout",
     "output_type": "stream",
     "text": [
      "+-----------------------+\n",
      "|\u001B[43m \u001B[0m: |F: | : | : | : |F: |\n",
      "|\u001B[41m \u001B[0m: | : : : | : | : |\u001B[33mP\u001B[0m: |\n",
      "| : : : : :\u001B[33mD\u001B[0m: : : : : : |\n",
      "| : : : : : | : : : : : |\n",
      "| : : : : : | : : : : : |\n",
      "| : : : : : : : : : : : |\n",
      "| | :G| | | :G| | | : | |\n",
      "+-----------------------+\n",
      "Taxi0-YELLOW: Fuel: inf, Location: (0, 0), Engine: ON, Collided: False, Step: 0, ALIVE\n",
      "Taxi1-RED: Fuel: inf, Location: (1, 0), Engine: ON, Collided: False, Step: 0, ALIVE\n",
      "Passenger0-YELLOW: Location: (1, 10), Destination: (2, 5)\n",
      "Env done: False\n",
      "\n"
     ]
    }
   ],
   "source": [
    "collision_env.reset()\n",
    "\n",
    "# get state with the `state` method\n",
    "s = collision_env.state()  # returns a copy, and not the state itself\n",
    "\n",
    "s.taxis[0].location = (0, 0)\n",
    "s.taxis[1].location = (1, 0)\n",
    "\n",
    "# set the updated state\n",
    "collision_env.unwrapped.set_state(s)\n",
    "\n",
    "collision_env.render()"
   ]
  },
  {
   "cell_type": "code",
   "execution_count": 36,
   "id": "3ebf7ac6-17f8-4a71-adb2-67ef5f344c9e",
   "metadata": {
    "tags": []
   },
   "outputs": [
    {
     "name": "stdout",
     "output_type": "stream",
     "text": [
      "+-----------------------+\n",
      "|\u001B[41m \u001B[0m: |F: | : | : | : |F: |\n",
      "|\u001B[43m \u001B[0m: | : : : | : | : |\u001B[33mP\u001B[0m: |\n",
      "| : : : : :\u001B[33mD\u001B[0m: : : : : : |\n",
      "| : : : : : | : : : : : |\n",
      "| : : : : : | : : : : : |\n",
      "| : : : : : : : : : : : |\n",
      "| | :G| | | :G| | | : | |\n",
      "+-----------------------+\n",
      "Taxi0-YELLOW: Fuel: inf, Location: (1, 0), Engine: ON, Collided: True, Step: 1, DEAD\n",
      "Taxi1-RED: Fuel: inf, Location: (0, 0), Engine: ON, Collided: True, Step: 1, DEAD\n",
      "Passenger0-YELLOW: Location: (1, 10), Destination: (2, 5)\n",
      "Env done: True\n",
      "\n"
     ]
    }
   ],
   "source": [
    "collision_env.step(south_taxi_0)\n",
    "collision_env.step(north_taxi_1)\n",
    "collision_env.render()"
   ]
  },
  {
   "cell_type": "markdown",
   "id": "78c6f024-d46b-46ad-b81e-71777496ba48",
   "metadata": {},
   "source": [
    "### Multiple Simultaneous Collisions\n",
    "\n",
    "It is also possible for more than 2 taxis to collide with each other."
   ]
  },
  {
   "cell_type": "code",
   "execution_count": 37,
   "id": "89442663-6caf-479c-b9b0-672a975c0f3b",
   "metadata": {
    "tags": []
   },
   "outputs": [
    {
     "name": "stdout",
     "output_type": "stream",
     "text": [
      "+-----------------------+\n",
      "|\u001B[43m \u001B[0m: |F: | : | : | : |F: |\n",
      "|\u001B[47m \u001B[0m:\u001B[42m \u001B[0m| : : : | : | : | : |\n",
      "|\u001B[41m \u001B[0m: : : : : : : : : : : |\n",
      "| : : : : : | : : : : : |\n",
      "| : : : : : | : : : : : |\n",
      "| :\u001B[33mD\u001B[0m: : : : : : : : : : |\n",
      "| | :G| |\u001B[33mP\u001B[0m| :G| | | : | |\n",
      "+-----------------------+\n",
      "Taxi0-YELLOW: Fuel: inf, Location: (0, 0), Engine: ON, Collided: False, Step: 0, ALIVE\n",
      "Taxi1-RED: Fuel: inf, Location: (2, 0), Engine: ON, Collided: False, Step: 0, ALIVE\n",
      "Taxi2-WHITE: Fuel: inf, Location: (1, 0), Engine: ON, Collided: False, Step: 0, ALIVE\n",
      "Taxi3-GREEN: Fuel: inf, Location: (1, 1), Engine: ON, Collided: False, Step: 0, ALIVE\n",
      "Passenger0-YELLOW: Location: (6, 4), Destination: (5, 1)\n",
      "Env done: False\n",
      "\n"
     ]
    }
   ],
   "source": [
    "triple_collision_par_env = multi_taxi_v0.parallel_env(\n",
    "    num_taxis=4,\n",
    "    can_collide=True,  # all taxis can collide\n",
    "    render_mode='human'\n",
    ")\n",
    "\n",
    "triple_collision_par_env.reset()\n",
    "\n",
    "# get state with the `state` method\n",
    "s = triple_collision_par_env.state()  # returns a copy, and not the state itself\n",
    "\n",
    "s.taxis[0].location = (0, 0)\n",
    "s.taxis[1].location = (2, 0)\n",
    "s.taxis[2].location = (1, 0)\n",
    "s.taxis[3].location = (1, 1)\n",
    "\n",
    "# set the updated state\n",
    "triple_collision_par_env.unwrapped.set_state(s)\n",
    "\n",
    "triple_collision_par_env.render()"
   ]
  },
  {
   "cell_type": "code",
   "execution_count": 38,
   "id": "da9403da-9f15-4ce1-ac50-cbf228dbb5d3",
   "metadata": {
    "tags": []
   },
   "outputs": [
    {
     "name": "stdout",
     "output_type": "stream",
     "text": [
      "+-----------------------+\n",
      "| : |F: | : | : | : |F: |\n",
      "|\u001B[42m\u001B[41m\u001B[43m \u001B[0m\u001B[0m\u001B[0m:\u001B[47m \u001B[0m| : : : | : | : | : |\n",
      "| : : : : : : : : : : : |\n",
      "| : : : : : | : : : : : |\n",
      "| : : : : : | : : : : : |\n",
      "| :\u001B[33mD\u001B[0m: : : : : : : : : : |\n",
      "| | :G| |\u001B[33mP\u001B[0m| :G| | | : | |\n",
      "+-----------------------+\n",
      "Taxi0-YELLOW: Fuel: inf, Location: (1, 0), Engine: ON, Collided: True, Step: 1, DEAD\n",
      "Taxi1-RED: Fuel: inf, Location: (1, 0), Engine: ON, Collided: True, Step: 1, DEAD\n",
      "Taxi2-WHITE: Fuel: inf, Location: (1, 1), Engine: ON, Collided: True, Step: 1, DEAD\n",
      "Taxi3-GREEN: Fuel: inf, Location: (1, 0), Engine: ON, Collided: True, Step: 1, DEAD\n",
      "Passenger0-YELLOW: Location: (6, 4), Destination: (5, 1)\n",
      "Env done: True\n",
      "\n",
      "taxi_0 received reward: -101\n",
      "taxi_0 is taxi in terminal state: True\n",
      "taxi_0 events: [<Event.STEP: 1>, <Event.MOVE: 2>, <Event.COLLISION: 21>]\n",
      "taxi_0 collided with taxis: [1, 3]\n",
      "\n",
      "taxi_1 received reward: -101\n",
      "taxi_1 is taxi in terminal state: True\n",
      "taxi_1 events: [<Event.STEP: 1>, <Event.MOVE: 2>, <Event.COLLISION: 21>]\n",
      "taxi_1 collided with taxis: [0]\n",
      "\n",
      "taxi_2 received reward: -101\n",
      "taxi_2 is taxi in terminal state: True\n",
      "taxi_2 events: [<Event.STEP: 1>, <Event.MOVE: 2>, <Event.COLLISION: 21>]\n",
      "taxi_2 collided with taxis: [3]\n",
      "\n",
      "taxi_3 received reward: -101\n",
      "taxi_3 is taxi in terminal state: True\n",
      "taxi_3 events: [<Event.STEP: 1>, <Event.MOVE: 2>, <Event.COLLISION: 21>]\n",
      "taxi_3 collided with taxis: [0, 2]\n",
      "\n"
     ]
    }
   ],
   "source": [
    "# get actions\n",
    "south_taxi_0 = triple_collision_par_env.unwrapped.get_action_map('taxi_0')[Action.SOUTH.value]\n",
    "north_taxi_1 = triple_collision_par_env.unwrapped.get_action_map('taxi_1')[Action.NORTH.value]\n",
    "east_taxi_2 = triple_collision_par_env.unwrapped.get_action_map('taxi_2')[Action.EAST.value]\n",
    "west_taxi_3 = triple_collision_par_env.unwrapped.get_action_map('taxi_3')[Action.WEST.value]\n",
    "\n",
    "# do parallel step\n",
    "obs, rewards, terms, truncs, infos = triple_collision_par_env.step({'taxi_0': south_taxi_0,\n",
    "                                                                    'taxi_1': north_taxi_1,\n",
    "                                                                    'taxi_2': east_taxi_2,\n",
    "                                                                    'taxi_3': west_taxi_3})\n",
    "# display output\n",
    "triple_collision_par_env.render()\n",
    "for agent in rewards.keys():\n",
    "    print(f'{agent} received reward: {rewards[agent]}')\n",
    "    print(f'{agent} is taxi in terminal state: {terms[agent]}')\n",
    "    print(f'{agent} events: {infos[agent][\"events\"]}')\n",
    "    print(f'{agent} collided with taxis: {infos[agent][\"collided_with\"]}')\n",
    "    print()"
   ]
  },
  {
   "cell_type": "markdown",
   "id": "3dbc2d7d-8be2-43c6-bf06-ab217c25ef69",
   "metadata": {},
   "source": [
    "## Step Limit\n",
    "\n",
    "The `max_steps` taxi configuration can set a life span for each taxi individually based on the number of steps taken in the environment. In the example below, the three taxis have a max_step limit of 1, 2, 3, and infinity."
   ]
  },
  {
   "cell_type": "code",
   "execution_count": 39,
   "id": "7892222b-9ead-41f8-8fe7-8830adc5d2b0",
   "metadata": {
    "tags": []
   },
   "outputs": [
    {
     "name": "stdout",
     "output_type": "stream",
     "text": [
      "+-----------------------+\n",
      "| : |F: | : | :\u001B[41m \u001B[0m| : |F: |\n",
      "| : | : :\u001B[33mD\u001B[0m: | : | : | : |\n",
      "| : : : : : : : : : : : |\n",
      "|\u001B[43m \u001B[0m: : : : : | : : : : : |\n",
      "| : : : : : |\u001B[47m \u001B[0m: : : :\u001B[33mP\u001B[0m: |\n",
      "| : : :\u001B[42m \u001B[0m: : : : : : : : |\n",
      "| | :G| | | :G| | | : | |\n",
      "+-----------------------+\n",
      "Taxi0-YELLOW: Fuel: inf, Location: (3, 0), Engine: ON, Collided: False, Step: 0/1, ALIVE\n",
      "Taxi1-RED: Fuel: inf, Location: (0, 7), Engine: ON, Collided: False, Step: 0/2, ALIVE\n",
      "Taxi2-WHITE: Fuel: inf, Location: (4, 6), Engine: ON, Collided: False, Step: 0/3, ALIVE\n",
      "Taxi3-GREEN: Fuel: inf, Location: (5, 3), Engine: ON, Collided: False, Step: 0, ALIVE\n",
      "Passenger0-YELLOW: Location: (4, 10), Destination: (1, 4)\n",
      "Env done: False\n",
      "\n"
     ]
    }
   ],
   "source": [
    "step_limit_env = multi_taxi_v0.env(\n",
    "    num_taxis=4,\n",
    "    max_steps=[1, 2, 3, None],\n",
    "    render_mode='human'\n",
    ")\n",
    "step_limit_env.reset(seed=42)\n",
    "step_limit_env.render()"
   ]
  },
  {
   "cell_type": "markdown",
   "id": "8ffa763a-606a-480a-b2cb-63f7eb306b99",
   "metadata": {},
   "source": [
    "The taxis will act for 3 steps. we will see taxis 0-2 die separately at each ste and taxi_3 will stay alive since it does not have a step limit."
   ]
  },
  {
   "cell_type": "code",
   "execution_count": 40,
   "id": "8acd90f2-ee20-4c5b-bfcc-95ee08e2c918",
   "metadata": {
    "tags": []
   },
   "outputs": [
    {
     "name": "stdout",
     "output_type": "stream",
     "text": [
      "+-----------------------+\n",
      "| : |F: | : | : | : |F: |\n",
      "| : | : :\u001B[33mD\u001B[0m: | :\u001B[41m \u001B[0m| : | : |\n",
      "| : : : : : : : : : : : |\n",
      "| : : : : : | : : : : : |\n",
      "|\u001B[43m \u001B[0m: : : : : | : : : :\u001B[33mP\u001B[0m: |\n",
      "| : : : : : :\u001B[47m \u001B[0m: : : : : |\n",
      "| | :G|\u001B[42m \u001B[0m| | :G| | | : | |\n",
      "+-----------------------+\n",
      "Taxi0-YELLOW: Fuel: inf, Location: (4, 0), Engine: ON, Collided: False, Step: 1/1, DEAD\n",
      "Taxi1-RED: Fuel: inf, Location: (1, 7), Engine: ON, Collided: False, Step: 1/2, ALIVE\n",
      "Taxi2-WHITE: Fuel: inf, Location: (5, 6), Engine: ON, Collided: False, Step: 1/3, ALIVE\n",
      "Taxi3-GREEN: Fuel: inf, Location: (6, 3), Engine: ON, Collided: False, Step: 1, ALIVE\n",
      "Passenger0-YELLOW: Location: (4, 10), Destination: (1, 4)\n",
      "Env done: False\n",
      "\n",
      "+-----------------------+\n",
      "| : |F: | : | : | : |F: |\n",
      "| : | : :\u001B[33mD\u001B[0m: | : | : | : |\n",
      "| : : : : : : :\u001B[41m \u001B[0m: : : : |\n",
      "| : : : : : | : : : : : |\n",
      "|\u001B[43m \u001B[0m: : : : : | : : : :\u001B[33mP\u001B[0m: |\n",
      "| : : : : : : : : : : : |\n",
      "| | :G|\u001B[42m \u001B[0m| | :\u001B[47mG\u001B[0m| | | : | |\n",
      "+-----------------------+\n",
      "Taxi0-YELLOW: Fuel: inf, Location: (4, 0), Engine: ON, Collided: False, Step: 1/1, DEAD\n",
      "Taxi1-RED: Fuel: inf, Location: (2, 7), Engine: ON, Collided: False, Step: 2/2, DEAD\n",
      "Taxi2-WHITE: Fuel: inf, Location: (6, 6), Engine: ON, Collided: False, Step: 2/3, ALIVE\n",
      "Taxi3-GREEN: Fuel: inf, Location: (6, 3), Engine: ON, Collided: False, Step: 2, ALIVE\n",
      "Passenger0-YELLOW: Location: (4, 10), Destination: (1, 4)\n",
      "Env done: False\n",
      "\n",
      "+-----------------------+\n",
      "| : |F: | : | : | : |F: |\n",
      "| : | : :\u001B[33mD\u001B[0m: | : | : | : |\n",
      "| : : : : : : :\u001B[41m \u001B[0m: : : : |\n",
      "| : : : : : | : : : : : |\n",
      "|\u001B[43m \u001B[0m: : : : : | : : : :\u001B[33mP\u001B[0m: |\n",
      "| : : : : : : : : : : : |\n",
      "| | :G|\u001B[42m \u001B[0m| | :\u001B[47mG\u001B[0m| | | : | |\n",
      "+-----------------------+\n",
      "Taxi0-YELLOW: Fuel: inf, Location: (4, 0), Engine: ON, Collided: False, Step: 1/1, DEAD\n",
      "Taxi1-RED: Fuel: inf, Location: (2, 7), Engine: ON, Collided: False, Step: 2/2, DEAD\n",
      "Taxi2-WHITE: Fuel: inf, Location: (6, 6), Engine: ON, Collided: False, Step: 3/3, DEAD\n",
      "Taxi3-GREEN: Fuel: inf, Location: (6, 3), Engine: ON, Collided: False, Step: 3, ALIVE\n",
      "Passenger0-YELLOW: Location: (4, 10), Destination: (1, 4)\n",
      "Env done: False\n",
      "\n"
     ]
    }
   ],
   "source": [
    "south_action = step_limit_env.unwrapped.get_action_map('taxi_0')[Action.SOUTH.value]\n",
    "\n",
    "# step all south and render\n",
    "[step_limit_env.step(south_action) for _ in step_limit_env.agents]\n",
    "step_limit_env.render()\n",
    "\n",
    "# step all south and render\n",
    "[step_limit_env.step(south_action) for _ in step_limit_env.agents]\n",
    "step_limit_env.render()\n",
    "\n",
    "# step all south and render\n",
    "[step_limit_env.step(south_action) for _ in step_limit_env.agents]\n",
    "step_limit_env.render()"
   ]
  },
  {
   "cell_type": "markdown",
   "id": "b121b7db-92af-4199-9151-ce08e64fb5f6",
   "metadata": {},
   "source": [
    "## What Happens When an Agent Dies?\n",
    "\n",
    "One of two (configurable) things, depending on the `clear_dead_taxis` environment parameter. If this is `False` as it is by default, taxis remain in the environment, where they are still expected to act even though their actions are ignored, and they receive reward. Furthermore, if the taxi is collidable, it is now an obstacle for other collidable taxis! If we set this parameter to `True`, the taxi is removed from the environment. It still exists in the state, but is completely ignored within the environment. A dead taxi should get `None` as actions, and does not act, nor does it receive new rewards. You can tell if a taxi is dead when the objective is not yet complete and a taxi receives `term=True` at some step. Most importantly, no other taxi can collide into it.\n",
    "\n",
    "We have already seen the `clear_dead_taxis=False` setting in the collision and \"out of fuel\" scenarios above. Let us see a small example with `clear_dead_taxis=True`."
   ]
  },
  {
   "cell_type": "code",
   "execution_count": 41,
   "id": "0c64b776-76ab-4505-abfe-7b6196345988",
   "metadata": {
    "tags": []
   },
   "outputs": [
    {
     "name": "stdout",
     "output_type": "stream",
     "text": [
      "+-----------------------+\n",
      "|\u001B[43m \u001B[0m: |F: | : | : | : |F: |\n",
      "|\u001B[47m \u001B[0m: | : : : | : | : | : |\n",
      "|\u001B[41m \u001B[0m: : : :\u001B[33mP\u001B[0m: : : : :\u001B[33mD\u001B[0m: : |\n",
      "| : : : : : | :\u001B[42m \u001B[0m: : : : |\n",
      "| : : : : : | : : :\u001B[46m \u001B[0m: : |\n",
      "| : : : : : : : : : : : |\n",
      "| | :G| | | :G| | | : | |\n",
      "+-----------------------+\n",
      "Taxi0-YELLOW: Fuel: inf, Location: (0, 0), Engine: ON, Collided: False, Step: 0, ALIVE\n",
      "Taxi1-RED: Fuel: inf, Location: (2, 0), Engine: ON, Collided: False, Step: 0, ALIVE\n",
      "Taxi2-WHITE: Fuel: inf, Location: (1, 0), Engine: ON, Collided: False, Step: 0, ALIVE\n",
      "Taxi3-GREEN: Fuel: 1/10, Location: (3, 7), Engine: ON, Collided: False, Step: 0, ALIVE\n",
      "Taxi4-CYAN: Fuel: inf, Location: (4, 9), Engine: ON, Collided: False, Step: 0, ALIVE\n",
      "Passenger0-YELLOW: Location: (2, 4), Destination: (2, 9)\n",
      "Env done: False\n",
      "\n"
     ]
    }
   ],
   "source": [
    "clear_dead_env = multi_taxi_v0.env(\n",
    "    num_taxis=5,\n",
    "    max_fuel=[None, None, None, 10, None],        # all taxis have infinite fuel except taxi_3\n",
    "    can_collide=True,                             # all taxis can collide\n",
    "    has_standby_action=True,\n",
    "    clear_dead_taxis=True,\n",
    "    render_mode='human'\n",
    ")\n",
    "\n",
    "clear_dead_env.reset()\n",
    "\n",
    "# get state with the `state` method\n",
    "s = clear_dead_env.state()  # returns a copy, and not the state itself\n",
    "\n",
    "s.taxis[0].location = (0, 0)\n",
    "s.taxis[1].location = (2, 0)\n",
    "s.taxis[2].location = (1, 0)\n",
    "s.taxis[3].location = (3, 7)\n",
    "s.taxis[4].location = (4, 9)\n",
    "\n",
    "s.taxis[3].fuel = 1\n",
    "\n",
    "# set the updated state\n",
    "clear_dead_env.unwrapped.set_state(s)\n",
    "\n",
    "clear_dead_env.render()"
   ]
  },
  {
   "cell_type": "markdown",
   "id": "b77da2b2-f616-439a-930f-d43105842122",
   "metadata": {},
   "source": [
    "In the next cell, we will make taxis 0-2 (yello, red, white) crash into each other in the top left corner. tax_3 (green) will move toward taxi_4 (cyan), but will die due to lack of fuel. After this step, only taxi_4 will remain, and cannot collide into any more taxis."
   ]
  },
  {
   "cell_type": "code",
   "execution_count": 42,
   "id": "0ce5e606-d6a1-4722-bb07-4cc40cd9ce00",
   "metadata": {
    "tags": []
   },
   "outputs": [
    {
     "name": "stdout",
     "output_type": "stream",
     "text": [
      "+-----------------------+\n",
      "| : |F: | : | : | : |F: |\n",
      "| : | : : : | : | : | : |\n",
      "| : : : :\u001B[33mP\u001B[0m: : : : :\u001B[33mD\u001B[0m: : |\n",
      "| : : : : : | : : : : : |\n",
      "| : : : : : | : :\u001B[46m \u001B[0m: : : |\n",
      "| : : : : : : : : : : : |\n",
      "| | :G| | | :G| | | : | |\n",
      "+-----------------------+\n",
      "Taxi0-YELLOW: Fuel: inf, Location: (1, 0), Engine: ON, Collided: True, Step: 1, DEAD\n",
      "Taxi1-RED: Fuel: inf, Location: (1, 0), Engine: ON, Collided: True, Step: 1, DEAD\n",
      "Taxi2-WHITE: Fuel: inf, Location: (1, 0), Engine: ON, Collided: True, Step: 1, DEAD\n",
      "Taxi3-GREEN: Fuel: 0/10, Location: (3, 8), Engine: ON, Collided: False, Step: 1, DEAD\n",
      "Taxi4-CYAN: Fuel: inf, Location: (4, 8), Engine: ON, Collided: False, Step: 1, ALIVE\n",
      "Passenger0-YELLOW: Location: (2, 4), Destination: (2, 9)\n",
      "Env done: False\n",
      "\n"
     ]
    }
   ],
   "source": [
    "south_taxi_0 = clear_dead_env.unwrapped.get_action_map('taxi_0')[Action.SOUTH.value]\n",
    "clear_dead_env.step(south_taxi_0)\n",
    "\n",
    "north_taxi_1 = clear_dead_env.unwrapped.get_action_map('taxi_1')[Action.NORTH.value]\n",
    "clear_dead_env.step(north_taxi_1)\n",
    "\n",
    "standby_taxi_2 = clear_dead_env.unwrapped.get_action_map('taxi_2')[Action.STANDBY.value]\n",
    "clear_dead_env.step(standby_taxi_2)\n",
    "\n",
    "east_taxi_3 = clear_dead_env.unwrapped.get_action_map('taxi_3')[Action.EAST.value]\n",
    "clear_dead_env.step(east_taxi_3)\n",
    "\n",
    "west_taxi_4 = clear_dead_env.unwrapped.get_action_map('taxi_4')[Action.WEST.value]\n",
    "clear_dead_env.step(west_taxi_4)\n",
    "\n",
    "clear_dead_env.render()"
   ]
  },
  {
   "cell_type": "markdown",
   "id": "0091029f",
   "metadata": {},
   "source": [
    "## The Reward Function\n",
    "The `reward_table` parameter allows us to cotrol the reward received upon the occurrence of certain events. A list of available events can be found in the `multi_taxi.utils.types.Event` enum. The default reward tables are defined in `multi_taxi.env.reward_tables`. In short, the default reward function gives -1 for each step taken and 100 for dropping off a passenger at its destinations. In the event of taxi death, i.e., collision or getting stuck without fuel, the taxi is awarded -100. All other events are awarded 0. For the `pickup_only` task, the taxi is awarded 100 for pickup instead of dropoff.\n",
    "\n",
    "The taxi's final reward for the step is the sum of all rewards corresponding to events that occurred during that step. For example, in the next demonstration, the taxi will receive the `STEP` reward, as well as the reward for `PICKUP` for picking up passenger 0, but will immediately run out of fuel and thus be deemed stuck and get the `STUCK_WITHOUT_FUEL` reward."
   ]
  },
  {
   "cell_type": "code",
   "execution_count": 43,
   "id": "62d445d7-61d6-46e0-892c-95be2ad875af",
   "metadata": {
    "tags": []
   },
   "outputs": [
    {
     "name": "stdout",
     "output_type": "stream",
     "text": [
      "+-----------------------+\n",
      "|\u001B[43mP\u001B[0m: |F: | : | : | : |F: |\n",
      "| : |\u001B[31mP\u001B[0m: : : | : | : | : |\n",
      "| : : : : : : : : : : : |\n",
      "| : : : : : | : : : : : |\n",
      "| : : : : : | : : : : : |\n",
      "| : : : : : : : : : : : |\n",
      "| | :G| | | :G| | | : | |\n",
      "+-----------------------+\n",
      "Taxi0-YELLOW: Fuel: 1/1, Location: (0, 0), Engine: ON, Collided: False, Step: 0, ALIVE\n",
      "Passenger0-YELLOW: Location: (0, 0), Destination: (-1, -1)\n",
      "Passenger1-RED: Location: (1, 2), Destination: (-1, -1)\n",
      "Env done: False\n",
      "\n"
     ]
    }
   ],
   "source": [
    "pickup_reward_env = multi_taxi_v0.env(\n",
    "    num_taxis=1,\n",
    "    num_passengers=2,\n",
    "    max_fuel=1,\n",
    "    pickup_only=True,\n",
    "    render_mode='human'\n",
    ")\n",
    "\n",
    "pickup_reward_env.reset()\n",
    "\n",
    "# put taxi and passenger in the same location where there is no fuel station\n",
    "s = pickup_reward_env.state()\n",
    "s.taxis[0].location = s.passengers[0].location = (0, 0)\n",
    "pickup_reward_env.unwrapped.set_state(s)\n",
    "\n",
    "pickup_reward_env.render()"
   ]
  },
  {
   "cell_type": "code",
   "execution_count": 44,
   "id": "d3afbabf-5dc5-4da8-bf8d-2cec85d121a9",
   "metadata": {
    "tags": []
   },
   "outputs": [
    {
     "name": "stdout",
     "output_type": "stream",
     "text": [
      "+-----------------------+\n",
      "|\u001B[43m \u001B[0m: |F: | : | : | : |F: |\n",
      "| : |\u001B[31mP\u001B[0m: : : | : | : | : |\n",
      "| : : : : : : : : : : : |\n",
      "| : : : : : | : : : : : |\n",
      "| : : : : : | : : : : : |\n",
      "| : : : : : : : : : : : |\n",
      "| | :G| | | :G| | | : | |\n",
      "+-----------------------+\n",
      "Taxi0-YELLOW: Fuel: 0/1, Location: (0, 0), Engine: ON, Collided: False, Step: 1, DEAD\n",
      "Passenger0-YELLOW: Location: Taxi0 (0, 0), Destination: (-1, -1)\n",
      "Passenger1-RED: Location: (1, 2), Destination: (-1, -1)\n",
      "Env done: True\n",
      "\n"
     ]
    }
   ],
   "source": [
    "pickup_action = pickup_reward_env.unwrapped.get_action_map('taxi_0')[Action.PICKUP.value]\n",
    "pickup_reward_env.step(pickup_action)\n",
    "pickup_reward_env.render()"
   ]
  },
  {
   "cell_type": "code",
   "execution_count": 45,
   "id": "c795d0d9-0508-4d4c-b13c-b53124926ffc",
   "metadata": {
    "tags": []
   },
   "outputs": [
    {
     "name": "stdout",
     "output_type": "stream",
     "text": [
      "received reward: -1\n",
      "is taxi in terminal state: True - exptected \"True\" because taxi is dead\n",
      "events: [<Event.STEP: 1>, <Event.PICKUP: 3>, <Event.STUCK_WITHOUT_FUEL: 18>]\n"
     ]
    }
   ],
   "source": [
    "ob, reward, term, trunc, info = pickup_reward_env.last()\n",
    "print(f'received reward: {reward}')\n",
    "print(f'is taxi in terminal state: {term} - exptected \"True\" because taxi is dead')\n",
    "print(f'events: {info[\"events\"]}')"
   ]
  },
  {
   "cell_type": "markdown",
   "id": "fbf5e633-0c8f-4901-a46f-cf19507319e7",
   "metadata": {},
   "source": [
    "In the above example, the agent received a reward of -1 for the step, 100 for the pickup, and -100 for dying. overall, the taxi received -1. The user can configure a custom reward table for every taxi individually as they would any other configuration. The given taxi reward table will override the defaults that are mentioned in the input. Let us make demonstrate this with a simple example where one taxi is penalized for moving, rather than a constant penalty at each time step, and another is rewarded at each time step."
   ]
  },
  {
   "cell_type": "code",
   "execution_count": 46,
   "id": "22278d31-b4ba-4b59-8202-d1e8bf5ea8b4",
   "metadata": {
    "tags": []
   },
   "outputs": [
    {
     "name": "stdout",
     "output_type": "stream",
     "text": [
      "taxi_0 received reward: -1\n",
      "taxi_0 is taxi in terminal state: False\n",
      "taxi_0 events: [<Event.STEP: 1>, <Event.MOVE: 2>]\n",
      "\n",
      "taxi_1 received reward: 1000\n",
      "taxi_1 is taxi in terminal state: False\n",
      "taxi_1 events: [<Event.STEP: 1>, <Event.MOVE: 2>]\n",
      "\n"
     ]
    }
   ],
   "source": [
    "from multi_taxi import Event\n",
    "\n",
    "custom_rt0 = {\n",
    "    Event.STEP: 0,\n",
    "    Event.MOVE: -1\n",
    "}\n",
    "custom_rt1 = {\n",
    "    Event.STEP: 1000\n",
    "}\n",
    "\n",
    "custom_reward_par_env = multi_taxi_v0.parallel_env(\n",
    "    num_taxis=2,\n",
    "    reward_table=[custom_rt0, custom_rt1]\n",
    ")\n",
    "\n",
    "# reset and step with some movement action\n",
    "custom_reward_par_env.reset()\n",
    "south_action = custom_reward_par_env.unwrapped.get_action_map('taxi_0')[Action.SOUTH.value]\n",
    "obs, rewards, terms, truncs, infos = custom_reward_par_env.step({agent: south_action\n",
    "                                                         for agent in custom_reward_par_env.agents})\n",
    "\n",
    "for agent in rewards.keys():\n",
    "    print(f'{agent} received reward: {rewards[agent]}')\n",
    "    print(f'{agent} is taxi in terminal state: {terms[agent]}')\n",
    "    print(f'{agent} events: {infos[agent][\"events\"]}')\n",
    "    print()"
   ]
  },
  {
   "cell_type": "markdown",
   "id": "d91e3f68-82b9-46dd-81b6-2f094bf98209",
   "metadata": {},
   "source": [
    "## Stochastic Transitions\n",
    "\n",
    "Setting the `stochastic_actions` parameter adds yet another layer of complexity to this environment. A user can configure a chance to fail performing the desired action and transition as if a different action was taken. Stochastic actions are specified as a dictionary of probability distributions of actions to perform instead of the desired one. Upon stepping in the environment, an action specified in `stochastic_actions` is given, then one is sampled from that distribution and performed in place of the given action. To better understand stochastic action functions, see the `multi_taxi.utils.stochastic_action_function` module.\n",
    "\n",
    "In the below example, we define a probability distribution for the taxi's acitons. for taxi 1, there is a 50% chance of moving horizontally when performing a vertical advance action. taxi 2 has a 50% chance of moving vertically when trying to move horizontally. All other actions are deterministic, including all of taxi 3's actions."
   ]
  },
  {
   "cell_type": "code",
   "execution_count": 47,
   "id": "c842060e-3dac-4b28-8b19-1ecc38bb7b8e",
   "metadata": {
    "tags": []
   },
   "outputs": [
    {
     "name": "stdout",
     "output_type": "stream",
     "text": [
      "+-----------------------+\n",
      "|\u001B[43m \u001B[0m: |F: | : | : |\u001B[33mD\u001B[0m: |F:\u001B[33mP\u001B[0m|\n",
      "| : | : : : | : | : | : |\n",
      "| : : : : : : : :\u001B[41m \u001B[0m: : : |\n",
      "| : : : : : | : : : : : |\n",
      "| : : : : : | : : : : : |\n",
      "| : : : : : : : : : : : |\n",
      "| | :G| | |\u001B[47m \u001B[0m:G| | | : | |\n",
      "+-----------------------+\n",
      "Taxi0-YELLOW: Fuel: inf, Location: (0, 0), Engine: ON, Collided: False, Step: 0, ALIVE\n",
      "Taxi1-RED: Fuel: inf, Location: (2, 8), Engine: ON, Collided: False, Step: 0, ALIVE\n",
      "Taxi2-WHITE: Fuel: inf, Location: (6, 5), Engine: ON, Collided: False, Step: 0, ALIVE\n",
      "Passenger0-YELLOW: Location: (0, 11), Destination: (0, 8)\n",
      "Env done: False\n",
      "\n"
     ]
    }
   ],
   "source": [
    "# define a conditional action distributions for each taxi\n",
    "taxi0_action_dist = {\n",
    "    'north': {'north': 0.5, 'east': 0.25, 'west': 0.25},\n",
    "    'south': {'south': 0.5, 'east': 0.25, 'west': 0.25}\n",
    "}\n",
    "taxi1_action_dist = {\n",
    "    'east': {'east': 0.5, 'north': 0.25, 'south': 0.25},\n",
    "    'west': {'west': 0.5, 'north': 0.25, 'south': 0.25}\n",
    "}\n",
    "\n",
    "# create an environment with stochastic actions\n",
    "stochastic_par_env = multi_taxi_v0.parallel_env(\n",
    "    num_taxis=3,\n",
    "    stochastic_actions=[taxi0_action_dist, taxi1_action_dist, None],  # stochastich actions for taxis 0 and 1\n",
    "    render_mode='human'\n",
    ")\n",
    "stochastic_par_env.reset()\n",
    "\n",
    "s = stochastic_par_env.state()\n",
    "s.taxis[0].location = (0, 0)\n",
    "s.taxis[1].location = (2, 8)\n",
    "s.taxis[2].location = (6, 5)\n",
    "stochastic_par_env.unwrapped.set_state(s)\n",
    "\n",
    "stochastic_par_env.render()"
   ]
  },
  {
   "cell_type": "markdown",
   "id": "db693fec-d626-4236-9dd1-c17d7e421253",
   "metadata": {},
   "source": [
    "Now we will run 5 steps of identical actions. taxi_0 (yellow) will attempt to go south, taxi_1 (red) will attempt to go west, and taxi_3 (white) will successfully go North."
   ]
  },
  {
   "cell_type": "code",
   "execution_count": 48,
   "id": "5b23a225-79f0-4e60-9f3c-6bf67160e595",
   "metadata": {
    "tags": []
   },
   "outputs": [
    {
     "name": "stdout",
     "output_type": "stream",
     "text": [
      "taxi_0 action: south --> south\n",
      "taxi_1 action: west --> north\n",
      "taxi_2 action: north --> north\n",
      "+-----------------------+\n",
      "| : |F: | : | : |\u001B[33mD\u001B[0m: |F:\u001B[33mP\u001B[0m|\n",
      "|\u001B[43m \u001B[0m: | : : : | : |\u001B[41m \u001B[0m: | : |\n",
      "| : : : : : : : : : : : |\n",
      "| : : : : : | : : : : : |\n",
      "| : : : : : | : : : : : |\n",
      "| : : : : :\u001B[47m \u001B[0m: : : : : : |\n",
      "| | :G| | | :G| | | : | |\n",
      "+-----------------------+\n",
      "Taxi0-YELLOW: Fuel: inf, Location: (1, 0), Engine: ON, Collided: False, Step: 1, ALIVE\n",
      "Taxi1-RED: Fuel: inf, Location: (1, 8), Engine: ON, Collided: False, Step: 1, ALIVE\n",
      "Taxi2-WHITE: Fuel: inf, Location: (5, 5), Engine: ON, Collided: False, Step: 1, ALIVE\n",
      "Passenger0-YELLOW: Location: (0, 11), Destination: (0, 8)\n",
      "Env done: False\n",
      "\n",
      "taxi_0 action: south --> west\n",
      "taxi_1 action: west --> west\n",
      "taxi_2 action: north --> north\n",
      "+-----------------------+\n",
      "| : |F: | : | : |\u001B[33mD\u001B[0m: |F:\u001B[33mP\u001B[0m|\n",
      "|\u001B[43m \u001B[0m: | : : : | : |\u001B[41m \u001B[0m: | : |\n",
      "| : : : : : : : : : : : |\n",
      "| : : : : : | : : : : : |\n",
      "| : : : : :\u001B[47m \u001B[0m| : : : : : |\n",
      "| : : : : : : : : : : : |\n",
      "| | :G| | | :G| | | : | |\n",
      "+-----------------------+\n",
      "Taxi0-YELLOW: Fuel: inf, Location: (1, 0), Engine: ON, Collided: False, Step: 2, ALIVE\n",
      "Taxi1-RED: Fuel: inf, Location: (1, 8), Engine: ON, Collided: False, Step: 2, ALIVE\n",
      "Taxi2-WHITE: Fuel: inf, Location: (4, 5), Engine: ON, Collided: False, Step: 2, ALIVE\n",
      "Passenger0-YELLOW: Location: (0, 11), Destination: (0, 8)\n",
      "Env done: False\n",
      "\n",
      "taxi_0 action: south --> south\n",
      "taxi_1 action: west --> west\n",
      "taxi_2 action: north --> north\n",
      "+-----------------------+\n",
      "| : |F: | : | : |\u001B[33mD\u001B[0m: |F:\u001B[33mP\u001B[0m|\n",
      "| : | : : : | : |\u001B[41m \u001B[0m: | : |\n",
      "|\u001B[43m \u001B[0m: : : : : : : : : : : |\n",
      "| : : : : :\u001B[47m \u001B[0m| : : : : : |\n",
      "| : : : : : | : : : : : |\n",
      "| : : : : : : : : : : : |\n",
      "| | :G| | | :G| | | : | |\n",
      "+-----------------------+\n",
      "Taxi0-YELLOW: Fuel: inf, Location: (2, 0), Engine: ON, Collided: False, Step: 3, ALIVE\n",
      "Taxi1-RED: Fuel: inf, Location: (1, 8), Engine: ON, Collided: False, Step: 3, ALIVE\n",
      "Taxi2-WHITE: Fuel: inf, Location: (3, 5), Engine: ON, Collided: False, Step: 3, ALIVE\n",
      "Passenger0-YELLOW: Location: (0, 11), Destination: (0, 8)\n",
      "Env done: False\n",
      "\n",
      "taxi_0 action: south --> south\n",
      "taxi_1 action: west --> south\n",
      "taxi_2 action: north --> north\n",
      "+-----------------------+\n",
      "| : |F: | : | : |\u001B[33mD\u001B[0m: |F:\u001B[33mP\u001B[0m|\n",
      "| : | : : : | : | : | : |\n",
      "| : : : : :\u001B[47m \u001B[0m: : :\u001B[41m \u001B[0m: : : |\n",
      "|\u001B[43m \u001B[0m: : : : : | : : : : : |\n",
      "| : : : : : | : : : : : |\n",
      "| : : : : : : : : : : : |\n",
      "| | :G| | | :G| | | : | |\n",
      "+-----------------------+\n",
      "Taxi0-YELLOW: Fuel: inf, Location: (3, 0), Engine: ON, Collided: False, Step: 4, ALIVE\n",
      "Taxi1-RED: Fuel: inf, Location: (2, 8), Engine: ON, Collided: False, Step: 4, ALIVE\n",
      "Taxi2-WHITE: Fuel: inf, Location: (2, 5), Engine: ON, Collided: False, Step: 4, ALIVE\n",
      "Passenger0-YELLOW: Location: (0, 11), Destination: (0, 8)\n",
      "Env done: False\n",
      "\n",
      "taxi_0 action: south --> west\n",
      "taxi_1 action: west --> north\n",
      "taxi_2 action: north --> north\n",
      "+-----------------------+\n",
      "| : |F: | : | : |\u001B[33mD\u001B[0m: |F:\u001B[33mP\u001B[0m|\n",
      "| : | : : :\u001B[47m \u001B[0m| : |\u001B[41m \u001B[0m: | : |\n",
      "| : : : : : : : : : : : |\n",
      "|\u001B[43m \u001B[0m: : : : : | : : : : : |\n",
      "| : : : : : | : : : : : |\n",
      "| : : : : : : : : : : : |\n",
      "| | :G| | | :G| | | : | |\n",
      "+-----------------------+\n",
      "Taxi0-YELLOW: Fuel: inf, Location: (3, 0), Engine: ON, Collided: False, Step: 5, ALIVE\n",
      "Taxi1-RED: Fuel: inf, Location: (1, 8), Engine: ON, Collided: False, Step: 5, ALIVE\n",
      "Taxi2-WHITE: Fuel: inf, Location: (1, 5), Engine: ON, Collided: False, Step: 5, ALIVE\n",
      "Passenger0-YELLOW: Location: (0, 11), Destination: (0, 8)\n",
      "Env done: False\n",
      "\n"
     ]
    }
   ],
   "source": [
    "# choose an action for each taxi to best demonstrate the stochasticity.\n",
    "joint_action = {\n",
    "    'taxi_0': stochastic_par_env.unwrapped.get_action_map('taxi_0')[Action.SOUTH.value],\n",
    "    'taxi_1': stochastic_par_env.unwrapped.get_action_map('taxi_1')[Action.WEST.value],\n",
    "    'taxi_2': stochastic_par_env.unwrapped.get_action_map('taxi_2')[Action.NORTH.value],\n",
    "}\n",
    "\n",
    "# perform 5 constant actions and see the result\n",
    "for _ in range(5):\n",
    "    _, _, _, _, info = stochastic_par_env.step(joint_action)\n",
    "\n",
    "    # the info will show us the chosen action and the actual action that was performed\n",
    "    print('taxi_0 action:', info['taxi_0']['desired_action'], '-->', info['taxi_0']['performed_transition'])\n",
    "    print('taxi_1 action:', info['taxi_1']['desired_action'], '-->', info['taxi_1']['performed_transition'])\n",
    "    print('taxi_2 action:', info['taxi_2']['desired_action'], '-->', info['taxi_2']['performed_transition'])\n",
    "\n",
    "    stochastic_par_env.render()"
   ]
  },
  {
   "cell_type": "markdown",
   "id": "ab636870-db79-4ef8-9eb5-61a1b790f941",
   "metadata": {},
   "source": [
    "As we can see from the above example, taxi's 0 and 1 do not always perform their desired action while taxi_2 always does. Note that we can also use a random seed to make the action sampling deterministic."
   ]
  },
  {
   "cell_type": "markdown",
   "id": "50c476f1-994d-4606-9e83-ebe03c94cea2",
   "metadata": {},
   "source": [
    "## Transition Function\n",
    "\n",
    "Another useful too implemented in `multi_taxi` is stochasticity-aware transition function. The environment implements the `state_action_transitions` method which returns a collection of possible transitionable states from a given state by taking the given joint action. The new state is accompanied by the taxi rewards, dones, infos, and the probability of this transition occurring. For example, below we show an environment where a single taxi must pick up 5 passengers."
   ]
  },
  {
   "cell_type": "code",
   "execution_count": 49,
   "id": "892a04ec-e48d-4f1c-b1fc-b70aae2da623",
   "metadata": {
    "tags": []
   },
   "outputs": [
    {
     "name": "stdout",
     "output_type": "stream",
     "text": [
      "+-----------------------+\n",
      "| : |F: | : | : | : |F: |\n",
      "| : | : : : | : | : | : |\n",
      "| : : : : : : :\u001B[43m \u001B[0m: : : : |\n",
      "| : : :\u001B[33mP\u001B[0m: : | : : : : : |\n",
      "| : : : : : | : : : : : |\n",
      "| :\u001B[37mP\u001B[0m: : : : :\u001B[31mP\u001B[0m: : : : : |\n",
      "| | :G| | | :G| | | : | |\n",
      "+-----------------------+\n",
      "Taxi0-YELLOW: Fuel: inf, Location: (2, 7), Engine: ON, Collided: False, Step: 0, ALIVE\n",
      "Passenger0-YELLOW: Location: (3, 3), Destination: (-1, -1)\n",
      "Passenger1-RED: Location: (5, 6), Destination: (-1, -1)\n",
      "Passenger2-WHITE: Location: (5, 1), Destination: (-1, -1)\n",
      "Env done: False\n",
      "\n"
     ]
    }
   ],
   "source": [
    "planning_par_env = multi_taxi_v0.parallel_env(\n",
    "    num_taxis=1,\n",
    "    num_passengers=3,\n",
    "    pickup_only=True,\n",
    "    render_mode='human'\n",
    ")\n",
    "planning_par_env.reset()\n",
    "planning_par_env.render()"
   ]
  },
  {
   "cell_type": "markdown",
   "id": "62aca4ac-73f4-47e8-886b-af11bdc3669b",
   "metadata": {},
   "source": [
    "Let us check the transition from the current state should the taxi perform the \"north\" action"
   ]
  },
  {
   "cell_type": "code",
   "execution_count": 50,
   "id": "6fcdfb52-c680-4909-a68e-44652b79d155",
   "metadata": {
    "tags": []
   },
   "outputs": [
    {
     "name": "stdout",
     "output_type": "stream",
     "text": [
      "num transitions 1 - expected 1 because actions are deterministic\n",
      "transision 1 rewards: -1\n",
      "transision 1 terms: False\n",
      "transision 1 infos: {'events': [<Event.STEP: 1>, <Event.MOVE: 2>], 'dead': False, 'move_success': True, 'desired_action': 'north', 'performed_transition': 'north'}\n"
     ]
    }
   ],
   "source": [
    "# the function only accepts dicitonary joint actions\n",
    "action = {'taxi_0': planning_par_env.unwrapped.get_action_map('taxi_0')[Action.NORTH.value]}\n",
    "\n",
    "# get transition info from current state\n",
    "transitions = planning_par_env.unwrapped.state_action_transitions(planning_par_env.state(), action)\n",
    "\n",
    "print(f'num transitions {len(transitions)} - expected 1 because actions are deterministic')\n",
    "for i, (new_state, rewards, terms, truncs, infos, prob) in enumerate(transitions, 1):\n",
    "    print(f'transision {i} rewards: {rewards[\"taxi_0\"]}')\n",
    "    print(f'transision {i} terms: {terms[\"taxi_0\"]}')\n",
    "    print(f'transision {i} infos: {infos[\"taxi_0\"]}')"
   ]
  },
  {
   "cell_type": "markdown",
   "id": "ea6a99d2-7b82-4be9-bbcd-569aecdc9580",
   "metadata": {},
   "source": [
    "Finally after setting the new state in the environment, the taxi has advanced one step to the North of the map (if possible)."
   ]
  },
  {
   "cell_type": "code",
   "execution_count": 51,
   "id": "cc3a76cd-2535-4cce-b2c3-03115adda2be",
   "metadata": {
    "tags": []
   },
   "outputs": [
    {
     "name": "stdout",
     "output_type": "stream",
     "text": [
      "+-----------------------+\n",
      "| : |F: | : | : | : |F: |\n",
      "| : | : : : | :\u001B[43m \u001B[0m| : | : |\n",
      "| : : : : : : : : : : : |\n",
      "| : : :\u001B[33mP\u001B[0m: : | : : : : : |\n",
      "| : : : : : | : : : : : |\n",
      "| :\u001B[37mP\u001B[0m: : : : :\u001B[31mP\u001B[0m: : : : : |\n",
      "| | :G| | | :G| | | : | |\n",
      "+-----------------------+\n",
      "Taxi0-YELLOW: Fuel: inf, Location: (1, 7), Engine: ON, Collided: False, Step: 1, ALIVE\n",
      "Passenger0-YELLOW: Location: (3, 3), Destination: (-1, -1)\n",
      "Passenger1-RED: Location: (5, 6), Destination: (-1, -1)\n",
      "Passenger2-WHITE: Location: (5, 1), Destination: (-1, -1)\n",
      "Env done: False\n",
      "\n"
     ]
    }
   ],
   "source": [
    "planning_par_env.unwrapped.set_state(new_state)\n",
    "planning_par_env.render()"
   ]
  },
  {
   "cell_type": "markdown",
   "id": "23dfff82-f2a2-43f5-8492-0f24457ee818",
   "metadata": {},
   "source": [
    "This concept is perfect for planning algorithms! Let's see an example of performing a blind state space search on the environment. For this, we will use the [AI_agents library](https://github.com/sarah-keren/AI_agents/). Let us first download this library."
   ]
  },
  {
   "cell_type": "code",
   "execution_count": 52,
   "id": "1a730f23-12c6-481b-894b-d230bad1d623",
   "metadata": {
    "tags": []
   },
   "outputs": [],
   "source": [
    "# download latest commit from when this notebook was written.\n",
    "# this will ensure that this code will continue to work even after AI_agents is updated\n",
    "!pip install \"git+https://github.com/sarah-keren/ai_dm@099f992c1882883240a0e6c6707624676250aeb5\""
   ]
  },
  {
   "cell_type": "markdown",
   "id": "d8264b75-ab1c-4b6a-ba1d-680cfcbfe362",
   "metadata": {},
   "source": [
    "This library allows us to access a variety of search algorithms simply by implementing a complementary Problem object for the specific environment, and then wrap that environment in that problem. Our transition function will allow us to easily implement the `get_successors` method."
   ]
  },
  {
   "cell_type": "code",
   "execution_count": 53,
   "id": "8d0f4dc4-cb7c-4686-b1ae-1e7b1550bd5f",
   "metadata": {
    "tags": []
   },
   "outputs": [],
   "source": [
    "from ai_dm.Base.problem import Problem\n",
    "import ai_dm.Search.utils as utils\n",
    "from itertools import product\n",
    "\n",
    "class MultiTaxiProblem(Problem):\n",
    "    def __init__(self, env):\n",
    "        super().__init__(env.state(), constraints=[])\n",
    "        self.env = env\n",
    "\n",
    "    def get_applicable_actions_at_state(self, state):\n",
    "        action_lists = []\n",
    "        for agent in self.env.possible_agents:\n",
    "            action_lists.append(self.env.unwrapped.get_action_meanings(agent).keys())\n",
    "\n",
    "        # get list of possible joint actions\n",
    "        possible_joint_actions_tuples = list(product(*action_lists))\n",
    "        return [{self.env.possible_agents[i]: action\n",
    "                 for i, action in enumerate(joint_action)}\n",
    "                for joint_action in possible_joint_actions_tuples]\n",
    "\n",
    "    def get_applicable_actions_at_node(self, node):\n",
    "        action_lists = []\n",
    "        for agent in self.env.possible_agents:\n",
    "            action_lists.append(self.env.unwrapped.get_action_meanings(agent).keys())\n",
    "\n",
    "        # get list of possible joint actions\n",
    "        possible_joint_actions_tuples = list(product(*action_lists))\n",
    "        return [{self.env.possible_agents[i]: action\n",
    "                 for i, action in enumerate(joint_action)}\n",
    "                for joint_action in possible_joint_actions_tuples]\n",
    "\n",
    "    def get_successors(self, action, node):\n",
    "        successor_nodes = []\n",
    "\n",
    "        # HERE WE USE OUR TRANSITION FUNCTION\n",
    "        transitions = self.env.unwrapped.state_action_transitions(node.state.key, action)\n",
    "\n",
    "        action_cost = self.get_action_cost(action, node.state)\n",
    "        for next_state, rewards, terms, truncs, infos, prob in transitions:\n",
    "\n",
    "            info={}\n",
    "            info['prob'] = prob\n",
    "            info['reward'] = rewards\n",
    "            info.update(infos)\n",
    "\n",
    "            # state is a hashable key\n",
    "            successor_state = utils.State(key=next_state, is_terminal=all(terms.values()))\n",
    "\n",
    "            successor_node = utils.Node(state=successor_state,\n",
    "                                        parent=node,\n",
    "                                        action=action,\n",
    "                                        path_cost=node.path_cost + action_cost,\n",
    "                                        info=info)\n",
    "\n",
    "            successor_nodes.append(successor_node)\n",
    "\n",
    "        return successor_nodes\n",
    "\n",
    "    def get_action_cost(self, action, state):\n",
    "        return 1\n",
    "\n",
    "    def is_goal_state(self, state):\n",
    "        if state.is_terminal:\n",
    "            return True\n",
    "        else:\n",
    "            return False\n",
    "\n",
    "    def apply_action(self, action):\n",
    "        obs, reward, term, trunc, info = self.env.step(action)\n",
    "        state = self.env.state()\n",
    "        return [state, reward, term, trunc, info]\n",
    "\n",
    "    def reset_env(self):\n",
    "        return self.env.reset()\n",
    "\n",
    "# reset environment and create the problem object for it\n",
    "planning_par_env.reset()\n",
    "mt_problem = MultiTaxiProblem(planning_par_env)"
   ]
  },
  {
   "cell_type": "markdown",
   "id": "843fb148-0944-4795-8360-7db8cbfa04a4",
   "metadata": {},
   "source": [
    "For the purposes of this example, we will use BFS to find an optimal solution for our pickup-only task. We use BFS to get a list of joint acitons to perform sequentially and run them as we did in the parallel API quickstart example."
   ]
  },
  {
   "cell_type": "code",
   "execution_count": 54,
   "id": "a11c88f8-3226-4652-a5f8-7e56975332c3",
   "metadata": {
    "tags": []
   },
   "outputs": [
    {
     "name": "stdout",
     "output_type": "stream",
     "text": [
      "+-----------------------+\n",
      "| : |F: | : | : | : |F: |\n",
      "| : | : : : | : | : | : |\n",
      "| : : : : : : : : : : : |\n",
      "| : : : : : | : : : : : |\n",
      "| :\u001B[43m \u001B[0m: : : : | : : : : : |\n",
      "| : : : : : : : : : : : |\n",
      "| | :G| | | :G| | | : | |\n",
      "+-----------------------+\n",
      "Taxi0-YELLOW: Fuel: inf, Location: (4, 1), Engine: ON, Collided: False, Step: 26, ALIVE\n",
      "Passenger0-YELLOW: Location: Taxi0 (4, 1), Destination: (-1, -1)\n",
      "Passenger1-RED: Location: Taxi0 (4, 1), Destination: (-1, -1)\n",
      "Passenger2-WHITE: Location: Taxi0 (4, 1), Destination: (-1, -1)\n",
      "Env done: True\n",
      "\n",
      "success!\n"
     ]
    }
   ],
   "source": [
    "from ai_dm.Search.best_first_search import breadth_first_search\n",
    "\n",
    "# render the environment to show what the algorithm is \"thinking about\"\n",
    "planning_par_env.render()\n",
    "\n",
    "# get solution from BFS algorithm\n",
    "print('making plan...')\n",
    "sol_len, final_node, solution, explore_count, terminated = breadth_first_search(mt_problem)\n",
    "solution = [eval(action) for action in solution]  # returns dict strings (for some reason???) fix with `eval`\n",
    "\n",
    "# execute solution\n",
    "while True:\n",
    "    if not solution:  # check solution complete without done\n",
    "        print('failure')\n",
    "        break\n",
    "\n",
    "    # parallel API gets next observations, rewards, dones, and infos upon `step`\n",
    "    # all values are dictionaries\n",
    "    observations, rewards, terms, truncs, infos = planning_par_env.step(solution.pop(0))\n",
    "\n",
    "    # re-render after step\n",
    "    time.sleep(0.15)  # sleep for animation speed control\n",
    "    clear_output(wait=True)\n",
    "    planning_par_env.render()  # clear previous render for animation effect\n",
    "\n",
    "    if all(terms.values()):  # check dones\n",
    "        print('success!')\n",
    "        break"
   ]
  },
  {
   "cell_type": "markdown",
   "id": "5d8eaa31-d665-4ef1-94ca-53cc212213ac",
   "metadata": {},
   "source": [
    "Voila! We hav a planner. This problem also supports centralized planning for multiple agents. See the full example below. Note that we reduce the number of passengers since this kind of search is highly inefficient."
   ]
  },
  {
   "cell_type": "code",
   "execution_count": 55,
   "id": "7722711a-546e-4672-a607-21cb26ecd031",
   "metadata": {
    "tags": []
   },
   "outputs": [
    {
     "name": "stdout",
     "output_type": "stream",
     "text": [
      "+-----------------------+\n",
      "| : |F: | : | :\u001B[43m \u001B[0m| : |F: |\n",
      "| : | : : : | : | : | : |\n",
      "| : : : : : : : : : : : |\n",
      "| : : : : : | : : : : : |\n",
      "| : : : : : | : : : : : |\n",
      "| : : : : : : : : : : : |\n",
      "|\u001B[41m \u001B[0m| :G| | | :G| | | : | |\n",
      "+-----------------------+\n",
      "Taxi0-YELLOW: Fuel: inf, Location: (0, 7), Engine: ON, Collided: False, Step: 9, ALIVE\n",
      "Taxi1-RED: Fuel: inf, Location: (6, 0), Engine: ON, Collided: False, Step: 9, ALIVE\n",
      "Passenger0-YELLOW: Location: Taxi0 (0, 7), Destination: (-1, -1)\n",
      "Passenger1-RED: Location: Taxi0 (0, 7), Destination: (-1, -1)\n",
      "Env done: True\n",
      "\n",
      "success!\n"
     ]
    }
   ],
   "source": [
    "ma_planning_par_env = multi_taxi_v0.parallel_env(\n",
    "    num_taxis=2,\n",
    "    num_passengers=2,\n",
    "    pickup_only=True,\n",
    "    render_mode='human'\n",
    ")\n",
    "ma_planning_par_env.reset()\n",
    "ma_planning_par_env.render()\n",
    "\n",
    "# create the problem object for the environment\n",
    "ma_mt_problem = MultiTaxiProblem(ma_planning_par_env)\n",
    "\n",
    "# get solution from BFS algorithm\n",
    "print('making plan...')\n",
    "_, _, ma_solution, _, _ = breadth_first_search(ma_mt_problem)\n",
    "ma_solution = [eval(action) for action in ma_solution]  # returns dict strings (for some reason???) fix with `eval`\n",
    "\n",
    "# execute solution\n",
    "while True:\n",
    "    if not ma_solution:  # check solution complete without done\n",
    "        print('failure')\n",
    "        break\n",
    "\n",
    "    # parallel API gets next observations, rewards, dones, and infos upon `step`\n",
    "    # all values are dictionaries\n",
    "    observations, rewards, terms, truncs, infos = ma_planning_par_env.step(ma_solution.pop(0))\n",
    "\n",
    "    # re-render after step\n",
    "    time.sleep(0.15)  # sleep for animation speed control\n",
    "    clear_output(wait=True)\n",
    "    ma_planning_par_env.render()  # clear previous render for animation effect\n",
    "\n",
    "    if all(terms.values()):  # check dones\n",
    "        print('success!')\n",
    "        break"
   ]
  },
  {
   "cell_type": "markdown",
   "id": "57525b10-77e8-4611-ae43-285040184c0d",
   "metadata": {},
   "source": [
    "## Extras\n",
    "\n",
    "### Single-Taxi Env with Gym API\n",
    "While you can always set `num_taxis=1` to get a single-agent environment, it would be nice to have that environment's API aligned with the sea of libraries on the web. For this, we offer a single agent implementation of the environment that adheres to the [gym](https://www.gymlibrary.ml/) API. This environment is initialized similarly to the multi-agent version, only it expects `num_taxis` to be set to 1 or to not be provided at all (in which case it will be set to 1)."
   ]
  },
  {
   "cell_type": "code",
   "execution_count": 56,
   "id": "e17fc76d-80e2-47e5-adb6-1efc7ab68200",
   "metadata": {
    "tags": []
   },
   "outputs": [
    {
     "name": "stdout",
     "output_type": "stream",
     "text": [
      "+-----------------------+\n",
      "| : |F: | : | : | : |\u001B[33mD\u001B[0m: |\n",
      "| :\u001B[33mP\u001B[0m| : : : | : | : | : |\n",
      "| : :\u001B[31mD\u001B[0m: : : : : : : :\u001B[43m \u001B[0m: |\n",
      "| : : : : : | : : : : : |\n",
      "| : : : : : | : : : : : |\n",
      "| : : : : : : : : :\u001B[37mD\u001B[0m: : |\n",
      "|\u001B[31mP\u001B[0m| :G| |\u001B[37mP\u001B[0m| :G| | | : | |\n",
      "+-----------------------+\n",
      "Taxi0-YELLOW: Fuel: 100/100, Location: (2, 10), Engine: ON, Collided: False, Step: 0, ALIVE\n",
      "Passenger0-YELLOW: Location: (1, 1), Destination: (0, 10)\n",
      "Passenger1-RED: Location: (6, 0), Destination: (2, 2)\n",
      "Passenger2-WHITE: Location: (6, 4), Destination: (5, 9)\n",
      "Env done: False\n",
      "\n"
     ]
    }
   ],
   "source": [
    "from multi_taxi import single_taxi_v0\n",
    "\n",
    "single_taxi_env = single_taxi_v0.gym_env(\n",
    "    num_passengers=3,\n",
    "    max_fuel=100,\n",
    "    has_standby_action=True,\n",
    "    specify_passenger_pickup=True,\n",
    "    observation_type='image',\n",
    "    render_mode='human'\n",
    ")\n",
    "\n",
    "# observation given on reset, just like gym\n",
    "obs, info = single_taxi_env.reset()\n",
    "single_taxi_env.render()"
   ]
  },
  {
   "cell_type": "code",
   "execution_count": 57,
   "id": "ed92d1ab-db8f-4f1d-9502-088ee4537c8b",
   "metadata": {
    "tags": []
   },
   "outputs": [
    {
     "data": {
      "text/plain": [
       "Box(0, 255, (140, 226, 3), uint8)"
      ]
     },
     "execution_count": 57,
     "metadata": {},
     "output_type": "execute_result"
    }
   ],
   "source": [
    "# observation space property (no need to specify taxi)\n",
    "single_taxi_env.observation_space"
   ]
  },
  {
   "cell_type": "code",
   "execution_count": 58,
   "id": "917da98b-8e70-402d-a120-4beec4f68992",
   "metadata": {
    "tags": []
   },
   "outputs": [
    {
     "data": {
      "image/png": "[encoded data removed]",
      "text/plain": [
       "<PIL.Image.Image image mode=RGB size=226x140>"
      ]
     },
     "execution_count": 58,
     "metadata": {},
     "output_type": "execute_result"
    }
   ],
   "source": [
    "# observation not wrapped within dictionary\n",
    "np_to_pil(obs)"
   ]
  },
  {
   "cell_type": "code",
   "execution_count": 59,
   "id": "2e2bf50e-5de2-48db-ae42-a9d6b2142511",
   "metadata": {
    "tags": []
   },
   "outputs": [
    {
     "data": {
      "text/plain": [
       "{0: 'south',\n",
       " 1: 'north',\n",
       " 2: 'east',\n",
       " 3: 'west',\n",
       " 4: 'pickup0',\n",
       " 5: 'pickup1',\n",
       " 6: 'pickup2',\n",
       " 7: 'dropoff',\n",
       " 8: 'standby',\n",
       " 9: 'refuel'}"
      ]
     },
     "execution_count": 59,
     "metadata": {},
     "output_type": "execute_result"
    }
   ],
   "source": [
    "# no need to specify taxi for action meanings / map or any other internal API function\n",
    "single_taxi_env.unwrapped.get_action_meanings()"
   ]
  },
  {
   "cell_type": "code",
   "execution_count": 60,
   "id": "c810cadc-3c10-4b7b-8cdb-f016e1c4f160",
   "metadata": {
    "tags": []
   },
   "outputs": [
    {
     "data": {
      "text/plain": [
       "[(<multi_taxi.env.state.MultiTaxiEnvState at 0x120a4c6d0>,\n",
       "  -1,\n",
       "  False,\n",
       "  False,\n",
       "  {'events': [<Event.STEP: 1>, <Event.MOVE: 2>],\n",
       "   'dead': False,\n",
       "   'move_success': True,\n",
       "   'desired_action': 'south',\n",
       "   'performed_transition': 'south'})]"
      ]
     },
     "execution_count": 60,
     "metadata": {},
     "output_type": "execute_result"
    }
   ],
   "source": [
    "# can get use transition function with specific aciton (not joint dictionary action)\n",
    "single_taxi_env.unwrapped.state_action_transitions(single_taxi_env.state(), 0)"
   ]
  },
  {
   "cell_type": "code",
   "execution_count": 61,
   "id": "41cdcfc6-85c3-4430-88d1-65040114f52a",
   "metadata": {
    "tags": []
   },
   "outputs": [
    {
     "name": "stdout",
     "output_type": "stream",
     "text": [
      "+-----------------------+\n",
      "| : |F: | : | : | : |\u001B[33mD\u001B[0m: |\n",
      "| :\u001B[33mP\u001B[0m| : : : | : | : | : |\n",
      "| : :\u001B[31mD\u001B[0m: : : : : : : : : |\n",
      "| : : : : : | : : : :\u001B[43m \u001B[0m: |\n",
      "| : : : : : | : : : : : |\n",
      "| : : : : : : : : :\u001B[37mD\u001B[0m: : |\n",
      "|\u001B[31mP\u001B[0m| :G| |\u001B[37mP\u001B[0m| :G| | | : | |\n",
      "+-----------------------+\n",
      "Taxi0-YELLOW: Fuel: 98/100, Location: (3, 10), Engine: ON, Collided: False, Step: 1, ALIVE\n",
      "Passenger0-YELLOW: Location: (1, 1), Destination: (0, 10)\n",
      "Passenger1-RED: Location: (6, 0), Destination: (2, 2)\n",
      "Passenger2-WHITE: Location: (6, 4), Destination: (5, 9)\n",
      "Env done: False\n",
      "\n",
      "reward=-1\n",
      "term=False\n",
      "info={'events': [<Event.STEP: 1>, <Event.MOVE: 2>], 'dead': False, 'move_success': True, 'desired_action': 'south', 'performed_transition': 'south'}\n",
      "obs=\n"
     ]
    },
    {
     "data": {
      "image/png": "[encoded data removed]",
      "text/plain": [
       "<PIL.Image.Image image mode=RGB size=226x140>"
      ]
     },
     "execution_count": 61,
     "metadata": {},
     "output_type": "execute_result"
    }
   ],
   "source": [
    "# step as you would in a gym environment\n",
    "obs, reward, term, trunc, info = single_taxi_env.step(0)\n",
    "single_taxi_env.render()\n",
    "\n",
    "# outputs as expected in gym\n",
    "print(f'reward={reward}')\n",
    "print(f'term={term}')\n",
    "print(f'info={info}')\n",
    "print('obs=')\n",
    "np_to_pil(obs)"
   ]
  },
  {
   "cell_type": "markdown",
   "id": "a3fd998d-3da3-43e5-8ad4-b1d12f677f51",
   "metadata": {},
   "source": [
    "### Simplifying Wrappers\n",
    "As we have seen throughout this notebook, this environment can be very complex. One thing that makes it extremely difficult to solv is its ever-changing passenger and destination positions. We implement several wrappers that make fix these positions in place. In the example below, we create an environment whose passengers' start locations are always the same. There are also wrappers for fixing the taxi start locations and the passenger destination locations."
   ]
  },
  {
   "cell_type": "code",
   "execution_count": 62,
   "id": "4cc7167e-1fff-43a1-928e-7e28c2468d38",
   "metadata": {
    "tags": []
   },
   "outputs": [],
   "source": [
    "from multi_taxi import wrappers\n",
    "\n",
    "fixed_passengers_env = multi_taxi_v0.env(\n",
    "    num_taxis=6,\n",
    "    num_passengers=6,\n",
    "    render_mode='human'\n",
    ")\n",
    "\n",
    "fixed_passengers_env = wrappers.FixedPassengerStartLocationsWrapper(fixed_passengers_env,\n",
    "                                                                    # provide sequence row, col, row, col, ...\n",
    "                                                                    # one pair for each passenger\n",
    "                                                                    0, 0,\n",
    "                                                                    0, 1,\n",
    "                                                                    0, 2,\n",
    "                                                                    0, 3,\n",
    "                                                                    0, 4,\n",
    "                                                                    0, 5)"
   ]
  },
  {
   "cell_type": "markdown",
   "id": "68f6a3e3-5fea-4a3d-886c-89cc304c8f69",
   "metadata": {},
   "source": [
    "No matter how many times we reset the environment, the passengers will always spawn in their given initial locations. Rerun the cell below multiple times to convince yourself that is the case."
   ]
  },
  {
   "cell_type": "code",
   "execution_count": 63,
   "id": "d4e125e1-9057-44f8-b225-7accdc0bb0b1",
   "metadata": {
    "tags": []
   },
   "outputs": [
    {
     "name": "stdout",
     "output_type": "stream",
     "text": [
      "+-----------------------+\n",
      "|\u001B[33mP\u001B[0m:\u001B[31mP\u001B[0m|\u001B[47mP\u001B[0m:\u001B[32mP\u001B[0m|\u001B[36mP\u001B[0m:\u001B[34mP\u001B[0m| :\u001B[46m \u001B[0m|\u001B[31mD\u001B[0m: |F:\u001B[33mD\u001B[0m|\n",
      "| : | : : : | : | : | : |\n",
      "| :\u001B[32mD\u001B[0m: : : : : :\u001B[41m \u001B[0m: : :\u001B[44m \u001B[0m: |\n",
      "|\u001B[42m \u001B[0m: : :\u001B[37mD\u001B[0m: : | : : : : : |\n",
      "| : : : : : | : : : : : |\n",
      "| : :\u001B[34mD\u001B[0m: :\u001B[43m \u001B[0m: : : : : : : |\n",
      "| | :G| | | :G| | | : | |\n",
      "+-----------------------+\n",
      "Taxi0-YELLOW: Fuel: inf, Location: (5, 4), Engine: ON, Collided: False, Step: 0, ALIVE\n",
      "Taxi1-RED: Fuel: inf, Location: (2, 7), Engine: ON, Collided: False, Step: 0, ALIVE\n",
      "Taxi2-WHITE: Fuel: inf, Location: (0, 2), Engine: ON, Collided: False, Step: 0, ALIVE\n",
      "Taxi3-GREEN: Fuel: inf, Location: (3, 0), Engine: ON, Collided: False, Step: 0, ALIVE\n",
      "Taxi4-CYAN: Fuel: inf, Location: (0, 7), Engine: ON, Collided: False, Step: 0, ALIVE\n",
      "Taxi5-BLUE: Fuel: inf, Location: (2, 10), Engine: ON, Collided: False, Step: 0, ALIVE\n",
      "Passenger0-YELLOW: Location: (0, 0), Destination: (0, 11)\n",
      "Passenger1-RED: Location: (0, 1), Destination: (0, 8)\n",
      "Passenger2-WHITE: Location: (0, 2), Destination: (3, 3)\n",
      "Passenger3-GREEN: Location: (0, 3), Destination: (2, 1)\n",
      "Passenger4-CYAN: Location: (0, 4), Destination: (0, 5)\n",
      "Passenger5-BLUE: Location: (0, 5), Destination: (5, 2)\n",
      "Env done: False\n",
      "\n"
     ]
    }
   ],
   "source": [
    "fixed_passengers_env.reset()\n",
    "fixed_passengers_env.render()"
   ]
  },
  {
   "cell_type": "markdown",
   "id": "04c116ed-933c-4675-9f7b-6d9048f3556b",
   "metadata": {},
   "source": [
    "There are also wrappers for fixing passenger destinations and taxi locations."
   ]
  },
  {
   "cell_type": "code",
   "execution_count": 64,
   "id": "82f6c24a-b237-412a-b5cd-e87343e29be8",
   "metadata": {
    "tags": []
   },
   "outputs": [],
   "source": [
    "fixed_everything_env = wrappers.FixedPassengerDestinationsWrapper(fixed_passengers_env,\n",
    "                                                                  1, 0,\n",
    "                                                                  1, 1,\n",
    "                                                                  1, 2,\n",
    "                                                                  1, 3,\n",
    "                                                                  1, 4,\n",
    "                                                                  1, 5)\n",
    "fixed_everything_env = wrappers.FixedTaxiStartLocationsWrapper(fixed_everything_env,\n",
    "                                                               2, 0,\n",
    "                                                               2, 1,\n",
    "                                                               2, 2,\n",
    "                                                               2, 3,\n",
    "                                                               2, 4,\n",
    "                                                               2, 5)"
   ]
  },
  {
   "cell_type": "code",
   "execution_count": 65,
   "id": "39bbcd05-2640-4db9-8ff5-74904edda50e",
   "metadata": {
    "tags": []
   },
   "outputs": [
    {
     "name": "stdout",
     "output_type": "stream",
     "text": [
      "+-----------------------+\n",
      "|\u001B[33mP\u001B[0m:\u001B[31mP\u001B[0m|\u001B[37mP\u001B[0m:\u001B[32mP\u001B[0m|\u001B[36mP\u001B[0m:\u001B[34mP\u001B[0m| : | : |F: |\n",
      "|\u001B[33mD\u001B[0m:\u001B[31mD\u001B[0m|\u001B[37mD\u001B[0m:\u001B[32mD\u001B[0m:\u001B[36mD\u001B[0m:\u001B[34mD\u001B[0m| : | : | : |\n",
      "|\u001B[43m \u001B[0m:\u001B[41m \u001B[0m:\u001B[47m \u001B[0m:\u001B[42m \u001B[0m:\u001B[46m \u001B[0m:\u001B[44m \u001B[0m: : : : : : |\n",
      "| : : : : : | : : : : : |\n",
      "| : : : : : | : : : : : |\n",
      "| : : : : : : : : : : : |\n",
      "| | :G| | | :G| | | : | |\n",
      "+-----------------------+\n",
      "Taxi0-YELLOW: Fuel: inf, Location: (2, 0), Engine: ON, Collided: False, Step: 0, ALIVE\n",
      "Taxi1-RED: Fuel: inf, Location: (2, 1), Engine: ON, Collided: False, Step: 0, ALIVE\n",
      "Taxi2-WHITE: Fuel: inf, Location: (2, 2), Engine: ON, Collided: False, Step: 0, ALIVE\n",
      "Taxi3-GREEN: Fuel: inf, Location: (2, 3), Engine: ON, Collided: False, Step: 0, ALIVE\n",
      "Taxi4-CYAN: Fuel: inf, Location: (2, 4), Engine: ON, Collided: False, Step: 0, ALIVE\n",
      "Taxi5-BLUE: Fuel: inf, Location: (2, 5), Engine: ON, Collided: False, Step: 0, ALIVE\n",
      "Passenger0-YELLOW: Location: (0, 0), Destination: (1, 0)\n",
      "Passenger1-RED: Location: (0, 1), Destination: (1, 1)\n",
      "Passenger2-WHITE: Location: (0, 2), Destination: (1, 2)\n",
      "Passenger3-GREEN: Location: (0, 3), Destination: (1, 3)\n",
      "Passenger4-CYAN: Location: (0, 4), Destination: (1, 4)\n",
      "Passenger5-BLUE: Location: (0, 5), Destination: (1, 5)\n",
      "Env done: False\n",
      "\n"
     ]
    }
   ],
   "source": [
    "fixed_everything_env.reset()\n",
    "fixed_everything_env.render()"
   ]
  },
  {
   "cell_type": "markdown",
   "id": "c4d9a9f8-4d37-44b9-a567-5e5b0290842d",
   "metadata": {},
   "source": [
    "Note that these warppers will override the `allow_collided_taxis_on_reset` and `allow_arrived_passengers_on_reset` and parameters since all location sampling rules are completely ignored."
   ]
  }
 ],
 "metadata": {
  "kernelspec": {
   "display_name": "Python 3 (ipykernel)",
   "language": "python",
   "name": "python3"
  },
  "language_info": {
   "codemirror_mode": {
    "name": "ipython",
    "version": 3
   },
   "file_extension": ".py",
   "mimetype": "text/x-python",
   "name": "python",
   "nbconvert_exporter": "python",
   "pygments_lexer": "ipython3",
   "version": "3.9.16"
  }
 },
 "nbformat": 4,
 "nbformat_minor": 5
}
